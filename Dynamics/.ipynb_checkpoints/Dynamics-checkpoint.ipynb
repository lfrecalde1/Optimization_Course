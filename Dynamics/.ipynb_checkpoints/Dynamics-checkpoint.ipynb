{
 "cells": [
  {
   "cell_type": "code",
   "execution_count": 1,
   "id": "e04464c5-10b0-4ea3-97b7-29ae06aa90d4",
   "metadata": {},
   "outputs": [],
   "source": [
    "from IPython.display import HTML\n",
    "from IPython.display import display, Image"
   ]
  },
  {
   "cell_type": "markdown",
   "id": "3e9183f8-f092-4b05-99fb-2b1f96a2449e",
   "metadata": {},
   "source": [
    "<h1 align=\"center\" style=\"font-size: 35px;\"><font color=\"C1772D\"><strong>Aplicación del Control Óptimo en el Campo de la Robótica</strong></font></h1>\n",
    "\n",
    "<h2 align=\"center\"><font color=\"#667388\"><strong>Luis F. Recalde</strong><br>Ambato-Ecuador</font></h2>\n",
    "\n",
    "\n",
    "<h3 align=\"center\"><font color=\"#667388\">Universidad Indoamerica</font></h3>"
   ]
  },
  {
   "cell_type": "markdown",
   "id": "20416514-cab8-433f-bad7-9271ef22b1d0",
   "metadata": {},
   "source": [
    "<h3 align=\"left\" style=\"font-size: 30px;\"><font color=\"C1772D\"><strong>Sistemas Dinámicos</strong></font></h3>\n"
   ]
  },
  {
   "cell_type": "markdown",
   "id": "98346e0f-9c5d-4e59-887d-a12cd1db4dd5",
   "metadata": {},
   "source": [
    "<h3 align=\"left\" style=\"font-size: 20px;\"><font color=\"#667388\"><strong>Sistemas Dinámicos en tiempo continuo.</strong></font></h3>\n"
   ]
  },
  {
   "cell_type": "markdown",
   "id": "9eb0c87d-03da-4597-a8db-e84e99525517",
   "metadata": {},
   "source": [
    "<div style=\"text-align: justify; font-size: 20px;\">De manera general, podemos expresar un sistema dinámico actuado como</div>\n"
   ]
  },
  {
   "cell_type": "markdown",
   "id": "bd5b58e9-291c-48e9-af3b-8c6ce61cf1ae",
   "metadata": {},
   "source": [
    "<span style=\"font-size:1.4em;\">\n",
    "\\begin{equation}\n",
    "    \\dot{\\mathbf{x}} = \\mathbf{f}(\\mathbf{x}, \\mathbf{u})\n",
    "\\end{equation}\n",
    "</span>"
   ]
  },
  {
   "cell_type": "markdown",
   "id": "33e464ad-7bc2-44c0-a3e3-463cb89e0340",
   "metadata": {},
   "source": [
    "<div style=\"text-align: justify; font-size: 20px;\">donde $\\mathbf{x} \\in \\mathbb{R}^{n}$ representa el vector de estados del sistema, $\\mathbf{u} \\in \\mathbb{R}^{n}$ es el vector de acciones de control, y $\\mathbf{f}(\\cdot): \\mathbb{R}^{n} \\times \\mathbb{R}^{m} \\rightarrow \\mathbb{R}^{n}$ es un campo vectorial suave.</div>\n"
   ]
  },
  {
   "cell_type": "markdown",
   "id": "de3a80e8-84a9-4983-9bbf-dfaee515c723",
   "metadata": {},
   "source": [
    "<div class=\"alert alert-block alert-warning\" style=\"font-size: 16px;\">  \n",
    "<b>Nota:</b> Un campo vectorial no suave se presenta en sistemas con impactos o cambios en sus dinámicas, por ejemplo, un cuadrúpedo o un humanoide.\n",
    "</div>"
   ]
  },
  {
   "cell_type": "markdown",
   "id": "4bc3036f-798e-48bb-8c21-66afa088e058",
   "metadata": {},
   "source": [
    "<div style=\"text-align: justify; font-size: 20px;\">Por ejemplo, en el caso de un sistema mecánico, podemos representar el vector de estados como:</div>\n"
   ]
  },
  {
   "cell_type": "markdown",
   "id": "4b1f0658-42de-4b0e-9cc4-a8d947a932e7",
   "metadata": {},
   "source": [
    "<span style=\"font-size:1.4em;\">\n",
    "\\begin{equation}\n",
    "    {\\mathbf{x}} = \\begin{bmatrix} \\mathbf{q} & {\\mathbf{v}} \\end{bmatrix}^{T}\n",
    "\\end{equation}\n",
    "</span>"
   ]
  },
  {
   "cell_type": "markdown",
   "id": "4e8a1d95-5adb-47ef-bb30-ce9fbf50e6ad",
   "metadata": {},
   "source": [
    "<div style=\"text-align: justify; font-size: 20px;\">donde $\\mathbf{q}$ representa la configuración del sistema y $\\mathbf{v}$ es un vector de velocidades.</div>"
   ]
  },
  {
   "cell_type": "markdown",
   "id": "c8a673b1-a271-4b84-8011-364b51b63092",
   "metadata": {},
   "source": [
    "<div class=\"alert alert-block alert-warning\" style=\"font-size: 16px;\">  \n",
    "<b>Nota:</b> $\\mathbf{q}$ no siempre es un vector; por ejemplo, puede ser un cuaternión o una matriz de rotación.\n",
    "</div>"
   ]
  },
  {
   "cell_type": "markdown",
   "id": "8ffe62df-1d2b-4f51-a6fa-e44a04dbf91a",
   "metadata": {},
   "source": [
    "<h3 align=\"left\" style=\"font-size: 20px;\"><font color=#2D5AC1\"><strong>Pendulo Simple</strong></font></h3>\n"
   ]
  },
  {
   "cell_type": "markdown",
   "id": "7caa3f80-aae7-423e-9582-01c04048a524",
   "metadata": {},
   "source": [
    "<div style=\"text-align: justify; font-size: 20px;\">A continuación, se presenta la representación de un péndulo simple.</div>"
   ]
  },
  {
   "cell_type": "code",
   "execution_count": 2,
   "id": "74b3fbe6-a019-4417-834a-4c4712a0b002",
   "metadata": {},
   "outputs": [
    {
     "data": {
      "text/html": [
       "<div style=\"display: flex; justify-content: center;\"><img src=\"Pendulum.gif\"></div>"
      ],
      "text/plain": [
       "<IPython.core.display.HTML object>"
      ]
     },
     "execution_count": 2,
     "metadata": {},
     "output_type": "execute_result"
    }
   ],
   "source": [
    "# Replace 'path/to/your/animated.gif' with the actual path to your gif file\n",
    "gif_path = 'Pendulum.gif'\n",
    "\n",
    "# Display the centered gif in the Jupyter Notebook\n",
    "centered_gif_code = f'<div style=\"display: flex; justify-content: center;\"><img src=\"{gif_path}\"></div>'\n",
    "HTML(centered_gif_code)"
   ]
  },
  {
   "cell_type": "markdown",
   "id": "8452477c-4139-4108-8dfb-ea18e9800c26",
   "metadata": {},
   "source": [
    "<div style=\"text-align: justify; font-size: 20px;\">Adicionalmente, se presenta el modelo dinámico de dicho sistema, considerando que hay un actuador en la junta del péndulo $\\tau$ y que es posible aplicar un torque en esa parte.</div>"
   ]
  },
  {
   "cell_type": "markdown",
   "id": "72c8f337-8507-47e6-b915-5d24273116d8",
   "metadata": {},
   "source": [
    "<span style=\"font-size:1.4em;\">\n",
    "\\begin{equation}\n",
    "   m l^2 \\ddot{\\theta} + m g l \\sin{(\\theta)} = \\tau\n",
    "\\end{equation}\n",
    "</span>"
   ]
  },
  {
   "cell_type": "markdown",
   "id": "89adb610-e993-4d21-a7f9-3ffb8f4322fc",
   "metadata": {},
   "source": [
    "<div style=\"text-align: justify; font-size: 20px;\">donde $m$ es la masa del péndulo y $l$ es la longitud del péndulo. Por otro lado, la gravedad está representada por $g$. Finalmente, el desplazamiento angular, la velocidad y la aceleración están representados por $\\theta$, $\\dot{\\theta}$ y $\\ddot{\\theta}$, respectivamente.</div>"
   ]
  },
  {
   "cell_type": "markdown",
   "id": "dfdc2646-4980-4002-9df3-2782145639ec",
   "metadata": {},
   "source": [
    "<div style=\"text-align: justify; font-size: 20px;\">A partir del modelo presentado, podemos obtener el estado de configuración del sistema $\\mathbf{q}$, el vector de velocidades $\\mathbf{v}$ y la acción de control $\\mathbf{u}$, lo que resulta en: </div>"
   ]
  },
  {
   "cell_type": "markdown",
   "id": "901858d9-b76c-4785-ae42-e5ea8dae613d",
   "metadata": {},
   "source": [
    "<span style=\"font-size:1.4em;\">\n",
    "\\begin{equation}\n",
    "   \\mathbf{q} = \\theta,~\\mathbf{v} = \\dot{\\theta},~\\mathbf{u} = \\tau\n",
    "\\end{equation}\n",
    "</span>"
   ]
  },
  {
   "cell_type": "markdown",
   "id": "7a9b1612-57f7-4db8-839c-dbeab930d5ed",
   "metadata": {},
   "source": [
    "<div class=\"alert alert-block alert-warning\" style=\"font-size: 16px;\">  \n",
    "<b>Nota:</b> En este ejemplo, \\(\\mathbf{v} = \\dot{\\theta}\\); sin embargo, en otras ocasiones se puede llegar a incluir la cinemática diferencial, dependiendo del problema.\n",
    "</div>"
   ]
  },
  {
   "cell_type": "markdown",
   "id": "6a5fcf27-0307-49c8-b24d-bbb8e8f75cb0",
   "metadata": {},
   "source": [
    "<div style=\"text-align: justify; font-size: 20px;\">Por lo tanto, el vector de estados del sistema puede ser expresado como:</div>"
   ]
  },
  {
   "cell_type": "markdown",
   "id": "7e4870e4-ab91-4ce8-9f58-c013d4e33def",
   "metadata": {},
   "source": [
    "<span style=\"font-size:1.4em;\">\n",
    "\\begin{equation}\n",
    "    {\\mathbf{x}} = \\begin{bmatrix} \\theta \\\\ \\dot{\\theta} \\end{bmatrix}\n",
    "\\end{equation}\n",
    "</span>"
   ]
  },
  {
   "cell_type": "markdown",
   "id": "f06444b8-0c6c-4a2a-8484-416895bc7017",
   "metadata": {},
   "source": [
    "<div style=\"text-align: justify; font-size: 20px;\">Donde la derivada temporal del vector de estados puede expresarse como:</div>"
   ]
  },
  {
   "cell_type": "markdown",
   "id": "399c3908-acd3-49ce-8502-b603efca2ef7",
   "metadata": {},
   "source": [
    "<span style=\"font-size:1.4em;\">\n",
    "\\begin{equation}\n",
    "    \\dot{\\mathbf{x}} = \\begin{bmatrix} \\dot\\theta \\\\ \\ddot{\\theta} \\end{bmatrix} = \\begin{bmatrix} \\dot\\theta \\\\ \\frac{g}{l}\\sin{(\\theta)} + \\frac{1}{m l^2} u\\end{bmatrix} \n",
    "\\end{equation}\n",
    "</span>"
   ]
  },
  {
   "cell_type": "markdown",
   "id": "30d4f1a6-00fb-422c-b291-74a5d49c5502",
   "metadata": {},
   "source": [
    "<div style=\"text-align: justify; font-size: 20px;\">De lo que se puede aprecial que el operador $\\mathbf{f}(\\cdot)$ queda definido por</div>"
   ]
  },
  {
   "cell_type": "markdown",
   "id": "b2fac6ea-f3b7-4766-b608-7fef44d566ca",
   "metadata": {},
   "source": [
    "<span style=\"font-size:1.4em;\">\n",
    "\\begin{equation}\n",
    "    \\mathbf{f}(\\mathbf{x},\\mathbf{u})~= \\begin{bmatrix} \\dot\\theta \\\\ \\frac{g}{l}\\sin{(\\theta)} + \\frac{1}{m l^2} u\\end{bmatrix} \n",
    "\\end{equation}\n",
    "</span>"
   ]
  },
  {
   "cell_type": "markdown",
   "id": "fab1565a-53b9-46b0-abf8-8cfaabfd695d",
   "metadata": {},
   "source": [
    "<div class=\"alert alert-block alert-success\" style=\"font-size: 16px;\">  \n",
    "<b>Nota:</b> El vector de estados se encuentra en $\\mathbb{R}$?\n",
    "</div>"
   ]
  },
  {
   "cell_type": "markdown",
   "id": "4a655026-48c7-450e-b9c4-272e50058f6c",
   "metadata": {},
   "source": [
    "<div class=\"alert alert-block alert-warning\" style=\"font-size: 16px;\">  \n",
    "<b>Nota:</b> En realidad, $\\theta$ no es un vector unidimensional que se extienda sobre una línea, el cual se puede llamar el 'configuration manifold' o, en realidad, un círculo matemáticamente expresado como $\\mathbb{S}^{1}$ para este caso.</div>"
   ]
  },
  {
   "cell_type": "markdown",
   "id": "45b4f1d5-980a-4449-b29d-297bcc122243",
   "metadata": {},
   "source": [
    " <div class=\"alert alert-block alert-success\" style=\"font-size: 16px;\">  \n",
    "<b>Nota:</b> El vector de velocidades se encuentra en $\\mathbb{R}$?\n",
    "</div>"
   ]
  },
  {
   "cell_type": "code",
   "execution_count": null,
   "id": "5f61d044-b7da-4666-8282-c72f8ae9349a",
   "metadata": {},
   "outputs": [],
   "source": []
  }
 ],
 "metadata": {
  "kernelspec": {
   "display_name": "Python 3 (ipykernel)",
   "language": "python",
   "name": "python3"
  },
  "language_info": {
   "codemirror_mode": {
    "name": "ipython",
    "version": 3
   },
   "file_extension": ".py",
   "mimetype": "text/x-python",
   "name": "python",
   "nbconvert_exporter": "python",
   "pygments_lexer": "ipython3",
   "version": "3.8.18"
  }
 },
 "nbformat": 4,
 "nbformat_minor": 5
}
