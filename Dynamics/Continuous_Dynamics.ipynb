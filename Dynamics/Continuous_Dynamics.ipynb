{
 "cells": [
  {
   "cell_type": "code",
   "execution_count": 11,
   "id": "e04464c5-10b0-4ea3-97b7-29ae06aa90d4",
   "metadata": {},
   "outputs": [],
   "source": [
    "from IPython.display import HTML\n",
    "from IPython.display import display, Image\n",
    "import numpy as np\n",
    "from numpy import linalg as LA"
   ]
  },
  {
   "cell_type": "markdown",
   "id": "3e9183f8-f092-4b05-99fb-2b1f96a2449e",
   "metadata": {},
   "source": [
    "<h1 align=\"center\" style=\"font-size: 35px;\"><font color=\"C1772D\"><strong>Aplicación del Control Óptimo en el Campo de la Robótica</strong></font></h1>\n",
    "\n",
    "<h2 align=\"center\"><font color=\"#667388\"><strong>Luis F. Recalde</strong><br>Ambato-Ecuador</font></h2>\n",
    "\n",
    "\n",
    "<h3 align=\"center\"><font color=\"#667388\"><strong>Universidad Indoamerica</strong></font></h3>"
   ]
  },
  {
   "cell_type": "markdown",
   "id": "20416514-cab8-433f-bad7-9271ef22b1d0",
   "metadata": {},
   "source": [
    "<h3 align=\"left\" style=\"font-size: 30px;\"><font color=\"C1772D\"><strong>Sistemas Dinámicos</strong></font></h3>\n"
   ]
  },
  {
   "cell_type": "markdown",
   "id": "98346e0f-9c5d-4e59-887d-a12cd1db4dd5",
   "metadata": {},
   "source": [
    "<h3 align=\"left\" style=\"font-size: 20px;\"><font color=\"#667388\"><strong>Sistemas Dinámicos en tiempo continuo.</strong></font></h3>\n"
   ]
  },
  {
   "cell_type": "markdown",
   "id": "9eb0c87d-03da-4597-a8db-e84e99525517",
   "metadata": {},
   "source": [
    "<div style=\"text-align: justify; font-size: 20px;\">De manera general, podemos expresar un sistema dinámico actuado como</div>\n"
   ]
  },
  {
   "cell_type": "markdown",
   "id": "bd5b58e9-291c-48e9-af3b-8c6ce61cf1ae",
   "metadata": {},
   "source": [
    "<span style=\"font-size:1.4em;\">\n",
    "\\begin{equation}\n",
    "    \\dot{\\mathbf{x}} = \\mathbf{f}(\\mathbf{x}, \\mathbf{u})\n",
    "\\end{equation}\n",
    "</span>"
   ]
  },
  {
   "cell_type": "markdown",
   "id": "33e464ad-7bc2-44c0-a3e3-463cb89e0340",
   "metadata": {},
   "source": [
    "<div style=\"text-align: justify; font-size: 20px;\">donde $\\mathbf{x} \\in \\mathbb{R}^{n}$ representa el vector de estados del sistema, $\\mathbf{u} \\in \\mathbb{R}^{n}$ es el vector de acciones de control, y $\\mathbf{f}(\\cdot): \\mathbb{R}^{n} \\times \\mathbb{R}^{m} \\rightarrow \\mathbb{R}^{n}$ es un campo vectorial suave.</div>\n"
   ]
  },
  {
   "cell_type": "markdown",
   "id": "de3a80e8-84a9-4983-9bbf-dfaee515c723",
   "metadata": {},
   "source": [
    "<div class=\"alert alert-block alert-warning\" style=\"font-size: 16px;\">  \n",
    "<b>Nota:</b> Un campo vectorial no suave se presenta en sistemas con impactos o cambios en sus dinámicas, por ejemplo, un cuadrúpedo o un humanoide.\n",
    "</div>"
   ]
  },
  {
   "cell_type": "markdown",
   "id": "4bc3036f-798e-48bb-8c21-66afa088e058",
   "metadata": {},
   "source": [
    "<div style=\"text-align: justify; font-size: 20px;\">Por ejemplo, en el caso de un sistema mecánico, podemos representar el vector de estados como:</div>\n"
   ]
  },
  {
   "cell_type": "markdown",
   "id": "4b1f0658-42de-4b0e-9cc4-a8d947a932e7",
   "metadata": {},
   "source": [
    "<span style=\"font-size:1.4em;\">\n",
    "\\begin{equation}\n",
    "    {\\mathbf{x}} = \\begin{bmatrix} \\mathbf{q} & {\\mathbf{v}} \\end{bmatrix}^{T}\n",
    "\\end{equation}\n",
    "</span>"
   ]
  },
  {
   "cell_type": "markdown",
   "id": "4e8a1d95-5adb-47ef-bb30-ce9fbf50e6ad",
   "metadata": {},
   "source": [
    "<div style=\"text-align: justify; font-size: 20px;\">donde $\\mathbf{q}$ representa la configuración del sistema y $\\mathbf{v}$ es un vector de velocidades.</div>"
   ]
  },
  {
   "cell_type": "markdown",
   "id": "c8a673b1-a271-4b84-8011-364b51b63092",
   "metadata": {},
   "source": [
    "<div class=\"alert alert-block alert-warning\" style=\"font-size: 16px;\">  \n",
    "<b>Nota:</b> $\\mathbf{q}$ no siempre es un vector; por ejemplo, puede ser un cuaternión o una matriz de rotación.\n",
    "</div>"
   ]
  },
  {
   "cell_type": "markdown",
   "id": "8ffe62df-1d2b-4f51-a6fa-e44a04dbf91a",
   "metadata": {},
   "source": [
    "<h3 align=\"left\" style=\"font-size: 20px;\"><font color=\"#2D5AC1\"><strong>Pendulo Simple</strong></font></h3>\n"
   ]
  },
  {
   "cell_type": "markdown",
   "id": "7caa3f80-aae7-423e-9582-01c04048a524",
   "metadata": {},
   "source": [
    "<div style=\"text-align: justify; font-size: 20px;\">A continuación, se presenta la representación de un péndulo simple.</div>"
   ]
  },
  {
   "cell_type": "code",
   "execution_count": 2,
   "id": "74b3fbe6-a019-4417-834a-4c4712a0b002",
   "metadata": {},
   "outputs": [
    {
     "data": {
      "text/html": [
       "<div style=\"display: flex; justify-content: center;\"><img src=\"Pendulum.gif\"></div>"
      ],
      "text/plain": [
       "<IPython.core.display.HTML object>"
      ]
     },
     "execution_count": 2,
     "metadata": {},
     "output_type": "execute_result"
    }
   ],
   "source": [
    "# Replace 'path/to/your/animated.gif' with the actual path to your gif file\n",
    "gif_path = 'Pendulum.gif'\n",
    "\n",
    "# Display the centered gif in the Jupyter Notebook\n",
    "centered_gif_code = f'<div style=\"display: flex; justify-content: center;\"><img src=\"{gif_path}\"></div>'\n",
    "HTML(centered_gif_code)"
   ]
  },
  {
   "cell_type": "markdown",
   "id": "8452477c-4139-4108-8dfb-ea18e9800c26",
   "metadata": {},
   "source": [
    "<div style=\"text-align: justify; font-size: 20px;\">Adicionalmente, se presenta el modelo dinámico de dicho sistema, considerando que hay un actuador en la junta del péndulo $\\tau$ y que es posible aplicar un torque en esa parte.</div>"
   ]
  },
  {
   "cell_type": "markdown",
   "id": "72c8f337-8507-47e6-b915-5d24273116d8",
   "metadata": {},
   "source": [
    "<span style=\"font-size:1.4em;\">\n",
    "\\begin{equation}\n",
    "   m l^2 \\ddot{\\theta} + m g l \\sin{(\\theta)} = \\tau\n",
    "\\end{equation}\n",
    "</span>"
   ]
  },
  {
   "cell_type": "markdown",
   "id": "89adb610-e993-4d21-a7f9-3ffb8f4322fc",
   "metadata": {},
   "source": [
    "<div style=\"text-align: justify; font-size: 20px;\">donde $m$ es la masa del péndulo y $l$ es la longitud del péndulo. Por otro lado, la gravedad está representada por $g$. Finalmente, el desplazamiento angular, la velocidad y la aceleración están representados por $\\theta$, $\\dot{\\theta}$ y $\\ddot{\\theta}$, respectivamente.</div>"
   ]
  },
  {
   "cell_type": "markdown",
   "id": "dfdc2646-4980-4002-9df3-2782145639ec",
   "metadata": {},
   "source": [
    "<div style=\"text-align: justify; font-size: 20px;\">A partir del modelo presentado, podemos obtener el estado de configuración del sistema $\\mathbf{q}$, el vector de velocidades $\\mathbf{v}$ y la acción de control $\\mathbf{u}$, lo que resulta en: </div>"
   ]
  },
  {
   "cell_type": "markdown",
   "id": "901858d9-b76c-4785-ae42-e5ea8dae613d",
   "metadata": {},
   "source": [
    "<span style=\"font-size:1.4em;\">\n",
    "\\begin{equation}\n",
    "   \\mathbf{q} = \\theta,~\\mathbf{v} = \\dot{\\theta},~\\mathbf{u} = \\tau\n",
    "\\end{equation}\n",
    "</span>"
   ]
  },
  {
   "cell_type": "markdown",
   "id": "7a9b1612-57f7-4db8-839c-dbeab930d5ed",
   "metadata": {},
   "source": [
    "<div class=\"alert alert-block alert-warning\" style=\"font-size: 16px;\">  \n",
    "<b>Nota:</b> En este ejemplo, \\(\\mathbf{v} = \\dot{\\theta}\\); sin embargo, en otras ocasiones se puede llegar a incluir la cinemática diferencial, dependiendo del problema.\n",
    "</div>"
   ]
  },
  {
   "cell_type": "markdown",
   "id": "6a5fcf27-0307-49c8-b24d-bbb8e8f75cb0",
   "metadata": {},
   "source": [
    "<div style=\"text-align: justify; font-size: 20px;\">Por lo tanto, el vector de estados del sistema puede ser expresado como:</div>"
   ]
  },
  {
   "cell_type": "markdown",
   "id": "7e4870e4-ab91-4ce8-9f58-c013d4e33def",
   "metadata": {},
   "source": [
    "<span style=\"font-size:1.4em;\">\n",
    "\\begin{equation}\n",
    "    {\\mathbf{x}} = \\begin{bmatrix} \\theta \\\\ \\dot{\\theta} \\end{bmatrix}\n",
    "\\end{equation}\n",
    "</span>"
   ]
  },
  {
   "cell_type": "markdown",
   "id": "f06444b8-0c6c-4a2a-8484-416895bc7017",
   "metadata": {},
   "source": [
    "<div style=\"text-align: justify; font-size: 20px;\">Donde la derivada temporal del vector de estados puede expresarse como:</div>"
   ]
  },
  {
   "cell_type": "markdown",
   "id": "399c3908-acd3-49ce-8502-b603efca2ef7",
   "metadata": {},
   "source": [
    "<span style=\"font-size:1.4em;\">\n",
    "\\begin{equation}\n",
    "    \\dot{\\mathbf{x}} = \\begin{bmatrix} \\dot\\theta \\\\ \\ddot{\\theta} \\end{bmatrix} = \\begin{bmatrix} \\dot\\theta \\\\ -\\frac{g}{l}\\sin{(\\theta)} + \\frac{1}{m l^2} u\\end{bmatrix} =\\begin{bmatrix} \\mathbf{v} \\\\ -\\frac{g}{l}\\sin{(\\mathbf{q})} + \\frac{1}{m l^2} \\mathbf{u}\\end{bmatrix} \n",
    "\\end{equation}\n",
    "</span>"
   ]
  },
  {
   "cell_type": "markdown",
   "id": "30d4f1a6-00fb-422c-b291-74a5d49c5502",
   "metadata": {},
   "source": [
    "<div style=\"text-align: justify; font-size: 20px;\">De lo que se puede aprecial que el operador $\\mathbf{f}(\\cdot)$ queda definido por</div>"
   ]
  },
  {
   "cell_type": "markdown",
   "id": "7b32dde4-9416-442b-bf89-874de3bf8725",
   "metadata": {},
   "source": [
    "<span style=\"font-size:1.4em;\">\n",
    "\\begin{equation}\n",
    "    \\dot{\\mathbf{x}} = \\mathbf{f}(\\mathbf{x}, \\mathbf{u})\n",
    "\\end{equation}\n",
    "</span>"
   ]
  },
  {
   "cell_type": "markdown",
   "id": "b2fac6ea-f3b7-4766-b608-7fef44d566ca",
   "metadata": {},
   "source": [
    "<span style=\"font-size:1.4em;\">\n",
    "\\begin{equation}\n",
    "    \\mathbf{f}(\\mathbf{x},\\mathbf{u})~= \\begin{bmatrix} \\mathbf{v} \\\\ -\\frac{g}{l}\\sin{(\\mathbf{q})} + \\frac{1}{m l^2} \\mathbf{u}\\end{bmatrix} \n",
    "\\end{equation}\n",
    "</span>"
   ]
  },
  {
   "cell_type": "markdown",
   "id": "fab1565a-53b9-46b0-abf8-8cfaabfd695d",
   "metadata": {},
   "source": [
    "<div class=\"alert alert-block alert-success\" style=\"font-size: 16px;\">  \n",
    "<b>Nota:</b> El vector de estados se encuentra en $\\mathbb{R}$, es un vector?\n",
    "</div>"
   ]
  },
  {
   "cell_type": "markdown",
   "id": "4a655026-48c7-450e-b9c4-272e50058f6c",
   "metadata": {},
   "source": [
    "<div class=\"alert alert-block alert-warning\" style=\"font-size: 16px;\">  \n",
    "<b>Nota:</b> En realidad, $\\theta$ no es un vector unidimensional que se extienda sobre una línea. El cual se puede llamar 'configuration manifold', que en realidad es un círculo matemáticamente expresado como $\\mathbb{S}^{1}$ para este caso. Por lo tanto $\\mathbf{q} \\in \\mathbb{S}^{1}$</div>"
   ]
  },
  {
   "cell_type": "markdown",
   "id": "45b4f1d5-980a-4449-b29d-297bcc122243",
   "metadata": {},
   "source": [
    " <div class=\"alert alert-block alert-success\" style=\"font-size: 16px;\">  \n",
    "<b>Nota:</b> El vector de velocidades se encuentra en $\\mathbb{R}$, es un vector?\n",
    "</div>"
   ]
  },
  {
   "cell_type": "markdown",
   "id": "050f4545-495a-4e8d-84dd-906a3dbecfd1",
   "metadata": {},
   "source": [
    "<div class=\"alert alert-block alert-warning\" style=\"font-size: 16px;\">  \n",
    "<b>Nota:</b>Las velocidades son siempre vectores debido a su definición de derivada. Las velocidades siempre se encuentran en la línea o plano tangencial. Por lo tanto, \\(\\mathbf{v} \\in \\mathbb{R}\\).</div>"
   ]
  },
  {
   "cell_type": "markdown",
   "id": "9d4b70be-c8ec-4800-9206-0a7365dbb74c",
   "metadata": {},
   "source": [
    "<div style=\"text-align: justify; font-size: 20px;\">Por lo tanto, se puede concluir que el vector de estado \\(\\mathbf{x} \\in \\mathbb{S}^{1} \\times \\mathbb{R}\\).</div>"
   ]
  },
  {
   "cell_type": "markdown",
   "id": "c575f9dc-550e-4102-8022-cec04f11738c",
   "metadata": {},
   "source": [
    "<h3 align=\"left\" style=\"font-size: 30px;\"><font color=\"C1772D\"><strong>Tipos de Sistemas Dinámicos</strong></font></h3>\n"
   ]
  },
  {
   "cell_type": "markdown",
   "id": "9949824e-8ac2-4264-9e2c-5d74ea8b8867",
   "metadata": {},
   "source": [
    "<h3 align=\"left\" style=\"font-size: 20px;\"><font color=\"#667388\"><strong>Dinamicas Control affine</strong></font></h3>\n"
   ]
  },
  {
   "cell_type": "markdown",
   "id": "882f1b1a-7147-47b8-8135-cb7b0aadcf96",
   "metadata": {},
   "source": [
    "<div style=\"text-align: justify; font-size: 20px;\">Este tipo de sistemas dinámicos también son no lineales; sin embargo, su modelo es lineal en la acción de control $\\mathbf{u}$, lo cual resulta en la siguiente representación.</div>\n"
   ]
  },
  {
   "cell_type": "markdown",
   "id": "a46cf254-38f8-4a1e-9a4e-e000bd7908a5",
   "metadata": {},
   "source": [
    "<span style=\"font-size:1.4em;\">\n",
    "\\begin{equation}\n",
    "    \\dot{\\mathbf{x}} = \\mathbf{f}_1(\\mathbf{x}) + \\mathbf{f}_2(\\mathbf{x}) \\mathbf{u}\n",
    "\\end{equation}\n",
    "</span>"
   ]
  },
  {
   "cell_type": "markdown",
   "id": "686122ca-66e8-49b5-98b7-67995657bba1",
   "metadata": {},
   "source": [
    "<div style=\"text-align: justify; font-size: 20px;\">En este contexto, $\\mathbf{f}_1(\\mathbf{x})$ se conoce como \"Drift,\" mientras que $\\mathbf{f}_2(\\mathbf{x})$ se denomina \"Input Jacobian.\"</div>\n"
   ]
  },
  {
   "cell_type": "markdown",
   "id": "cdf2bdde-69fa-492a-ac95-2774ef68c639",
   "metadata": {},
   "source": [
    "<div style=\"text-align: justify; font-size: 20px;\">Esta formulación es más común de lo que se imaginan. Básicamente, cualquier sistema suave (\"smooth system\") o sistema robótico se puede expresar de esta forma.</div>"
   ]
  },
  {
   "cell_type": "markdown",
   "id": "9388fbfd-0228-4d63-b6a3-08619602b01d",
   "metadata": {},
   "source": [
    "<h3 align=\"left\" style=\"font-size: 20px;\"><font color=\"#2D5AC1\"><strong>Pendulo Simple</strong></font></h3>\n"
   ]
  },
  {
   "cell_type": "markdown",
   "id": "dd346d91-33c0-47e2-ba5a-104e3c6e1d69",
   "metadata": {},
   "source": [
    "<div style=\"text-align: justify; font-size: 20px;\">A continuación, se presenta la representación de un péndulo simple en la forma de un sistema \"Control Affine\".</div>\n"
   ]
  },
  {
   "cell_type": "markdown",
   "id": "06829b9b-392c-4899-b60f-2567315030b3",
   "metadata": {},
   "source": [
    "<span style=\"font-size:1.4em;\">\n",
    "\\begin{equation}\n",
    "    \\mathbf{f}_1(\\mathbf{x})~= \\begin{bmatrix} \\dot\\theta \\\\ -\\frac{g}{l}\\sin{(\\theta)} \\end{bmatrix}, ~ \\mathbf{f}_2(\\mathbf{x})~= \\begin{bmatrix} 0 \\\\ \\frac{1}{m l^2} \\end{bmatrix} \n",
    "\\end{equation}\n",
    "</span>"
   ]
  },
  {
   "cell_type": "markdown",
   "id": "0c33cba1-7c1a-48b1-8e72-fa2555964cb9",
   "metadata": {},
   "source": [
    "<div class=\"alert alert-block alert-warning\" style=\"font-size: 16px;\">  \n",
    "  <b>Nota:</b> Bajo la formulación de \"Control Affine,\" se encuentran varias expresiones de control estrechamente relacionadas con la teoría de control basado en funciones de Lyapunov.\n",
    "</div>"
   ]
  },
  {
   "cell_type": "markdown",
   "id": "c39046b8-0392-4e14-97f5-fa194bfa1ee8",
   "metadata": {},
   "source": [
    "<h3 align=\"left\" style=\"font-size: 20px;\"><font color=\"#667388\"><strong>Dinamicas de Manipuladores Roboticos</strong></font></h3>\n"
   ]
  },
  {
   "cell_type": "markdown",
   "id": "3ce59c34-11f5-483c-82d9-307683d51de8",
   "metadata": {},
   "source": [
    "<div style=\"text-align: justify; font-size: 20px;\">La dinámica de un manipulador robótico o sistema mecánico en general puede ser expresada de la siguiente forma:</div>"
   ]
  },
  {
   "cell_type": "markdown",
   "id": "5725c3a2-28c3-446b-9588-3aa31d761f09",
   "metadata": {},
   "source": [
    "<span style=\"font-size:1.4em;\">\n",
    "\\begin{equation}\n",
    " \\mathbf{B}(\\mathbf{q}) \\mathbf{\\tau} = \\mathbf{M}(\\mathbf{q}) \\dot{\\mathbf{v}} + \\mathbf{C}(\\mathbf{q}, \\mathbf{v})  + \\mathbf{g}(\\mathbf{q})\n",
    "    \\end{equation}\n",
    "</span>"
   ]
  },
  {
   "cell_type": "markdown",
   "id": "584f1402-595c-42e3-9f39-17df10f5d33d",
   "metadata": {},
   "source": [
    "<div style=\"text-align: justify; font-size: 20px;\">Donde $\\mathbf{M}(\\mathbf{q})$ es la matriz de masas e inercias o \"Generalized Inertia Tensor\", $\\mathbf{C}(\\mathbf{q}, \\mathbf{v})$ es el vector de Coriolis, y $\\mathbf{g}(\\mathbf{q})$ es el vector gravitacional.</div>\n",
    "<div style=\"text-align: justify; font-size: 20px;\">Finalmente, $\\mathbf{B}(\\mathbf{q})$ es conocida como \"Input Jacobian\"</div>\n"
   ]
  },
  {
   "cell_type": "markdown",
   "id": "768571ad-f6ba-4460-8481-b3470adfacfd",
   "metadata": {},
   "source": [
    "<div class=\"alert alert-block alert-warning\" style=\"font-size: 16px;\">  \n",
    "  <b>Nota:</b>La dinámica de manipuladores pertenece a sistemas del tipo 'Control Affine'.\n",
    "</div>"
   ]
  },
  {
   "cell_type": "markdown",
   "id": "ff0e029c-2340-42dc-9f68-b1299ecc4fc9",
   "metadata": {},
   "source": [
    "<div class=\"alert alert-block alert-warning\" style=\"font-size: 16px;\">  \n",
    "  <b>Nota:</b> ¿Cómo se puede obtener la dinámica de un manipulador robótico o sistema mecánico en general?\n",
    "</div>"
   ]
  },
  {
   "cell_type": "markdown",
   "id": "62858c3e-01b3-47a2-b759-049d35dc01c4",
   "metadata": {},
   "source": [
    "<h3 align=\"left\" style=\"font-size: 20px;\"><font color=\"#2D5AC1\"><strong>Pendulo Simple</strong></font></h3>\n"
   ]
  },
  {
   "cell_type": "markdown",
   "id": "c15c4b87-96c8-43a7-85ce-2c7f7a7545da",
   "metadata": {},
   "source": [
    "<div style=\"text-align: justify; font-size: 20px;\">El péndulo simple también puede expresarse de esta manera, teniendo en cuenta que:</div>\n"
   ]
  },
  {
   "cell_type": "markdown",
   "id": "3778a755-8a47-47f5-8bed-2328172415a1",
   "metadata": {},
   "source": [
    "<span style=\"font-size:1.4em;\">\n",
    "\\begin{equation}\n",
    "\\mathbf{M}(\\mathbf{q})=m l^2 ,  \\mathbf{g}(\\mathbf{q}) = m g l \\sin{(\\theta)} ,  \\mathbf{B}(\\mathbf{q}) = 1\n",
    "    \\end{equation}\n",
    "</span>"
   ]
  },
  {
   "cell_type": "markdown",
   "id": "94bbc890-4968-406e-9273-39547eb09658",
   "metadata": {},
   "source": [
    "<span style=\"font-size:1.4em;\">\n",
    "\\begin{equation}\n",
    "    \\mathbf{f}(\\mathbf{x},\\mathbf{u})~= \\begin{bmatrix} \\mathbf{v} \\\\ \\mathbf{M}(\\mathbf{q})^{-1}(\\mathbf{B}(\\mathbf{q})\\mathbf{u}- \\mathbf{g}(\\mathbf{q}))\\end{bmatrix} \n",
    "\\end{equation}\n",
    "</span>"
   ]
  },
  {
   "cell_type": "markdown",
   "id": "60e43431-62b7-4938-9e0b-a319605a0d52",
   "metadata": {},
   "source": [
    "<h3 align=\"left\" style=\"font-size: 20px;\"><font color=\"#667388\"><strong>Sistemas Lineales</strong></font></h3>\n"
   ]
  },
  {
   "cell_type": "markdown",
   "id": "d14b3335-fa05-47a0-905e-f8d1318422bc",
   "metadata": {},
   "source": [
    "<div style=\"text-align: justify; font-size: 20px;\">Los sistemas lineles pueden ser expresados de la siguiente forma:</div>\n"
   ]
  },
  {
   "cell_type": "markdown",
   "id": "d4cd9f3f-b164-4bef-90fd-df1ae1ccde14",
   "metadata": {},
   "source": [
    "<span style=\"font-size:1.4em;\">\n",
    "\\begin{equation}\n",
    "    \\dot{\\mathbf{x}} = \\mathbf{A}(t)\\mathbf{x} + \\mathbf{B}(t)\\mathbf{u}\n",
    "\\end{equation}\n",
    "</span>"
   ]
  },
  {
   "cell_type": "markdown",
   "id": "bc9aafff-2255-4ecd-ac94-9a1d35b5b264",
   "metadata": {},
   "source": [
    "<div style=\"text-align: justify; font-size: 20px;\">Esta representación es lineal en ambos términos, $\\mathbf{x}$ y $\\mathbf{u}$.</div>\n",
    "<div style=\"text-align: justify; font-size: 20px;\">Además, las matrices $\\mathbf{A}$ y $\\mathbf{B}$ pueden contener términos dependientes del tiempo o ser linearizaciones del modelo original.</div>\n"
   ]
  },
  {
   "cell_type": "markdown",
   "id": "1a506e8c-095f-432b-b930-6b2b0c11bdf6",
   "metadata": {},
   "source": [
    "<div class=\"alert alert-block alert-warning\" style=\"font-size: 16px;\">  \n",
    "<b>Nota:</b> Gran parte de la teoría de control clásica se ha desarrollado principalmente para sistemas lineales. La razón detrás de esto radica en la solubilidad analítica y la simplicidad matemática que ofrecen los sistemas lineales en comparación con los sistemas no lineales</div>"
   ]
  },
  {
   "cell_type": "markdown",
   "id": "a0052085-df14-4362-90ee-1b321223475f",
   "metadata": {},
   "source": [
    "<div class=\"alert alert-block alert-warning\" style=\"font-size: 16px;\">  \n",
    "<b>Nota:</b> En general se puede aproximar sistemas no lineales en sistemas lineales tal que: $\\dot{\\mathbf{x}} = \\mathbf{f}(\\mathbf{x}, \\mathbf{u}) \\Rightarrow \\mathbf{A} = \\frac{\\partial \\mathbf{f}}{\\partial \\mathbf{x}},  \\mathbf{B} = \\frac{\\partial \\mathbf{f}}{\\partial \\mathbf{u}}$ es valido en una vencidad de linealizacion</div>"
   ]
  },
  {
   "cell_type": "markdown",
   "id": "24e14163-6e9f-467f-9781-b5207ab02643",
   "metadata": {},
   "source": [
    "<h3 align=\"left\" style=\"font-size: 30px;\"><font color=\"C1772D\"><strong>Puntos De Equilibrio</strong></font></h3>\n"
   ]
  },
  {
   "cell_type": "markdown",
   "id": "3ba95a44-346c-4d5b-9069-b368f30bd372",
   "metadata": {},
   "source": [
    "<div style=\"text-align: justify; font-size: 20px;\">Una forma intuitiva de describir este concepto es el lugar donde el sistema puede permanecer indefinidamente, lo cual se puede expresar de la siguiente manera:</div>\n"
   ]
  },
  {
   "cell_type": "markdown",
   "id": "a06fe753-ee86-4aaf-a023-84c5b034f036",
   "metadata": {},
   "source": [
    "<span style=\"font-size:1.4em;\">\n",
    "\\begin{equation}\n",
    "    \\mathbf{f}(\\mathbf{x}, \\mathbf{u})= \\mathbf{0}\n",
    "\\end{equation}\n",
    "</span>"
   ]
  },
  {
   "cell_type": "markdown",
   "id": "cfe73518-f9e8-48f5-b7dc-5db65fe9f175",
   "metadata": {},
   "source": [
    "<div class=\"alert alert-block alert-warning\" style=\"font-size: 16px;\">  \n",
    "<b>Nota:</b> El Punto de Equilibrio es una configuración que permite al sistema permanecer en ese lugar.</div>"
   ]
  },
  {
   "cell_type": "markdown",
   "id": "c42635b6-6515-46e5-881c-76fe5e6490e0",
   "metadata": {},
   "source": [
    "<div class=\"alert alert-block alert-warning\" style=\"font-size: 16px;\">  \n",
    "<b>Nota:</b> Algebraicamente, son las raíces de las dinámicas del sistema.</div>"
   ]
  },
  {
   "cell_type": "markdown",
   "id": "0383d3cf-7335-4a80-965b-1fdd9c56c5c4",
   "metadata": {},
   "source": [
    "<h3 align=\"left\" style=\"font-size: 20px;\"><font color=\"#2D5AC1\"><strong>Pendulo Simple</strong></font></h3>\n"
   ]
  },
  {
   "cell_type": "markdown",
   "id": "902d0f95-d4bf-4a98-8335-28f295211682",
   "metadata": {},
   "source": [
    "<div style=\"text-align: justify; font-size: 20px;\">A continuación, calculamos los puntos de equilibrio del sistema de péndulo simple, definiendo lo siguiente:</div>\n"
   ]
  },
  {
   "cell_type": "markdown",
   "id": "28e25221-6db8-414d-ac71-7102dc8044eb",
   "metadata": {},
   "source": [
    "<span style=\"font-size:1.4em;\">\n",
    "\\begin{equation}\n",
    "    \\dot{\\mathbf{x}} =  \\begin{bmatrix} \\dot\\theta \\\\ -\\frac{g}{l}\\sin{(\\theta)} + \\frac{1}{m l^2} u\\end{bmatrix} =\\begin{bmatrix} 0 \\\\  0\\end{bmatrix} \\Rightarrow \\dot{\\theta} = 0,~ \\theta = 0, \\pi, 2 \\pi\n",
    "\\end{equation}\n",
    "</span>"
   ]
  },
  {
   "cell_type": "markdown",
   "id": "d0656a7f-34f0-494d-8ced-14f9870217c6",
   "metadata": {},
   "source": [
    "<div style=\"text-align: justify; font-size: 20px;\"> consideran que la accion de control $u$ es igual a cero.</div>\n"
   ]
  },
  {
   "cell_type": "markdown",
   "id": "b7847503-b9de-44cb-956c-bec703dcd993",
   "metadata": {},
   "source": [
    "<div class=\"alert alert-block alert-warning\" style=\"font-size: 16px;\">  \n",
    "  <b>Nota:</b> Se puede concluir que el espacio de configuración del péndulo es un \"Compact Manifold\" debido a que no tiende al infinito, sino que se envuelve sobre sí mismo.\n",
    "</div>"
   ]
  },
  {
   "cell_type": "markdown",
   "id": "70f267f5-7ab4-444b-a454-57603e90c114",
   "metadata": {},
   "source": [
    "<div class=\"alert alert-block alert-success\" style=\"font-size: 16px;\">  \n",
    "  <b>Nota:</b> ¿Es posible generar puntos de equilibrio arbitrarios utilizando la acción de control?\n",
    "</div>"
   ]
  },
  {
   "cell_type": "markdown",
   "id": "d58375d8-0d48-4ca7-af8f-0bb33f300c67",
   "metadata": {},
   "source": [
    "<div style=\"text-align: justify; font-size: 20px;\">Por ejemplo, si deseamos que nuestro punto de equilibrio sea $\\theta = \\pi/2$ y $\\dot{\\theta} = 0$, podemos calcular la acción de control de la siguiente manera:</div>\n"
   ]
  },
  {
   "cell_type": "markdown",
   "id": "711b0018-92ac-461f-b065-3e6e1d23197a",
   "metadata": {},
   "source": [
    "<span style=\"font-size:1.4em;\">\n",
    "\\begin{equation}\n",
    "    \\dot{\\mathbf{x}} =  \\begin{bmatrix} \\dot\\theta \\\\ -\\frac{g}{l}\\sin{(\\theta)} + \\frac{1}{m l^2} u\\end{bmatrix} =\\begin{bmatrix} 0 \\\\  0\\end{bmatrix} \\Rightarrow \\dot{\\theta} = 0, \\frac{1}{m l^2} u = \\frac{g}{l}\\sin{(\\pi/2)}\n",
    "\\end{equation}\n",
    "</span>"
   ]
  },
  {
   "cell_type": "markdown",
   "id": "de4ccc15-d2ad-45bc-88c7-cd539d695502",
   "metadata": {},
   "source": [
    "<span style=\"font-size:1.4em;\">\n",
    "\\begin{equation}\n",
    "    u = m g l \\sin{(\\pi/2)}\n",
    "\\end{equation}\n",
    "</span>"
   ]
  },
  {
   "cell_type": "markdown",
   "id": "4a9f6259-9d3c-49af-9c77-aa8e05f3cd9e",
   "metadata": {},
   "source": [
    "<div style=\"text-align: justify; font-size: 20px;\">Por lo tanto, podemos resolver el siguiente problema de raíces (\"root finding\"), resultando en</div>\n"
   ]
  },
  {
   "cell_type": "markdown",
   "id": "5aa28c63-19b4-4677-b417-8993aec80f2c",
   "metadata": {},
   "source": [
    "<span style=\"font-size:1.4em;\">\n",
    "\\begin{equation}\n",
    "    \\mathbf{f}(\\mathbf{x}^*, \\mathbf{u})= \\mathbf{0}\n",
    "\\end{equation}\n",
    "</span>"
   ]
  },
  {
   "cell_type": "markdown",
   "id": "8b3af0f8-7e67-4f1d-8562-75dff3d29e52",
   "metadata": {},
   "source": [
    "<div style=\"text-align: justify; font-size: 20px;\">donde $\\mathbf{x}^*$ son los estados deseados.</div>\n"
   ]
  },
  {
   "cell_type": "markdown",
   "id": "f8995d00-f949-4628-8b4d-7e411cdb4f9b",
   "metadata": {},
   "source": [
    "<h3 align=\"left\" style=\"font-size: 20px;\"><font color=\"#667388\"><strong>Estabilidad de puntos de Equilibrio</strong></font></h3>\n"
   ]
  },
  {
   "cell_type": "markdown",
   "id": "e134bf81-42d2-4fdc-8fae-0c3284d273eb",
   "metadata": {},
   "source": [
    "<div style=\"text-align: justify; font-size: 20px;\">Consideremos un sistema en un punto de equilibrio al cual se le aplica una perturbación que lo hace salir ligeramente de dicho punto.</div>\n"
   ]
  },
  {
   "cell_type": "markdown",
   "id": "1d3f2dbb-151e-4c14-a90d-ca0a670ee84f",
   "metadata": {},
   "source": [
    "<div class=\"alert alert-block alert-success\" style=\"font-size: 16px;\">  \n",
    "  <b>Nota:</b> Usar Pizarra para hacer ejemplo!!\n",
    "</div>"
   ]
  },
  {
   "cell_type": "markdown",
   "id": "20b7858e-90bf-42ca-8bbc-464270fb8b2a",
   "metadata": {},
   "source": [
    "<div style=\"text-align: justify; font-size: 20px;\"> Se puede concluir que si $\\frac{\\partial{f}}{\\partial x} < 0$ el punto es estable $\\frac{\\partial{f}}{\\partial x} > 0$ el punto de equilibrio es inestable</div>"
   ]
  },
  {
   "cell_type": "markdown",
   "id": "bb248468-f9e1-43e9-86c0-21e55df8060f",
   "metadata": {},
   "source": [
    "<div style=\"text-align: justify; font-size: 20px;\">Expandiendo el mismo concepto a altas dimensiones, se tiene lo siguiente.</div>\n"
   ]
  },
  {
   "cell_type": "markdown",
   "id": "3602fb5e-eb1f-416b-bff6-885078d8cfcc",
   "metadata": {},
   "source": [
    "<span style=\"font-size:1.4em;\">\n",
    "\\begin{equation}\n",
    "   \\frac{\\partial \\mathbf{f}}{\\partial \\mathbf{x}} =  \\mathbf{A}  \\in \\mathbb{R}^{n \\times n} \n",
    "\\end{equation}\n",
    "</span>"
   ]
  },
  {
   "cell_type": "markdown",
   "id": "86b8b384-6f81-466f-b49f-62df5462d4df",
   "metadata": {},
   "source": [
    "<div style=\"text-align: justify; font-size: 20px;\">Para poder utilizar los mismos conceptos que en el caso escalar, debemos emplear las herramientas de \"Eigen Decomposition\" de esta matriz, las cuales nos proporcionan los autovectores y autovalores. Con esto, podemos determinar si una matriz es definida positiva, semipositiva o negativa.</div>\n",
    "\n"
   ]
  },
  {
   "cell_type": "markdown",
   "id": "6d170ccf-54df-4a7d-9356-a765555cab19",
   "metadata": {},
   "source": [
    "<div style=\"text-align: justify; font-size: 20px;\">Por lo tanto, podemos analizar los autovalores de la matriz y aplicar la misma idea que en el caso escalar, lo que resulta en la siguiente formulación.</div>\n"
   ]
  },
  {
   "cell_type": "markdown",
   "id": "afdc75db-e39d-4d7d-9494-a831245e8284",
   "metadata": {},
   "source": [
    "<span style=\"font-size:1.4em;\">\n",
    "\\begin{equation}\n",
    "\\text{R}[\\text{eig}(\\frac{\\partial \\mathbf{f}}{\\partial \\mathbf{x}})] < 0 \\Rightarrow \\text{Stable}\n",
    "    \\end{equation}\n",
    "</span>"
   ]
  },
  {
   "cell_type": "markdown",
   "id": "a23d5845-e360-4445-b6fe-809dc1d8abee",
   "metadata": {},
   "source": [
    "<div style=\"text-align: justify; font-size: 20px;\">Si alguno de los autovalores es positivo, el sistema será inestable en el punto de análisis.</div>\n"
   ]
  },
  {
   "cell_type": "markdown",
   "id": "6846e69b-8a6e-4e4f-a104-01898ef7265e",
   "metadata": {},
   "source": [
    "<h3 align=\"left\" style=\"font-size: 20px;\"><font color=\"#2D5AC1\"><strong>Pendulo Simple</strong></font></h3>\n"
   ]
  },
  {
   "cell_type": "markdown",
   "id": "d22705d3-7ae4-4d24-800c-a2aee052c9c9",
   "metadata": {},
   "source": [
    "<div style=\"text-align: justify; font-size: 20px;\">En este caso particular, recordemos cómo se define la dinámica del sistema.</div>\n"
   ]
  },
  {
   "cell_type": "markdown",
   "id": "c585cf6c-bb9d-439b-9d05-4b3429e42ef1",
   "metadata": {},
   "source": [
    "<span style=\"font-size:1.4em;\">\n",
    "\\begin{equation}\n",
    "    \\mathbf{f}(\\mathbf{x},\\mathbf{u})~= \\begin{bmatrix} \\mathbf{v} \\\\ -\\frac{g}{l}\\sin{(\\mathbf{q})} + \\frac{1}{m l^2} \\mathbf{u}\\end{bmatrix} \n",
    "\\end{equation}\n",
    "</span>"
   ]
  },
  {
   "cell_type": "markdown",
   "id": "e4d352a1-106c-4eaf-8682-ad0d4bedc401",
   "metadata": {},
   "source": [
    "<span style=\"font-size:1.4em;\">\n",
    "\\begin{equation}\n",
    "   \\frac{\\partial \\mathbf{f}}{\\partial \\mathbf{x}} =   \\begin{bmatrix} 0 & 1 \\\\ -\\frac{g}{l}\\cos{(\\mathbf{q})} & 0 \\end{bmatrix} \n",
    "\\end{equation}\n",
    "</span>"
   ]
  },
  {
   "cell_type": "markdown",
   "id": "9d177a62-2156-4a2d-8667-6f3b5e101368",
   "metadata": {},
   "source": [
    "<div style=\"text-align: justify; font-size: 20px;\"> Analizamos el caso cuando $\\mathbf{x} = \\begin{bmatrix} \\pi & 0 \\end{bmatrix}^T$ </div>\n"
   ]
  },
  {
   "cell_type": "markdown",
   "id": "245ce1bc-0bfe-4627-be6f-4f7b35765129",
   "metadata": {},
   "source": [
    "<span style=\"font-size:1.4em;\">\n",
    "\\begin{equation}\n",
    "   \\frac{\\partial \\mathbf{f}}{\\partial \\mathbf{x}}\\bigg|_{x=[\\pi, 0]} =   \\begin{bmatrix} 0 & 1 \\\\ \\frac{g}{l} & 0 \\end{bmatrix} \n",
    "\\end{equation}\n",
    "</span>"
   ]
  },
  {
   "cell_type": "markdown",
   "id": "35b304c6-84d5-4681-963c-0c5f50c6b0d2",
   "metadata": {},
   "source": [
    "<div class=\"alert alert-block alert-success\" style=\"font-size: 16px;\">  \n",
    "  <b>Nota:</b> Code\n",
    "</div>"
   ]
  },
  {
   "cell_type": "markdown",
   "id": "0b18401e-2ed2-4b02-ab35-fb8b3071811d",
   "metadata": {},
   "source": [
    "### Crear variables"
   ]
  },
  {
   "cell_type": "code",
   "execution_count": 3,
   "id": "408741da-c525-4f1b-b4e4-798ec352b111",
   "metadata": {},
   "outputs": [
    {
     "name": "stdout",
     "output_type": "stream",
     "text": [
      "[[0.  1. ]\n",
      " [9.8 0. ]]\n",
      "(2, 2)\n"
     ]
    }
   ],
   "source": [
    "g = 9.8\n",
    "l = 1\n",
    "A = np.array([[0, 1.0], [g/l, 0]], dtype = np.double)\n",
    "print(A)\n",
    "print(A.shape)"
   ]
  },
  {
   "cell_type": "markdown",
   "id": "fbc7b032-d80c-4136-90fc-0164085c6126",
   "metadata": {},
   "source": [
    "### Calcular eigen values y eigen vectors"
   ]
  },
  {
   "cell_type": "code",
   "execution_count": 4,
   "id": "ec541e3e-eb1f-47c0-aa56-23a98574c039",
   "metadata": {},
   "outputs": [],
   "source": [
    "eigenvalues, eigenvectors = LA.eig(A)"
   ]
  },
  {
   "cell_type": "code",
   "execution_count": 5,
   "id": "7af922c0-3d44-440b-9ef5-5e0463987ab1",
   "metadata": {},
   "outputs": [
    {
     "name": "stdout",
     "output_type": "stream",
     "text": [
      "[ 3.13049517 -3.13049517]\n"
     ]
    }
   ],
   "source": [
    "print(eigenvalues)"
   ]
  },
  {
   "cell_type": "code",
   "execution_count": 6,
   "id": "eb5eec23-6583-44b0-b790-7bdab699f400",
   "metadata": {},
   "outputs": [
    {
     "name": "stdout",
     "output_type": "stream",
     "text": [
      "[[ 0.30429031 -0.30429031]\n",
      " [ 0.95257934  0.95257934]]\n"
     ]
    }
   ],
   "source": [
    "print(eigenvectors)"
   ]
  },
  {
   "cell_type": "markdown",
   "id": "fb60c662-1ca6-499b-9eb2-33b5ed7ba818",
   "metadata": {},
   "source": [
    "<div class=\"alert alert-block alert-warning\" style=\"font-size: 16px;\">  \n",
    "  <b>Nota:</b> Se puede concluir que el sistema es inestable debido a que uno de los autovalores es positivo.\n",
    "</div>"
   ]
  },
  {
   "cell_type": "markdown",
   "id": "feafa92b-badf-4601-b123-e81a4b6d0fd4",
   "metadata": {},
   "source": [
    "<div style=\"text-align: justify; font-size: 20px;\"> Analizamos el caso cuando $\\mathbf{x} = \\begin{bmatrix} 0 & 0 \\end{bmatrix}^T$ </div>\n",
    "\n"
   ]
  },
  {
   "cell_type": "markdown",
   "id": "afc63cf1-dc4b-48e4-ab13-faa9941f8fa3",
   "metadata": {},
   "source": [
    "<span style=\"font-size:1.4em;\">\n",
    "\\begin{equation}\n",
    "   \\frac{\\partial \\mathbf{f}}{\\partial \\mathbf{x}}\\bigg|_{x=[0, 0]} =   \\begin{bmatrix} 0 & 1 \\\\ -\\frac{g}{l} & 0 \\end{bmatrix} \n",
    "\\end{equation}\n",
    "</span>"
   ]
  },
  {
   "cell_type": "code",
   "execution_count": 7,
   "id": "2ac33eed-d3e4-44d2-a99b-fb1492e929ad",
   "metadata": {},
   "outputs": [
    {
     "name": "stdout",
     "output_type": "stream",
     "text": [
      "[[ 0.   1. ]\n",
      " [-9.8  0. ]]\n",
      "(2, 2)\n"
     ]
    }
   ],
   "source": [
    "A = np.array([[0, 1.0], [-g/l, 0]], dtype = np.double)\n",
    "print(A)\n",
    "print(A.shape)"
   ]
  },
  {
   "cell_type": "markdown",
   "id": "620df0fd-56b3-439d-9dbf-51baaf447d49",
   "metadata": {},
   "source": [
    "### Calcular eigen values y eigen vectors"
   ]
  },
  {
   "cell_type": "code",
   "execution_count": 8,
   "id": "a554eaa7-a296-414f-8c98-30e9f7b2dcd4",
   "metadata": {},
   "outputs": [],
   "source": [
    "eigenvalues, eigenvectors = LA.eig(A)"
   ]
  },
  {
   "cell_type": "code",
   "execution_count": 9,
   "id": "0922dd93-e593-475a-9115-ffdcecfa3774",
   "metadata": {},
   "outputs": [
    {
     "name": "stdout",
     "output_type": "stream",
     "text": [
      "[0.+3.13049517j 0.-3.13049517j]\n"
     ]
    }
   ],
   "source": [
    "print(eigenvalues)"
   ]
  },
  {
   "cell_type": "code",
   "execution_count": 10,
   "id": "bbf4347e-5469-418c-a769-e02fbe999338",
   "metadata": {},
   "outputs": [
    {
     "name": "stdout",
     "output_type": "stream",
     "text": [
      "[[0.        -0.30429031j 0.        +0.30429031j]\n",
      " [0.95257934+0.j         0.95257934-0.j        ]]\n"
     ]
    }
   ],
   "source": [
    "print(eigenvectors)"
   ]
  },
  {
   "cell_type": "markdown",
   "id": "417d64a0-3707-4f41-9ea8-922dc307a819",
   "metadata": {},
   "source": [
    "<div class=\"alert alert-block alert-warning\" style=\"font-size: 16px;\">  \n",
    "  <b>Nota:</b> En este caso los autovalores solo tienen parte imaginaria, siendo la parte real cero.\n",
    "</div>"
   ]
  },
  {
   "cell_type": "markdown",
   "id": "51be7b15-5268-4445-8e4d-15102e58b06e",
   "metadata": {},
   "source": [
    "<div class=\"alert alert-block alert-warning\" style=\"font-size: 16px;\">  \n",
    "  <b>Nota:</b> Si se presenta este caso, la recomendación es utilizar el método de Lyapunov para probar la estabilidad del sistema.\n",
    "</div>"
   ]
  },
  {
   "cell_type": "markdown",
   "id": "1a598034-b005-45b0-a17b-f172c46504ec",
   "metadata": {},
   "source": [
    "<div class=\"alert alert-block alert-success\" style=\"font-size: 16px;\">  \n",
    "  <b>Nota:</b> Que pasaria si agregamos friccion al modelo del pendulo, cual seria el resultado del analisis de estabilidad?\n",
    "</div>"
   ]
  },
  {
   "cell_type": "markdown",
   "id": "acb715e2-e010-4db0-87de-7691b97136cb",
   "metadata": {},
   "source": [
    "<span style=\"font-size:1.4em;\">\n",
    "\\begin{equation}\n",
    "    \\mathbf{f}(\\mathbf{x},\\mathbf{u})~= \\begin{bmatrix} \\mathbf{v} \\\\ -\\frac{g}{l}\\sin{(\\mathbf{q})} -b \\mathbf{v} + \\frac{1}{m l^2} \\mathbf{u}\\end{bmatrix} \n",
    "\\end{equation}\n",
    "</span>"
   ]
  },
  {
   "cell_type": "markdown",
   "id": "828968c1-f55a-4912-af29-453fb07f4156",
   "metadata": {},
   "source": [
    "<div style=\"text-align: justify; font-size: 20px;\"> Analizamos el caso cuando $\\mathbf{x} = \\begin{bmatrix} 0 & 0 \\end{bmatrix}^T$ </div>\n"
   ]
  },
  {
   "cell_type": "markdown",
   "id": "b2e6c1af-2a14-48f6-b27f-24ccdca59652",
   "metadata": {},
   "source": [
    "<span style=\"font-size:1.4em;\">\n",
    "\\begin{equation}\n",
    "   \\frac{\\partial \\mathbf{f}}{\\partial \\mathbf{x}}\\bigg|_{x=[0, 0]} =   \\begin{bmatrix} 0 & 1 \\\\ -\\frac{g}{l} & -b \\end{bmatrix} \n",
    "\\end{equation}\n",
    "</span>"
   ]
  },
  {
   "cell_type": "code",
   "execution_count": null,
   "id": "b6926ebe-8125-448a-8ac2-f5ed0857e1ab",
   "metadata": {},
   "outputs": [],
   "source": []
  },
  {
   "cell_type": "markdown",
   "id": "e5781509-4f70-4cb1-b41e-5099189c7f7a",
   "metadata": {},
   "source": [
    "### Calcular eigen values y eigen vectors"
   ]
  },
  {
   "cell_type": "code",
   "execution_count": null,
   "id": "6587fc43-45ea-436e-9cf3-1c5d781ccd1a",
   "metadata": {},
   "outputs": [],
   "source": []
  },
  {
   "cell_type": "code",
   "execution_count": null,
   "id": "0f004398-e72d-42b4-a13b-8f3dd9d461dd",
   "metadata": {},
   "outputs": [],
   "source": []
  }
 ],
 "metadata": {
  "kernelspec": {
   "display_name": "Python 3 (ipykernel)",
   "language": "python",
   "name": "python3"
  },
  "language_info": {
   "codemirror_mode": {
    "name": "ipython",
    "version": 3
   },
   "file_extension": ".py",
   "mimetype": "text/x-python",
   "name": "python",
   "nbconvert_exporter": "python",
   "pygments_lexer": "ipython3",
   "version": "3.8.18"
  }
 },
 "nbformat": 4,
 "nbformat_minor": 5
}
