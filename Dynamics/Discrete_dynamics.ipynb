{
 "cells": [
  {
   "cell_type": "code",
   "execution_count": 4,
   "id": "6864bc21-ea4a-424c-8a76-0d2a6e30fba1",
   "metadata": {},
   "outputs": [],
   "source": [
    "from IPython.display import HTML\n",
    "from IPython.display import display, Image\n"
   ]
  },
  {
   "cell_type": "markdown",
   "id": "5ba6d777-c142-4c76-8532-3a86134bfdbc",
   "metadata": {},
   "source": [
    "<h1 align=\"center\" style=\"font-size: 35px;\"><font color=\"C1772D\"><strong>Aplicación del Control Óptimo en el Campo de la Robótica</strong></font></h1>\n",
    "\n",
    "<h2 align=\"center\"><font color=\"#667388\"><strong>Luis F. Recalde</strong><br>Ambato-Ecuador</font></h2>\n",
    "\n",
    "\n",
    "<h3 align=\"center\"><font color=\"#667388\"><strong>Universidad Indoamerica</strong></font></h3>"
   ]
  },
  {
   "cell_type": "markdown",
   "id": "4db8a43e-5aa2-4c10-91e0-41c85eb8eb2e",
   "metadata": {},
   "source": [
    "<h3 align=\"left\" style=\"font-size: 30px;\"><font color=\"C1772D\"><strong>Sistemas Dinámicos</strong></font></h3>\n"
   ]
  },
  {
   "cell_type": "markdown",
   "id": "b53a8c20-3991-4e7d-8ff0-4f94ca5023e2",
   "metadata": {},
   "source": [
    "<h3 align=\"left\" style=\"font-size: 20px;\"><font color=\"#667388\"><strong>Sistemas Dinámicos en tiempo discreto.</strong></font></h3>\n"
   ]
  },
  {
   "cell_type": "markdown",
   "id": "247791be-bda3-47be-b851-3196407219b5",
   "metadata": {},
   "source": [
    "<div class=\"alert alert-block alert-warning\" style=\"font-size: 16px;\">  \n",
    "  <b>Nota:</b> En términos generales, no es posible resolver de manera analítica ecuaciones diferenciales no lineales cuando se presentan en la siguiente forma: $\\dot{\\mathbf{x}} = \\mathbf{f}(\\mathbf{x})$\n",
    "</div>"
   ]
  },
  {
   "cell_type": "markdown",
   "id": "c4d8efa9-35ab-4420-9d52-889995ba557d",
   "metadata": {},
   "source": [
    "<div class=\"alert alert-block alert-warning\" style=\"font-size: 16px;\">  \n",
    "  <b>Nota:</b> Si es posible resolver ecuaciones diferenciales lineales; sin embargo, los sistemas que nos interesan, como robots móviles y manipuladores, se representan mediante ecuaciones diferenciales no lineales.\n",
    "</div>"
   ]
  },
  {
   "cell_type": "markdown",
   "id": "7e1dfa12-a90f-4223-975a-02011abdee33",
   "metadata": {},
   "source": [
    "<div class=\"alert alert-block alert-warning\" style=\"font-size: 16px;\">  \n",
    "  <b>Nota:</b> Nuestro computador debe ser capaz de operar con estas dinámicas; por lo tanto, debemos utilizar técnicas de discretización.\n",
    "</div>"
   ]
  },
  {
   "cell_type": "markdown",
   "id": "4b12ca0b-0529-47a2-add4-238bec950611",
   "metadata": {},
   "source": [
    "<div class=\"alert alert-block alert-warning\" style=\"font-size: 16px;\">  \n",
    "  <b>Nota:</b> Los modelos discretos son capaces de capturar ciertos efectos que no es posible representar en modelos continuos.\n",
    "</div>"
   ]
  },
  {
   "cell_type": "markdown",
   "id": "b1f435b7-28e4-4820-aaf3-3a48c730de1f",
   "metadata": {},
   "source": [
    "<div style=\"text-align: justify; font-size: 20px;\">Existen diferentes formas de escribir las dinámicas discretas, las cuales pueden ser:</div>\n"
   ]
  },
  {
   "cell_type": "markdown",
   "id": "e11de263-325a-4217-92e9-f9a4cee723d8",
   "metadata": {},
   "source": [
    "<h3 align=\"left\" style=\"font-size: px;\"><font color=\"#2D5AC1\"><strong>Discretización explícita:</strong></font></h3>\n"
   ]
  },
  {
   "cell_type": "markdown",
   "id": "0bedd8e1-3f5f-47a1-b664-43ebafce6f39",
   "metadata": {},
   "source": [
    "<div style=\"text-align: justify; font-size: 20px;\">Su representación viene dada por la siguiente forma:</div>\n"
   ]
  },
  {
   "cell_type": "markdown",
   "id": "a009d8a1-edd4-4b90-ad69-a865e0e31d17",
   "metadata": {},
   "source": [
    "<span style=\"font-size:1.4em;\">\n",
    "\\begin{equation}\n",
    "    {\\mathbf{x}_{k+1}} = \\mathbf{f}_d(\\mathbf{x}_{k}, \\mathbf{u}_{k})\n",
    "\\end{equation}\n",
    "</span>"
   ]
  },
  {
   "cell_type": "markdown",
   "id": "a142d353-c9aa-4f4f-a027-f47ded6ef7c5",
   "metadata": {},
   "source": [
    "<div style=\"text-align: justify; font-size: 20px;\">Donde $\\mathbf{x}_k$ y $\\mathbf{u}_k$ representan los estados y acciones de control en un instante, mientras que $\\mathbf{x}_{k+1}$ representa los estados del sistema en un instante futuro.</div>\n"
   ]
  },
  {
   "cell_type": "markdown",
   "id": "0ebb9e02-b71a-445b-be4b-177ec7912e6e",
   "metadata": {},
   "source": [
    "<div style=\"text-align: justify; font-size: 20px;\">En la literatura existen diferentes formas de obtener una discretización explícita; una de las más simples es la \"Forward Euler Integration\". Este método puede ser representado de la siguiente forma:</div>\n"
   ]
  },
  {
   "cell_type": "markdown",
   "id": "9c54fb2f-0628-4ff7-9c42-0c575677fe2e",
   "metadata": {},
   "source": [
    "<span style=\"font-size:1.4em;\">\n",
    "\\begin{equation}\n",
    "    {\\mathbf{x}_{k+1}} = \\overbrace{{\\mathbf{x}_{k}} + t_s \\mathbf{f}(\\mathbf{x}_{k}, \\mathbf{u}_{k})}^{\\mathbf{f}_d(\\mathbf{x}_{k}, \\mathbf{u}_{k})}\n",
    "\\end{equation}\n",
    "</span>"
   ]
  },
  {
   "cell_type": "markdown",
   "id": "8a358bba-14ba-41a6-a1e9-6eaf05a5ff8f",
   "metadata": {},
   "source": [
    "<div style=\"text-align: justify; font-size: 20px;\"> considerando que $t_s$ es el tiempo de muestreo.</div>\n"
   ]
  },
  {
   "cell_type": "markdown",
   "id": "6773d675-cd04-435b-b825-9f16661858af",
   "metadata": {},
   "source": [
    "<div style=\"text-align: justify; font-size: 20px;\">A continuación, se presenta un ejemplo de este método.</div>\n"
   ]
  },
  {
   "cell_type": "markdown",
   "id": "1c81e0df-af56-416b-8569-b9568c64e670",
   "metadata": {},
   "source": [
    "<h3 align=\"left\" style=\"font-size: px;\"><font color=\"#2D5AC1\"><strong>Pendulo Simple</strong></font></h3>\n"
   ]
  },
  {
   "cell_type": "markdown",
   "id": "acbdf5e6-fb08-4801-a694-c9ecf87aa8eb",
   "metadata": {},
   "source": [
    "<span style=\"font-size:1.4em;\">\n",
    "\\begin{equation}\n",
    "    \\dot{\\mathbf{x}} = \\begin{bmatrix} \\dot\\theta \\\\ \\ddot{\\theta} \\end{bmatrix} = \\begin{bmatrix} \\dot\\theta \\\\ -\\frac{g}{l}\\sin{(\\theta)} + \\frac{1}{m l^2} u\\end{bmatrix} =\\begin{bmatrix} \\mathbf{v} \\\\ -\\frac{g}{l}\\sin{(\\mathbf{q})} + \\frac{1}{m l^2} \\mathbf{u}\\end{bmatrix} \n",
    "\\end{equation}\n",
    "</span>"
   ]
  },
  {
   "cell_type": "markdown",
   "id": "bd875872-ffe8-4b67-b261-26fbc55c05e0",
   "metadata": {},
   "source": [
    "<span style=\"font-size:1.4em;\">\n",
    "\\begin{equation}\n",
    "    \\dot{\\mathbf{x}} = \\mathbf{f}(\\mathbf{x}, \\mathbf{u})\n",
    "\\end{equation}\n",
    "</span>"
   ]
  },
  {
   "cell_type": "markdown",
   "id": "5567fc03-4d00-4397-860c-9f96830fc851",
   "metadata": {},
   "source": [
    "<span style=\"font-size:1.4em;\">\n",
    "\\begin{equation}\n",
    "    \\mathbf{f}(\\mathbf{x},\\mathbf{u})~= \\begin{bmatrix} \\mathbf{v} \\\\ -\\frac{g}{l}\\sin{(\\mathbf{q})} + \\frac{1}{m l^2} \\mathbf{u}\\end{bmatrix} \n",
    "\\end{equation}\n",
    "</span>"
   ]
  },
  {
   "cell_type": "markdown",
   "id": "51d9d0a2-a973-41fc-92d8-adf813c30638",
   "metadata": {},
   "source": [
    "<div class=\"alert alert-block alert-success\" style=\"font-size: 16px;\">  \n",
    "  <b>Code:</b>\n",
    "</div>"
   ]
  },
  {
   "cell_type": "markdown",
   "id": "a0a926f0-169a-430a-860b-f5d650fd55d3",
   "metadata": {},
   "source": [
    "### Importar Librerias"
   ]
  },
  {
   "cell_type": "code",
   "execution_count": 5,
   "id": "5a1c07fb-3791-4d57-9b04-51485edd90c9",
   "metadata": {},
   "outputs": [],
   "source": [
    "import numpy as np\n",
    "from numpy import linalg as LA"
   ]
  },
  {
   "cell_type": "markdown",
   "id": "78ab37ef-05ef-4d5e-a53a-0c16d760fc43",
   "metadata": {},
   "source": [
    "### Funciones"
   ]
  },
  {
   "cell_type": "code",
   "execution_count": null,
   "id": "be0aae62-82d3-44e4-8ab3-e3dad3fc4745",
   "metadata": {},
   "outputs": [],
   "source": []
  }
 ],
 "metadata": {
  "kernelspec": {
   "display_name": "Python 3 (ipykernel)",
   "language": "python",
   "name": "python3"
  },
  "language_info": {
   "codemirror_mode": {
    "name": "ipython",
    "version": 3
   },
   "file_extension": ".py",
   "mimetype": "text/x-python",
   "name": "python",
   "nbconvert_exporter": "python",
   "pygments_lexer": "ipython3",
   "version": "3.8.18"
  }
 },
 "nbformat": 4,
 "nbformat_minor": 5
}
