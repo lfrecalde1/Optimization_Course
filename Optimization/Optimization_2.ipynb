{
 "cells": [
  {
   "cell_type": "markdown",
   "id": "b0c1b3df-540e-4d4a-883f-58eea11fe68c",
   "metadata": {},
   "source": [
    "<h1 align=\"center\" style=\"font-size: 35px;\"><font color=\"C1772D\"><strong>Aplicación del Control Óptimo en el Campo de la Robótica</strong></font></h1>\n",
    "\n",
    "<h2 align=\"center\"><font color=\"#667388\"><strong>Luis F. Recalde</strong><br>Ambato-Ecuador</font></h2>\n",
    "\n",
    "\n",
    "<h3 align=\"center\"><font color=\"#667388\"><strong>Universidad Indoamerica</strong></font></h3>"
   ]
  },
  {
   "cell_type": "markdown",
   "id": "e9e70723-97e2-40a5-8ca8-0b6952f7a943",
   "metadata": {},
   "source": [
    "<h3 style=\"font-size: 30px; color: #C1772D; font-weight: bold; text-align: left;\">Optimizacion Minimizacion</h3>\n"
   ]
  },
  {
   "cell_type": "markdown",
   "id": "a971c93b-c7d1-4b7a-bd73-11d08a956e26",
   "metadata": {},
   "source": [
    "<h3 align=\"left\" style=\"font-size: 20px; color: #667388;\"><strong>La Optimizacion con restricciones</strong></h3>\n"
   ]
  },
  {
   "cell_type": "markdown",
   "id": "1e80dfc6-5de4-4700-ad91-c7cdb23a3693",
   "metadata": {},
   "source": [
    "<div style=\"text-align: justify; font-size: 20px;\">En esta sección se abordan problemas de optimización sujetos a restricciones de igualdad, lo cual puede ser escrito a continuación como:</div>\n",
    "\n"
   ]
  },
  {
   "cell_type": "markdown",
   "id": "5f3af61f-163c-48a8-882f-a278a57b3310",
   "metadata": {},
   "source": [
    "<span style=\"font-size:1.4em;\">\n",
    "\\begin{equation}\n",
    "    \\begin{split}\n",
    "   \\min_{\\small \\mathbf{x}}  \\quad  f(\\mathbf{x})\\\\\n",
    "    \\textrm{subject to: } \\\\\n",
    "    \\mathbf{c}(\\mathbf{x}) = 0\n",
    "    \\end{split}\n",
    "    \\end{equation}\n",
    "</span>"
   ]
  },
  {
   "cell_type": "markdown",
   "id": "9461c8bc-b1bd-47a4-9f0a-931711cf9aff",
   "metadata": {},
   "source": [
    "<div style=\"text-align: justify; font-size: 20px;\">\n",
    "   donde ${f}(\\cdot): \\mathbb{R}^{n} \\rightarrow \\mathbb{R}$ es conocida como la función de costo y $\\mathbf{c}(\\cdot): \\mathbb{R}^{n} \\rightarrow \\mathbb{R}^{m} $\n",
    "</div>\n"
   ]
  },
  {
   "cell_type": "markdown",
   "id": "9b7cb7bf-b669-4b05-92d2-5652d94f4d03",
   "metadata": {},
   "source": [
    "<div style=\"text-align: justify; font-size: 20px;\">Una vez formulado el problema, vamos a abordar los temas de condiciones necesarias de primer orden para resolver este tipo de problema de optimización.</div>"
   ]
  },
  {
   "cell_type": "markdown",
   "id": "39cf43c2-84dd-4db0-86f3-11608068f44a",
   "metadata": {},
   "source": [
    "<h3 align=\"left\" style=\"font-size: 20px;\"><font color=\"#2D5AC1\"><strong>Condiciones necesarias de primer Orden</strong></font></h3>\n"
   ]
  },
  {
   "cell_type": "markdown",
   "id": "7224d411-8275-4574-8da6-b76eab8e8b4f",
   "metadata": {},
   "source": [
    "<div class=\"alert alert-block alert-success\" style=\"font-size: 16px;\">  \n",
    "  <b>Nota:</b> $\\nabla f(\\mathbf{x}) = \\mathbf{0}$ en cualquier direccion del problema\n",
    "</div>"
   ]
  },
  {
   "cell_type": "markdown",
   "id": "ab8858ce-4197-46f9-888d-34e323b7bf86",
   "metadata": {},
   "source": [
    "<div class=\"alert alert-block alert-success\" style=\"font-size: 16px;\">  \n",
    "  <b>Nota:</b> $\\mathbf{c} (\\mathbf{x}) = \\mathbf{0}$ \n",
    "</div>"
   ]
  },
  {
   "cell_type": "markdown",
   "id": "d5c366d6-1b3d-4907-9c8b-15eb51629c77",
   "metadata": {},
   "source": [
    "<div style=\"text-align: justify; font-size: 20px;\">Por lo que se tendrá que hacer es tomar el gradiente y proyectarlo sobre las restricciones de igualdad.</div>\n"
   ]
  },
  {
   "cell_type": "markdown",
   "id": "0173bb01-77b0-4520-a31c-3462d3da99a6",
   "metadata": {},
   "source": [
    "<div class=\"alert alert-block alert-success\" style=\"font-size: 16px;\">  \n",
    "  <b>Nota:</b> Explicar en Pizarra.\n",
    "</div>"
   ]
  },
  {
   "cell_type": "markdown",
   "id": "636806c2-55b0-4490-8069-70619e067407",
   "metadata": {},
   "source": [
    "<div style=\"text-align: justify; font-size: 20px;\">Por lo tanto, cualquier componente de \\( \\nabla f(\\mathbf{x}) \\) debe ser normal a la superficie o \"manifold\" de restricción $\\mathbf{c}(\\mathbf{x})$.</div>\n"
   ]
  },
  {
   "cell_type": "markdown",
   "id": "201482a3-4836-45d5-b8f2-5a34695bba89",
   "metadata": {},
   "source": [
    "<div style=\"text-align: justify; font-size: 20px;\">Lo cual, en el caso unidimensional, puede ser escrito de la siguiente forma:</div>\n"
   ]
  },
  {
   "cell_type": "markdown",
   "id": "e044f522-cdce-421e-933a-1f842b59684c",
   "metadata": {},
   "source": [
    "<span style=\"font-size:1.4em;\">\n",
    "\\begin{equation}\n",
    "     \\nabla f + \\lambda \\nabla c = 0, ~~~~~\\lambda \\in \\mathbb{R}\n",
    "    \\end{equation}\n",
    "</span>"
   ]
  },
  {
   "cell_type": "markdown",
   "id": "cc65fdf6-9d31-4b5b-9c86-4017308aaa9c",
   "metadata": {},
   "source": [
    "<div style=\"text-align: justify; font-size: 20px;\"> En el caso general esto puede ser escrito como:</div>\n"
   ]
  },
  {
   "cell_type": "markdown",
   "id": "228f8675-fa52-43a2-87bf-7d4f2a19c478",
   "metadata": {},
   "source": [
    "<span style=\"font-size:1.4em;\">\n",
    "\\begin{equation}\n",
    "    \\frac{\\partial {f}}{\\partial \\mathbf{x}} + \\mathbf{\\lambda}^{T} \\frac{\\partial {\\mathbf{c}}}{\\partial \\mathbf{x}}  = 0, ~~~~~\\lambda \\in \\mathbb{R}^{m}\n",
    "    \\end{equation}\n",
    "</span>"
   ]
  },
  {
   "cell_type": "markdown",
   "id": "36d96d43-abd8-40e5-9022-8b184c84ffd3",
   "metadata": {},
   "source": [
    "<div style=\"text-align: justify; font-size: 20px;\">Basado en las condiciones presentadas, es posible definir el siguiente lagrangiano, tal que:</div>\n"
   ]
  },
  {
   "cell_type": "markdown",
   "id": "96797f5c-e7c7-4bb3-bedb-0bd6a911edcb",
   "metadata": {},
   "source": [
    "<span style=\"font-size:1.4em;\">\n",
    "\\begin{equation}\n",
    "     L(\\mathbf{x}, \\lambda) = f(\\mathbf{x}) + \\lambda^{T} \\mathbf{c}(\\mathbf{x})\n",
    "    \\end{equation}\n",
    "</span>"
   ]
  },
  {
   "cell_type": "markdown",
   "id": "08caf284-995b-4ba3-9d47-2cd8dadf66f1",
   "metadata": {},
   "source": [
    "<div style=\"text-align: justify; font-size: 20px;\">Usando el gradiente respecto a $\\mathbf{x}$ y $\\lambda$, resulta en:</div>\n"
   ]
  },
  {
   "cell_type": "markdown",
   "id": "9024ce56-8641-4cf6-b56e-b3956f2ebb5f",
   "metadata": {},
   "source": [
    "<span style=\"font-size:1.4em;\">\n",
    "\\begin{equation}\n",
    "     \\nabla_x L(\\mathbf{x}, \\lambda) = \\nabla_x f(\\mathbf{x}) + (\\frac{\\partial {\\mathbf{c}}}{\\partial \\mathbf{x}})^{T} \\lambda = \\mathbf{0}\n",
    "    \\end{equation}\n",
    "</span>"
   ]
  },
  {
   "cell_type": "markdown",
   "id": "236c27ff-e174-4d16-a0e9-983661cc780a",
   "metadata": {},
   "source": [
    "<span style=\"font-size:1.4em;\">\n",
    "\\begin{equation}\n",
    "     \\nabla_{\\lambda} L(\\mathbf{x}, \\lambda) = \\mathbf{c}(\\mathbf{x}) = \\mathbf{0}\n",
    "    \\end{equation}\n",
    "</span>"
   ]
  },
  {
   "cell_type": "markdown",
   "id": "7e88e2ac-1628-4b2b-b1c0-80e220e4d540",
   "metadata": {},
   "source": [
    "<div style=\"text-align: justify; font-size: 20px;\">Estas expresiones se conocen como condiciones KKT, las cuales son condiciones necesarias de primer orden para problemas de optimización con restricciones.</div>\n"
   ]
  },
  {
   "cell_type": "markdown",
   "id": "f796d985-01c9-4cf7-b927-e986cc77c1db",
   "metadata": {},
   "source": [
    "<h3 align=\"left\" style=\"font-size: 20px;\"><font color=\"#2D5AC1\"><strong>Newton Method</strong></font></h3>\n"
   ]
  },
  {
   "cell_type": "markdown",
   "id": "56089831-ce11-46d5-b421-0f283b6e91a5",
   "metadata": {},
   "source": [
    "<div class=\"alert alert-block alert-success\" style=\"font-size: 16px;\">  \n",
    "  <b>Nota:</b> No es sorpresa, pero podemos usar \"Newton Method\" para resolver este problema, usando la aproximación de Taylor resultando en:\n",
    "</div>\n"
   ]
  },
  {
   "cell_type": "markdown",
   "id": "080b2291-c532-4fe6-9214-2258cc54dc09",
   "metadata": {},
   "source": [
    "<span style=\"font-size:1.4em;\">\n",
    "\\begin{equation}\n",
    "     \\nabla_x L(\\mathbf{x} + \\Delta \\mathbf{x}, \\lambda + \\Delta \\lambda) =\\nabla_x L(\\mathbf{x}, \\lambda)  + \\frac{\\partial}{\\partial\\mathbf{x}}\\nabla_x L(\\mathbf{x}, \\lambda)  \\Delta \\mathbf{x} + \\frac{\\partial}{\\partial\\mathbf{\\lambda}}\\nabla_x L(\\mathbf{x}, \\lambda)  \\Delta \\mathbf{\\lambda}\n",
    "    \\end{equation}\n",
    "</span>"
   ]
  },
  {
   "cell_type": "markdown",
   "id": "b082423d-773b-4b96-b3f2-87f8a45c9ede",
   "metadata": {},
   "source": [
    "<span style=\"font-size:1.4em;\">\n",
    "\\begin{equation}\n",
    "     \\nabla_{\\lambda} L(\\mathbf{x} + \\Delta \\mathbf{x}, \\lambda + \\Delta \\lambda) =\\nabla_{\\lambda} L(\\mathbf{x}, \\lambda)  + \\frac{\\partial}{\\partial\\mathbf{x}}\\nabla_{\\lambda} L(\\mathbf{x}, \\lambda)  \\Delta \\mathbf{x} + \\frac{\\partial}{\\partial\\mathbf{\\lambda}}\\nabla_{\\lambda} L(\\mathbf{x}, \\lambda)  \\Delta \\mathbf{\\lambda}\n",
    "    \\end{equation}\n",
    "</span>"
   ]
  },
  {
   "cell_type": "markdown",
   "id": "af30618f-3ef1-4fed-83bf-6d036d2fdafa",
   "metadata": {},
   "source": [
    "<div style=\"text-align: justify; font-size: 20px;\">A continuación se presentan en detalle cada una de las derivadas parciales, tal que:</div>\n"
   ]
  },
  {
   "cell_type": "markdown",
   "id": "82996c04-bd02-4c2c-8942-bdbcfb939a9f",
   "metadata": {},
   "source": [
    "<span style=\"font-size:1.4em;\">\n",
    "\\begin{equation}\n",
    "     \\frac{\\partial}{\\partial\\mathbf{x}}\\nabla_x L(\\mathbf{x}, \\lambda) = \\frac{\\partial}{\\partial\\mathbf{x}} \\nabla_x f(\\mathbf{x}) + \\frac{\\partial}{\\partial\\mathbf{x}}  (\\frac{\\partial {\\mathbf{c}}}{\\partial \\mathbf{x}})^{T} \\lambda\n",
    "    \\end{equation}\n",
    "</span>"
   ]
  },
  {
   "cell_type": "markdown",
   "id": "e35ef69d-4747-425f-b00c-4484301a4e1a",
   "metadata": {},
   "source": [
    "<span style=\"font-size:1.4em;\">\n",
    "\\begin{equation}\n",
    "\\frac{\\partial}{\\partial\\mathbf{\\lambda}}\\nabla_x L(\\mathbf{x}, \\lambda) = (\\frac{\\partial {\\mathbf{c}}}{\\partial \\mathbf{x}})^{T}\n",
    "    \\end{equation}\n",
    "</span>"
   ]
  },
  {
   "cell_type": "markdown",
   "id": "0063f741-8c0f-4da6-b574-a1150f166e64",
   "metadata": {},
   "source": [
    "<span style=\"font-size:1.4em;\">\n",
    "\\begin{equation}\n",
    "     \\frac{\\partial}{\\partial\\mathbf{x}}\\nabla_{\\lambda} L(\\mathbf{x}, \\lambda)  = \\frac{\\partial}{\\partial\\mathbf{x}}  \\mathbf{c}(\\mathbf{x}) \n",
    "    \\end{equation}\n",
    "</span>"
   ]
  },
  {
   "cell_type": "markdown",
   "id": "3b12b272-0636-46f9-9a8e-111b4d3ffdf2",
   "metadata": {},
   "source": [
    "<span style=\"font-size:1.4em;\">\n",
    "\\begin{equation}\n",
    "     \\frac{\\partial}{\\partial\\mathbf{\\lambda}}\\nabla_{\\lambda} L(\\mathbf{x}, \\lambda)  = \\mathbf{0}\n",
    "    \\end{equation}\n",
    "</span>"
   ]
  },
  {
   "cell_type": "markdown",
   "id": "c1342638-cc68-4adc-a952-7628b32eff0f",
   "metadata": {},
   "source": [
    "<div style=\"text-align: justify; font-size: 20px;\">Reemplazando en la aproximación de Taylor e igualando a cero, se obtiene la siguiente expresión:</div>\n"
   ]
  },
  {
   "cell_type": "markdown",
   "id": "a4b0a752-9845-4e77-94bf-66a83dfbbb93",
   "metadata": {},
   "source": [
    "<span style=\"font-size:1.4em;\">\n",
    "\\begin{equation}\n",
    "    \\nabla_x L(\\mathbf{x}, \\lambda)  + (\\frac{\\partial}{\\partial\\mathbf{x}} \\nabla_x f(\\mathbf{x}) + \\frac{\\partial}{\\partial\\mathbf{x}}  ((\\frac{\\partial {\\mathbf{c}}}{\\partial \\mathbf{x}})^{T} \\lambda)  \\Delta \\mathbf{x} + (\\frac{\\partial {\\mathbf{c}}}{\\partial \\mathbf{x}}^{T}) \\Delta \\mathbf{\\lambda} = \\mathbf{0}\n",
    "    \\end{equation}\n",
    "</span>"
   ]
  },
  {
   "cell_type": "markdown",
   "id": "a167d7dd-824b-4f5f-9240-c942bf49a9b8",
   "metadata": {},
   "source": [
    "<span style=\"font-size:1.4em;\">\n",
    "\\begin{equation}\n",
    "      \\mathbf{c}(\\mathbf{x}) + \\frac{\\partial}{\\partial\\mathbf{x}}  \\mathbf{c}(\\mathbf{x})  \\Delta \\mathbf{x} = \\mathbf{0}\n",
    "    \\end{equation}\n",
    "</span>"
   ]
  },
  {
   "cell_type": "markdown",
   "id": "56c50034-8649-414c-a05f-9b467a5232e3",
   "metadata": {},
   "source": [
    "<div style=\"text-align: justify; font-size: 20px;\">Este sistema de ecuaciones puede ser expresado de forma compacta, como se presenta a continuación:</div>\n",
    "\n"
   ]
  },
  {
   "cell_type": "markdown",
   "id": "a4dfa21d-3e8e-4e51-a3d3-3b06436ae9ef",
   "metadata": {},
   "source": [
    "<span style=\"font-size:1.4em;\">\n",
    "\\begin{equation}\n",
    "      \\begin{bmatrix} \\frac{\\partial}{\\partial\\mathbf{x}} \\nabla_x f(\\mathbf{x}) + \\frac{\\partial}{\\partial\\mathbf{x}}  (\\frac{\\partial {\\mathbf{c}}}{\\partial \\mathbf{x}}^{T} \\lambda) &\\frac{\\partial {\\mathbf{c}}}{\\partial \\mathbf{x}}^{T} \\\\ \\frac{\\partial}{\\partial\\mathbf{x}}  \\mathbf{c}(\\mathbf{x}) & \\mathbf{0} \\end{bmatrix} \\begin{bmatrix} \\Delta \\mathbf{x} \\\\ \\Delta \\mathbf{\\lambda} \\end{bmatrix} = -\\begin{bmatrix} \\nabla_x L(\\mathbf{x}, \\lambda) \\\\  \\mathbf{c}(\\mathbf{x})\\end{bmatrix}\n",
    "    \\end{equation}\n",
    "</span>"
   ]
  },
  {
   "cell_type": "markdown",
   "id": "9c761c41-a25b-4fa0-980e-5a2aaf88ec21",
   "metadata": {},
   "source": [
    "<div style=\"text-align: justify; font-size: 20px;\">Este tipo de representacion se la conoce como \"KKT System\"</div>\n",
    "\n"
   ]
  },
  {
   "cell_type": "markdown",
   "id": "c540dc3d-59f4-49bb-848a-cfc2f30f7e23",
   "metadata": {},
   "source": [
    "<div style=\"text-align: justify; font-size: 20px;\">Este algoritmo representacion es mu util al momento de utilizar \"Newton Method\", debido a que se puede resolver el sistema para $\\Delta\\mathbf{x}$ y $\\Delta\\mathbf{\\lambda}$</div>\n"
   ]
  },
  {
   "cell_type": "markdown",
   "id": "fa46f4d6-f551-45d9-8671-11bad296e007",
   "metadata": {},
   "source": [
    "<h3 align=\"left\" style=\"font-size: 20px;\"><font color=\"#2D5AC1\"><strong>Gauss Newton Method</strong></font></h3>\n"
   ]
  },
  {
   "cell_type": "markdown",
   "id": "0b7793c4-da9d-4bab-8f15-8c398be4a5a3",
   "metadata": {},
   "source": [
    "<div style=\"text-align: justify; font-size: 20px;\">Analizar el elemento $(1, 1)$ de la matriz \"KKT\". A continuación, se representa este elemento:</div>\n"
   ]
  },
  {
   "cell_type": "markdown",
   "id": "a8e8c26f-5751-4588-9627-c7d5e657c5c3",
   "metadata": {},
   "source": [
    "<span style=\"font-size:1.4em;\">\n",
    "\\begin{equation}\n",
    "     \\frac{\\partial}{\\partial\\mathbf{x}}\\nabla_x L(\\mathbf{x}, \\lambda) = \\frac{\\partial}{\\partial\\mathbf{x}} \\nabla_x f(\\mathbf{x}) + \\frac{\\partial}{\\partial\\mathbf{x}}  (\\frac{\\partial {\\mathbf{c}}}{\\partial \\mathbf{x}})^{T} \\lambda\n",
    "    \\end{equation}\n",
    "</span>"
   ]
  },
  {
   "cell_type": "markdown",
   "id": "b68ea232-9901-4e97-913d-b3ba36526a09",
   "metadata": {},
   "source": [
    "<div style=\"text-align: justify; font-size: 20px;\">El último elemento de esta expresión puede considerarse como un tensor de orden $3$ y, en general, es lo más costoso de computar y molesto. Sin embargo, si utilizamos herramientas de diferenciación automática, este término no tiene costo y puede ser computado fácilmente, aunque se deben tomar ciertas precauciones.</div>\n"
   ]
  },
  {
   "cell_type": "markdown",
   "id": "6532a3dc-1f9a-4c08-a7c7-70ad024ed350",
   "metadata": {},
   "source": [
    "<div class=\"alert alert-block alert-success\" style=\"font-size: 16px;\">  \n",
    "  <b>Nota:</b> Si se quiere codificar esta expresión a mano, es mejor omitir el último elemento.\n",
    "</div>\n"
   ]
  },
  {
   "cell_type": "markdown",
   "id": "1fbd299a-ee18-4804-bffe-b7f49085c039",
   "metadata": {},
   "source": [
    "<div style=\"text-align: justify; font-size: 20px;\">Por lo que históricamente, si no se considera este elemento, el algoritmo de \"Newton\" toma el nombre de \"Gauss-Newton\".</div>\n"
   ]
  },
  {
   "cell_type": "markdown",
   "id": "7db97b9c-ea63-4422-9141-3b8292cf5559",
   "metadata": {},
   "source": [
    "<div class=\"alert alert-block alert-success\" style=\"font-size: 16px;\">  \n",
    "  <b>Nota:</b> \"Gauss new\"\n",
    "</div>\n"
   ]
  }
 ],
 "metadata": {
  "kernelspec": {
   "display_name": "Python 3 (ipykernel)",
   "language": "python",
   "name": "python3"
  },
  "language_info": {
   "codemirror_mode": {
    "name": "ipython",
    "version": 3
   },
   "file_extension": ".py",
   "mimetype": "text/x-python",
   "name": "python",
   "nbconvert_exporter": "python",
   "pygments_lexer": "ipython3",
   "version": "3.8.18"
  }
 },
 "nbformat": 4,
 "nbformat_minor": 5
}
