{
 "cells": [
  {
   "cell_type": "markdown",
   "id": "ca3b0f97-c119-4048-b428-46420cd9db5e",
   "metadata": {},
   "source": [
    "# <center><font color=\"blue\">Modelación Cinemática y Aplicación de Algoritmos de Control Avanzado en Webots</font></center>\n",
    "\n",
    "\n",
    "### <center>Luis F Recalde</center><center><font size=\"2\"><i>Artil Robotics</i></font></center>\n",
    "\n",
    "#### <center>Santo Domingo de los Colorados, 21 de Septiembre de 2020</center>\n",
    "\n",
    "# <center><font color=\"red\">Controlador No Lineal Basado en Lyapunov</font></center>\n",
    "\n",
    "<div style=\"text-align: justify\">A continuacion se presenta el modelo a utilizar en esta seccion, el cual se desarrollo en la practica anterior.</div>"
   ]
  },
  {
   "cell_type": "code",
   "execution_count": 9,
   "id": "f9e5b6c8-b214-44b1-9de5-a81032224e24",
   "metadata": {},
   "outputs": [],
   "source": [
    "b = 56"
   ]
  },
  {
   "cell_type": "code",
   "execution_count": 10,
   "id": "46c2eb9e-5a69-42ae-b145-603a2b69d916",
   "metadata": {},
   "outputs": [],
   "source": [
    "c = a + b"
   ]
  },
  {
   "cell_type": "code",
   "execution_count": 11,
   "id": "dab26b2a-88ae-43ea-a474-e541380aa26f",
   "metadata": {},
   "outputs": [
    {
     "name": "stdout",
     "output_type": "stream",
     "text": [
      "79\n"
     ]
    }
   ],
   "source": [
    "print(c)"
   ]
  },
  {
   "cell_type": "code",
   "execution_count": null,
   "id": "3674e874-9638-43a9-823a-68bcfd47240d",
   "metadata": {},
   "outputs": [],
   "source": []
  }
 ],
 "metadata": {
  "kernelspec": {
   "display_name": "Python 3 (ipykernel)",
   "language": "python",
   "name": "python3"
  },
  "language_info": {
   "codemirror_mode": {
    "name": "ipython",
    "version": 3
   },
   "file_extension": ".py",
   "mimetype": "text/x-python",
   "name": "python",
   "nbconvert_exporter": "python",
   "pygments_lexer": "ipython3",
   "version": "3.8.18"
  }
 },
 "nbformat": 4,
 "nbformat_minor": 5
}
