{
 "cells": [
  {
   "cell_type": "code",
   "execution_count": 2,
   "id": "c6ad3f8f-d497-49e5-bd1e-a9c5fc616e50",
   "metadata": {},
   "outputs": [],
   "source": [
    "from IPython.display import HTML\n",
    "from IPython.display import display, Image\n",
    "import casadi as ca\n",
    "from casadi import jacobian\n",
    "from casadi import gradient\n",
    "from casadi import Function\n",
    "from casadi import vertcat"
   ]
  },
  {
   "cell_type": "markdown",
   "id": "f7efa187-0f51-4c1f-9ffd-de30669a600b",
   "metadata": {},
   "source": [
    "<h1 align=\"center\" style=\"font-size: 35px;\"><font color=\"C1772D\"><strong>Aplicación del Control Óptimo en el Campo de la Robótica</strong></font></h1>\n",
    "\n",
    "<h2 align=\"center\"><font color=\"#667388\"><strong>Luis F. Recalde</strong><br>Ambato-Ecuador</font></h2>\n",
    "\n",
    "\n",
    "<h3 align=\"center\"><font color=\"#667388\"><strong>Universidad Indoamerica</strong></font></h3>"
   ]
  },
  {
   "cell_type": "markdown",
   "id": "cc4ab141-af25-4e72-8ce6-47b179801323",
   "metadata": {},
   "source": [
    "<h3 style=\"font-size: 30px; color: #C1772D; font-weight: bold; text-align: left;\">Optimización</h3>\n"
   ]
  },
  {
   "cell_type": "markdown",
   "id": "90de977a-7b9b-4da9-97c1-4ab4979840fc",
   "metadata": {},
   "source": [
    "<h3 align=\"left\" style=\"font-size: 20px; color: #667388;\"><strong>Notación</strong></h3>\n"
   ]
  },
  {
   "cell_type": "markdown",
   "id": "ea751404-cad8-467d-ac95-bc853b117c4b",
   "metadata": {},
   "source": [
    "<div style=\"text-align: justify; font-size: 20px;\"> En general, de los conceptos que se van a tratar existen diferentes notaciones, especialmente de dos áreas: \"Machine Learning\" y \"Optimization and Control\". Si no se definen de forma adecuada, pueden llegar a provocar problemas durante la codificación de los algoritmos. </div>\n",
    "\n"
   ]
  },
  {
   "cell_type": "markdown",
   "id": "6f00bb8f-74a4-459f-b731-4fe2e1bab5aa",
   "metadata": {},
   "source": [
    "<div style=\"text-align: justify; font-size: 20px;\"> Se presentará una notación que es fácil de entender y que funciona para todos los casos. Cabe mencionar que quizás no todos estén de acuerdo con esta nomenclatura.</div>\n"
   ]
  },
  {
   "cell_type": "markdown",
   "id": "4f122092-a8ad-4be8-8613-a8a432977076",
   "metadata": {},
   "source": [
    "<div style=\"text-align: justify; font-size: 20px;\"> Considerar la siguiente funcion:</div>\n"
   ]
  },
  {
   "cell_type": "markdown",
   "id": "f400483c-cb14-48ce-a620-250c9552f3af",
   "metadata": {},
   "source": [
    "<span style=\"font-size:1.4em;\">\n",
    "\\begin{equation}\n",
    "   {f}(\\mathbf{x}): \\mathbb{R}^{n} \\rightarrow \\mathbb{R} \n",
    "\\end{equation}\n",
    "</span>"
   ]
  },
  {
   "cell_type": "markdown",
   "id": "bdfb5046-57b9-409b-950f-d63357fbd569",
   "metadata": {},
   "source": [
    "<div style=\"text-align: justify; font-size: 20px;\"> De la cual se puede calcular su derivada parcial de la siguiente forma:</div>\n"
   ]
  },
  {
   "cell_type": "markdown",
   "id": "6673e7d5-a81a-4071-b943-a965b9ee4d32",
   "metadata": {},
   "source": [
    "<span style=\"font-size:1.4em;\">\n",
    "\\begin{equation}\n",
    "   \\frac{\\partial {f}}{\\partial \\mathbf{x}} \\in \\mathbb{R}^{1 \\times n} \n",
    "\\end{equation}\n",
    "</span>"
   ]
  },
  {
   "cell_type": "markdown",
   "id": "ba8194bb-a4d5-456e-8ed2-99006adc7a80",
   "metadata": {},
   "source": [
    "<div style=\"text-align: justify; font-size: 20px;\">el cual siempre es un vector fila.</div>\n"
   ]
  },
  {
   "cell_type": "markdown",
   "id": "1da8319f-1d67-41de-9029-622cf74ac02f",
   "metadata": {},
   "source": [
    "<div style=\"text-align: justify; font-size: 20px;\">Una de las razones por las cuales debe ser un vector fila y no un vector columna es que la regla de la cadena aún es aplicable. Esto se debe a que $\\frac{\\partial {f}}{\\partial \\mathbf{x}}$ es un operador lineal que mapea $\\Delta{\\mathbf{x}}$ en $\\Delta f$. Esto puede expresarse utilizando la aproximación de Taylor, como se muestra a continuación:</div>\n"
   ]
  },
  {
   "cell_type": "markdown",
   "id": "0b60deab-5d61-462d-83b8-b3e73ca035de",
   "metadata": {},
   "source": [
    "<span style=\"font-size:1.4em;\">\n",
    "\\begin{equation}\n",
    "   {f}(\\mathbf{x} + \\Delta \\mathbf{x}) \\approx  f(\\mathbf{x}) +   \\frac{\\partial {f}}{\\partial \\mathbf{x}}\\bigg|_{\\mathbf{x}} \\Delta \\mathbf{x}\n",
    "    \\end{equation}\n",
    "</span>"
   ]
  },
  {
   "cell_type": "markdown",
   "id": "8c696eb5-ca67-4793-912a-e6bfb8ec155c",
   "metadata": {},
   "source": [
    "<div style=\"text-align: justify; font-size: 20px;\">Demostrando que la única forma en la que la aproximación de Taylor tiene sentido es que $\\frac{\\partial {f}}{\\partial \\mathbf{x}}$ sea un vector fila.</div>\n"
   ]
  },
  {
   "cell_type": "markdown",
   "id": "194c71da-4f60-435b-af9f-e8b8586ce4d2",
   "metadata": {},
   "source": [
    "<div style=\"text-align: justify; font-size: 20px;\"> De igual forma si se tiene la siguiente funcion vectorial:</div>\n"
   ]
  },
  {
   "cell_type": "markdown",
   "id": "ecf465ff-953e-45c5-8b50-5ce8c555826d",
   "metadata": {},
   "source": [
    "<span style=\"font-size:1.4em;\">\n",
    "\\begin{equation}\n",
    "   {g}(\\mathbf{y}): \\mathbb{R}^{m} \\rightarrow \\mathbb{R}^{n} \n",
    "\\end{equation}\n",
    "</span>"
   ]
  },
  {
   "cell_type": "markdown",
   "id": "c6842d02-e9ec-43ab-9139-c15870540183",
   "metadata": {},
   "source": [
    "<div style=\"text-align: justify; font-size: 20px;\"> De la cual se puede calcular su derivada parcial de la siguiente forma:</div>\n"
   ]
  },
  {
   "cell_type": "markdown",
   "id": "29a847ca-8abe-4e78-a4ea-6c907e02bed3",
   "metadata": {},
   "source": [
    "<span style=\"font-size:1.4em;\">\n",
    "\\begin{equation}\n",
    "   \\frac{\\partial \\mathbf{g}}{\\partial \\mathbf{y}} \\in \\mathbb{R}^{n \\times m} \n",
    "\\end{equation}\n",
    "</span>"
   ]
  },
  {
   "cell_type": "markdown",
   "id": "88f345d3-45aa-4887-9030-df2035a63280",
   "metadata": {},
   "source": [
    "<div style=\"text-align: justify; font-size: 20px;\">Esto puede expresarse utilizando la aproximación de Taylor, como se muestra a continuación:</div>\n"
   ]
  },
  {
   "cell_type": "markdown",
   "id": "401ddd40-49d2-40fc-afe1-131a2ecd37da",
   "metadata": {},
   "source": [
    "<span style=\"font-size:1.4em;\">\n",
    "\\begin{equation}\n",
    "   \\mathbf{g}(\\mathbf{y} + \\Delta \\mathbf{y}) \\approx  \\mathbf{g}(\\mathbf{y}) +   \\frac{\\partial \\mathbf{g}}{\\partial \\mathbf{y}}\\bigg|_{\\mathbf{y}} \\Delta \\mathbf{y}\n",
    "    \\end{equation}\n",
    "</span>"
   ]
  },
  {
   "cell_type": "markdown",
   "id": "fe2a1fa2-f0a5-4572-ade6-3777733e397e",
   "metadata": {},
   "source": [
    "<div style=\"text-align: justify; font-size: 20px;\"> Estas definiciones hacen \"Chain rule\" funciones apropiadamente, esto se demuestra a continuacion:</div>"
   ]
  },
  {
   "cell_type": "markdown",
   "id": "f9e03075-c0ad-4613-9f6e-1c28972f62bc",
   "metadata": {},
   "source": [
    "<span style=\"font-size:1.4em;\">\n",
    "\\begin{equation}\n",
    "   {f}(\\mathbf{g}(\\mathbf{y} + \\Delta \\mathbf{y})) \\approx  f(\\mathbf{g}(\\mathbf{y})) +   \\frac{\\partial {f}}{\\partial \\mathbf{x}}\\bigg|_{\\mathbf{g}(\\mathbf{y})} \\frac{\\partial \\mathbf{g}}{\\partial \\mathbf{y}}\\bigg|_{\\mathbf{y}}  \\Delta \\mathbf{y}\n",
    "    \\end{equation}\n",
    "</span>"
   ]
  },
  {
   "cell_type": "markdown",
   "id": "927c288d-9f65-404f-9d0f-20141a5233ab",
   "metadata": {},
   "source": [
    "<div style=\"text-align: justify; font-size: 20px;\">Por otro lado, por conveniencia podemos definir el gradiente de la siguiente forma:</div>\n"
   ]
  },
  {
   "cell_type": "markdown",
   "id": "45a8ea79-4b8f-4bb4-b6b1-5bc22977549f",
   "metadata": {},
   "source": [
    "<span style=\"font-size:1.4em;\">\n",
    "\\begin{equation}\n",
    "   \\nabla f(\\mathbf{x}) = (\\frac{\\partial {f}}{\\partial \\mathbf{x}})^{T} \\in \\mathbb{R}^{n \\times 1} \n",
    "\\end{equation}\n",
    "</span>"
   ]
  },
  {
   "cell_type": "markdown",
   "id": "230949f8-c957-41aa-a2c2-7639a399fd41",
   "metadata": {},
   "source": [
    "<div style=\"text-align: justify; font-size: 20px;\">Finalmente es posible definir el Hessiano de la siguiente forma:</div>\n"
   ]
  },
  {
   "cell_type": "markdown",
   "id": "d9bfbfdf-c53f-442d-a62a-2fd43bf39a79",
   "metadata": {},
   "source": [
    "<span style=\"font-size:1.4em;\">\n",
    "\\begin{equation}\n",
    "   \\nabla^{2} f(\\mathbf{x}) = \\frac{\\partial}{\\mathbf{x}} \\nabla f(\\mathbf{x}) = \\frac{\\partial^2 {f}}{\\partial^2 \\mathbf{x}}\\in \\mathbb{R}^{n \\times n}\n",
    "\\end{equation}\n",
    "</span>"
   ]
  },
  {
   "cell_type": "markdown",
   "id": "5440ad60-471f-4cd3-8fbc-582c35f61fdc",
   "metadata": {},
   "source": [
    "<h3 align=\"left\" style=\"font-size: 20px; color: #667388;\"><strong>Root-Finding Algorithm</strong></h3>\n"
   ]
  },
  {
   "cell_type": "markdown",
   "id": "81d7dfb3-04b6-45f2-8f50-4a91afd767dd",
   "metadata": {},
   "source": [
    "<div style=\"text-align: justify; font-size: 20px;\">Este algoritmo se encarga de encontrar las raíces de un vector funcional. Esto puede expresarse de la siguiente forma:</div>\n"
   ]
  },
  {
   "cell_type": "markdown",
   "id": "da5a59ed-df6a-450e-bf68-877741cd319e",
   "metadata": {},
   "source": [
    "<span style=\"font-size:1.4em;\">\n",
    "\\begin{equation}\n",
    "   \\text{Dada la siguiente funcion}~~~~~~f({\\mathbf{x}})~~~~~~\\text{encontrar}~~~~~~~~\\mathbf{x}^{*}~~~~~~~\\text{tal que}~~~~~~f({\\mathbf{x}^{*}}) = \\mathbf{0}\n",
    "\\end{equation}\n",
    "</span>"
   ]
  },
  {
   "cell_type": "markdown",
   "id": "6a178085-b1e1-45dc-b6c0-69c742b8e4d2",
   "metadata": {},
   "source": [
    "<div class=\"alert alert-block alert-warning\" style=\"font-size: 16px;\">  \n",
    "  <b>Nota:</b> Un ejemplo práctico son los puntos de equilibrio de un sistema dinámico $\\mathbf{f}(\\mathbf{x}, \\mathbf{u}) = \\mathbf{0}$.\n",
    "</div>\n"
   ]
  },
  {
   "cell_type": "markdown",
   "id": "b2868b69-880e-48d2-bf0a-26c5748107ea",
   "metadata": {},
   "source": [
    "<div style=\"text-align: justify; font-size: 20px;\">Dicho concepto se encuentra relacionado con el \"Fixed point\", el cual puede ser escrito como:</div>\n"
   ]
  },
  {
   "cell_type": "markdown",
   "id": "d4fd2de7-23ea-4738-83d0-8c28ea0b1faa",
   "metadata": {},
   "source": [
    "<span style=\"font-size:1.4em;\">\n",
    "\\begin{equation}\n",
    "   f({\\mathbf{x}^{*}}) = \\mathbf{x}^{*}\n",
    "\\end{equation}\n",
    "</span>"
   ]
  },
  {
   "cell_type": "markdown",
   "id": "64881c60-6a96-4e83-ac6d-b38af7230542",
   "metadata": {},
   "source": [
    "<div class=\"alert alert-block alert-warning\" style=\"font-size: 16px;\">  \n",
    "  <b>Nota:</b> Un ejemplo práctico son los puntos de equilibrio de un sistema dinámico en tiempo discreto.\n",
    "</div>\n"
   ]
  },
  {
   "cell_type": "code",
   "execution_count": null,
   "id": "2122bee3-c16e-4ea7-b25a-e1d77009ffeb",
   "metadata": {},
   "outputs": [],
   "source": []
  }
 ],
 "metadata": {
  "kernelspec": {
   "display_name": "Python 3 (ipykernel)",
   "language": "python",
   "name": "python3"
  },
  "language_info": {
   "codemirror_mode": {
    "name": "ipython",
    "version": 3
   },
   "file_extension": ".py",
   "mimetype": "text/x-python",
   "name": "python",
   "nbconvert_exporter": "python",
   "pygments_lexer": "ipython3",
   "version": "3.8.18"
  }
 },
 "nbformat": 4,
 "nbformat_minor": 5
}
