{
 "cells": [
  {
   "cell_type": "code",
   "execution_count": 3,
   "id": "5b0e98ca-83c0-480b-ba39-cda58981bdb2",
   "metadata": {},
   "outputs": [
    {
     "name": "stdout",
     "output_type": "stream",
     "text": [
      "-----------------------------------------------------------------\n",
      "           OSQP v0.6.3  -  Operator Splitting QP Solver\n",
      "              (c) Bartolomeo Stellato,  Goran Banjac\n",
      "        University of Oxford  -  Stanford University 2021\n",
      "-----------------------------------------------------------------\n",
      "problem:  variables n = 50, constraints m = 50\n",
      "          nnz(P) + nnz(A) = 500\n",
      "settings: linear system solver = qdldl,\n",
      "          eps_abs = 1.0e-03, eps_rel = 1.0e-03,\n",
      "          eps_prim_inf = 1.0e-04, eps_dual_inf = 1.0e-04,\n",
      "          rho = 1.00e-01 (adaptive),\n",
      "          sigma = 1.00e-06, alpha = 0.50, max_iter = 4000\n",
      "          check_termination: on (interval 25),\n",
      "          scaling: on, scaled_termination: off\n",
      "          warm start: on, polish: off, time_limit: off\n",
      "\n",
      "iter   objective    pri res    dua res    rho        time\n",
      "   1   0.0000e+00   2.50e+00   4.47e+02   1.00e-01   2.18e-04s\n",
      " 150   1.6433e+01   3.24e-03   4.39e-04   1.14e+00   6.99e-04s\n",
      "\n",
      "status:               solved\n",
      "number of iterations: 150\n",
      "optimal objective:    16.4330\n",
      "run time:             7.32e-04s\n",
      "optimal rho estimate: 3.30e+00\n",
      "\n"
     ]
    }
   ],
   "source": [
    "import osqp\n",
    "import numpy as np\n",
    "import scipy as sp\n",
    "from scipy import sparse\n",
    "\n",
    "# Generate problem data\n",
    "sp.random.seed(1)\n",
    "m = 30\n",
    "n = 20\n",
    "Ad = sparse.random(m, n, density=0.7, format='csc')\n",
    "b = np.random.randn(m)\n",
    "\n",
    "# OSQP data\n",
    "P = sparse.block_diag([sparse.csc_matrix((n, n)), sparse.eye(m)], format='csc')\n",
    "q = np.zeros(n+m)\n",
    "A = sparse.bmat([[Ad,            -sparse.eye(m)],\n",
    "                 [sparse.eye(n),  None]], format='csc')\n",
    "l = np.hstack([b, np.zeros(n)])\n",
    "u = np.hstack([b, np.ones(n)])\n",
    "\n",
    "# Create an OSQP object\n",
    "prob = osqp.OSQP()\n",
    "\n",
    "# Setup workspace\n",
    "prob.setup(P, q, A, l, u, alpha = 0.5)\n",
    "\n",
    "# Solve problem\n",
    "res = prob.solve()"
   ]
  },
  {
   "cell_type": "code",
   "execution_count": 4,
   "id": "db5a0707-fd11-41be-a659-def9f4ea22e1",
   "metadata": {},
   "outputs": [
    {
     "data": {
      "text/plain": [
       "array([ 0.11887759, -0.00126601])"
      ]
     },
     "execution_count": 4,
     "metadata": {},
     "output_type": "execute_result"
    }
   ],
   "source": [
    "res.x[0:2]"
   ]
  },
  {
   "cell_type": "code",
   "execution_count": null,
   "id": "2593132d-0085-43f2-ade2-36a752695ffb",
   "metadata": {},
   "outputs": [],
   "source": []
  }
 ],
 "metadata": {
  "kernelspec": {
   "display_name": "Python 3 (ipykernel)",
   "language": "python",
   "name": "python3"
  },
  "language_info": {
   "codemirror_mode": {
    "name": "ipython",
    "version": 3
   },
   "file_extension": ".py",
   "mimetype": "text/x-python",
   "name": "python",
   "nbconvert_exporter": "python",
   "pygments_lexer": "ipython3",
   "version": "3.8.18"
  }
 },
 "nbformat": 4,
 "nbformat_minor": 5
}
