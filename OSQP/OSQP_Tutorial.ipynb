{
 "cells": [
  {
   "cell_type": "markdown",
   "id": "bbef6371-0f81-483f-adae-c550156642b5",
   "metadata": {},
   "source": [
    "<h1 align=\"center\" style=\"font-size: 35px;\"><font color=\"C1772D\"><strong>Aplicación del Control Óptimo en el Campo de la Robótica</strong></font></h1>\n",
    "\n",
    "<h2 align=\"center\"><font color=\"#667388\"><strong>Luis F. Recalde</strong><br>Ambato-Ecuador</font></h2>\n",
    "\n",
    "\n",
    "<h3 align=\"center\"><font color=\"#667388\"><strong>Universidad Indoamerica</strong></font></h3>"
   ]
  },
  {
   "cell_type": "markdown",
   "id": "98fc5bd0-f450-4ab8-bf89-01c5e340982f",
   "metadata": {},
   "source": [
    "<h3 style=\"font-size: 30px; color: #C1772D; font-weight: bold; text-align: left;\">OSQP</h3>\n"
   ]
  },
  {
   "cell_type": "markdown",
   "id": "50ae008d-72b8-43e8-a983-a8d8c9460b4b",
   "metadata": {},
   "source": [
    "<h3 align=\"left\" style=\"font-size: 20px; color: #667388;\"><strong>Aplicaciones</strong></h3>\n"
   ]
  },
  {
   "cell_type": "markdown",
   "id": "a629eebe-b078-4ca3-a8c1-097c4e36d21b",
   "metadata": {},
   "source": []
  },
  {
   "cell_type": "code",
   "execution_count": 1,
   "id": "aa2a986c-ea4b-4d79-9bd0-5147f4db9ccf",
   "metadata": {},
   "outputs": [],
   "source": [
    "import osqp"
   ]
  },
  {
   "cell_type": "code",
   "execution_count": 2,
   "id": "ef193b63-0220-4cd8-947a-3a73f032d2b7",
   "metadata": {},
   "outputs": [],
   "source": [
    "import numpy as np"
   ]
  },
  {
   "cell_type": "code",
   "execution_count": 3,
   "id": "559e71d0-ae30-4301-8de8-013e01a5f2ec",
   "metadata": {},
   "outputs": [],
   "source": [
    "from scipy import sparse"
   ]
  },
  {
   "cell_type": "markdown",
   "id": "2b22ff2a-8d80-48e7-940e-b356fff4225c",
   "metadata": {},
   "source": [
    "<div style=\"text-align: justify; font-size: 20px;\"> Definir el problema en OSQP. </div>"
   ]
  },
  {
   "cell_type": "markdown",
   "id": "4d14ea00-eec6-4e64-b379-b95a98014fa0",
   "metadata": {},
   "source": [
    "<div style=\"text-align: justify; font-size: 20px;\"> Definir Matrix $\\mathbf{Q}$ del problema convexo. </div>"
   ]
  },
  {
   "cell_type": "code",
   "execution_count": 4,
   "id": "4d9896c1-f801-4e2b-8185-249b74f6f839",
   "metadata": {},
   "outputs": [],
   "source": [
    "Q =  sparse.csc_matrix([[2, 0], [0, 2]])\n",
    "q = np.array([0, 0])"
   ]
  },
  {
   "cell_type": "markdown",
   "id": "e3e666fe-dfae-4408-92cf-cca7471e7097",
   "metadata": {},
   "source": [
    "<div style=\"text-align: justify; font-size: 20px;\"> Definir Matrix $\\mathbf{A}$. </div>"
   ]
  },
  {
   "cell_type": "code",
   "execution_count": 5,
   "id": "3cd23746-fb9a-4e27-966a-b34c4b83d597",
   "metadata": {},
   "outputs": [],
   "source": [
    "A =  sparse.csc_matrix([[1, -1]])"
   ]
  },
  {
   "cell_type": "markdown",
   "id": "37a1aa9b-ee4d-4ef5-a0cc-b534ac945989",
   "metadata": {},
   "source": [
    "<div style=\"text-align: justify; font-size: 20px;\"> Limites del sistema lineal$. </div>"
   ]
  },
  {
   "cell_type": "code",
   "execution_count": 6,
   "id": "5c42b1e3-f38a-4a02-8339-bc993c1d13cd",
   "metadata": {},
   "outputs": [],
   "source": [
    "l = np.array([-0.5])\n",
    "\n",
    "u = np.array([-0.5])"
   ]
  },
  {
   "cell_type": "markdown",
   "id": "0c148ff4-48d8-46b6-b890-95deb1599bb8",
   "metadata": {},
   "source": [
    "<div style=\"text-align: justify; font-size: 20px;\"> Crear Problema de Programacion cuadratica </div>"
   ]
  },
  {
   "cell_type": "code",
   "execution_count": 7,
   "id": "2562179f-f86a-4e1d-a1b1-708478526bfc",
   "metadata": {},
   "outputs": [],
   "source": [
    "prob = osqp.OSQP()"
   ]
  },
  {
   "cell_type": "markdown",
   "id": "f34344ec-1cd8-4bd7-9a8e-b988b77926c5",
   "metadata": {},
   "source": [
    "<div style=\"text-align: justify; font-size: 20px;\"> Configurar problema </div>"
   ]
  },
  {
   "cell_type": "code",
   "execution_count": 8,
   "id": "85615064-db32-4cf9-ac2c-9f6f507f7ca7",
   "metadata": {},
   "outputs": [
    {
     "name": "stdout",
     "output_type": "stream",
     "text": [
      "-----------------------------------------------------------------\n",
      "           OSQP v0.6.3  -  Operator Splitting QP Solver\n",
      "              (c) Bartolomeo Stellato,  Goran Banjac\n",
      "        University of Oxford  -  Stanford University 2021\n",
      "-----------------------------------------------------------------\n",
      "problem:  variables n = 2, constraints m = 1\n",
      "          nnz(P) + nnz(A) = 4\n",
      "settings: linear system solver = qdldl,\n",
      "          eps_abs = 1.0e-03, eps_rel = 1.0e-03,\n",
      "          eps_prim_inf = 1.0e-04, eps_dual_inf = 1.0e-04,\n",
      "          rho = 1.00e-01 (adaptive),\n",
      "          sigma = 1.00e-06, alpha = 0.50, max_iter = 4000\n",
      "          check_termination: on (interval 25),\n",
      "          scaling: on, scaled_termination: off\n",
      "          warm start: on, polish: off, time_limit: off\n",
      "\n"
     ]
    }
   ],
   "source": [
    "prob.setup(Q, q, A, l, u, alpha = 0.5)"
   ]
  },
  {
   "cell_type": "code",
   "execution_count": 9,
   "id": "8491b053-6f73-4182-a9a3-0c5efff57ff9",
   "metadata": {},
   "outputs": [
    {
     "name": "stdout",
     "output_type": "stream",
     "text": [
      "iter   objective    pri res    dua res    rho        time\n",
      "   1   0.0000e+00   5.00e-01   9.99e+01   1.00e-01   4.54e-04s\n",
      "  25   1.2500e-01   7.20e-07   5.95e-06   1.00e-01   7.96e-04s\n",
      "\n",
      "status:               solved\n",
      "number of iterations: 25\n",
      "optimal objective:    0.1250\n",
      "run time:             9.34e-04s\n",
      "optimal rho estimate: 3.48e-02\n",
      "\n"
     ]
    }
   ],
   "source": [
    "res = prob.solve()"
   ]
  },
  {
   "cell_type": "code",
   "execution_count": 10,
   "id": "b63ae0f8-3871-4a3a-b7be-262d41513fd7",
   "metadata": {},
   "outputs": [
    {
     "data": {
      "text/plain": [
       "array([-0.25000036,  0.25000036])"
      ]
     },
     "execution_count": 10,
     "metadata": {},
     "output_type": "execute_result"
    }
   ],
   "source": [
    "res.x[0:2]"
   ]
  },
  {
   "cell_type": "markdown",
   "id": "927d5ecd-38c5-460e-98b7-8c8bfb5c0645",
   "metadata": {},
   "source": [
    "<div style=\"text-align: justify; font-size: 20px;\"> Configurar problema </div>"
   ]
  },
  {
   "cell_type": "code",
   "execution_count": 11,
   "id": "5e593f5d-433e-4e68-aeb1-a7de251c7431",
   "metadata": {},
   "outputs": [],
   "source": [
    "Q =  sparse.csc_matrix([[2, 0, 0], [0, 2, 0], [0, 0, 1]])\n",
    "q = np.array([0, 0, 0])"
   ]
  },
  {
   "cell_type": "code",
   "execution_count": 12,
   "id": "2b8cc6cf-5076-49be-bce5-d2f7b6984d50",
   "metadata": {},
   "outputs": [
    {
     "ename": "ValueError",
     "evalue": "blocks[:,0] has incompatible row dimensions. Got blocks[1,0].shape[1] == 1, expected 2.",
     "output_type": "error",
     "traceback": [
      "\u001b[0;31m---------------------------------------------------------------------------\u001b[0m",
      "\u001b[0;31mValueError\u001b[0m                                Traceback (most recent call last)",
      "Cell \u001b[0;32mIn[12], line 2\u001b[0m\n\u001b[1;32m      1\u001b[0m Ad \u001b[38;5;241m=\u001b[39m  sparse\u001b[38;5;241m.\u001b[39mcsc_matrix([[\u001b[38;5;241m1\u001b[39m, \u001b[38;5;241m-\u001b[39m\u001b[38;5;241m1\u001b[39m]])\n\u001b[0;32m----> 2\u001b[0m A \u001b[38;5;241m=\u001b[39m \u001b[43msparse\u001b[49m\u001b[38;5;241;43m.\u001b[39;49m\u001b[43mbmat\u001b[49m\u001b[43m(\u001b[49m\u001b[43m[\u001b[49m\u001b[43m[\u001b[49m\u001b[43mAd\u001b[49m\u001b[43m,\u001b[49m\u001b[43m            \u001b[49m\u001b[38;5;241;43m-\u001b[39;49m\u001b[43msparse\u001b[49m\u001b[38;5;241;43m.\u001b[39;49m\u001b[43meye\u001b[49m\u001b[43m(\u001b[49m\u001b[38;5;241;43m1\u001b[39;49m\u001b[43m)\u001b[49m\u001b[43m]\u001b[49m\u001b[43m,\u001b[49m\n\u001b[1;32m      3\u001b[0m \u001b[43m                 \u001b[49m\u001b[43m[\u001b[49m\u001b[43msparse\u001b[49m\u001b[38;5;241;43m.\u001b[39;49m\u001b[43meye\u001b[49m\u001b[43m(\u001b[49m\u001b[38;5;241;43m1\u001b[39;49m\u001b[43m)\u001b[49m\u001b[43m,\u001b[49m\u001b[43m  \u001b[49m\u001b[38;5;28;43;01mNone\u001b[39;49;00m\u001b[43m]\u001b[49m\u001b[43m]\u001b[49m\u001b[43m,\u001b[49m\u001b[43m \u001b[49m\u001b[38;5;28;43mformat\u001b[39;49m\u001b[38;5;241;43m=\u001b[39;49m\u001b[38;5;124;43m'\u001b[39;49m\u001b[38;5;124;43mcsc\u001b[39;49m\u001b[38;5;124;43m'\u001b[39;49m\u001b[43m)\u001b[49m\n",
      "File \u001b[0;32m~/miniconda3/envs/optimization/lib/python3.8/site-packages/scipy/sparse/construct.py:598\u001b[0m, in \u001b[0;36mbmat\u001b[0;34m(blocks, format, dtype)\u001b[0m\n\u001b[1;32m    592\u001b[0m             \u001b[38;5;28;01melif\u001b[39;00m bcol_lengths[j] \u001b[38;5;241m!=\u001b[39m A\u001b[38;5;241m.\u001b[39mshape[\u001b[38;5;241m1\u001b[39m]:\n\u001b[1;32m    593\u001b[0m                 msg \u001b[38;5;241m=\u001b[39m (\u001b[38;5;124m'\u001b[39m\u001b[38;5;124mblocks[:,\u001b[39m\u001b[38;5;132;01m{j}\u001b[39;00m\u001b[38;5;124m] has incompatible row dimensions. \u001b[39m\u001b[38;5;124m'\u001b[39m\n\u001b[1;32m    594\u001b[0m                        \u001b[38;5;124m'\u001b[39m\u001b[38;5;124mGot blocks[\u001b[39m\u001b[38;5;132;01m{i}\u001b[39;00m\u001b[38;5;124m,\u001b[39m\u001b[38;5;132;01m{j}\u001b[39;00m\u001b[38;5;124m].shape[1] == \u001b[39m\u001b[38;5;132;01m{got}\u001b[39;00m\u001b[38;5;124m, \u001b[39m\u001b[38;5;124m'\u001b[39m\n\u001b[1;32m    595\u001b[0m                        \u001b[38;5;124m'\u001b[39m\u001b[38;5;124mexpected \u001b[39m\u001b[38;5;132;01m{exp}\u001b[39;00m\u001b[38;5;124m.\u001b[39m\u001b[38;5;124m'\u001b[39m\u001b[38;5;241m.\u001b[39mformat(i\u001b[38;5;241m=\u001b[39mi, j\u001b[38;5;241m=\u001b[39mj,\n\u001b[1;32m    596\u001b[0m                                                 exp\u001b[38;5;241m=\u001b[39mbcol_lengths[j],\n\u001b[1;32m    597\u001b[0m                                                 got\u001b[38;5;241m=\u001b[39mA\u001b[38;5;241m.\u001b[39mshape[\u001b[38;5;241m1\u001b[39m]))\n\u001b[0;32m--> 598\u001b[0m                 \u001b[38;5;28;01mraise\u001b[39;00m \u001b[38;5;167;01mValueError\u001b[39;00m(msg)\n\u001b[1;32m    600\u001b[0m nnz \u001b[38;5;241m=\u001b[39m \u001b[38;5;28msum\u001b[39m(block\u001b[38;5;241m.\u001b[39mnnz \u001b[38;5;28;01mfor\u001b[39;00m block \u001b[38;5;129;01min\u001b[39;00m blocks[block_mask])\n\u001b[1;32m    601\u001b[0m \u001b[38;5;28;01mif\u001b[39;00m dtype \u001b[38;5;129;01mis\u001b[39;00m \u001b[38;5;28;01mNone\u001b[39;00m:\n",
      "\u001b[0;31mValueError\u001b[0m: blocks[:,0] has incompatible row dimensions. Got blocks[1,0].shape[1] == 1, expected 2."
     ]
    }
   ],
   "source": [
    "Ad =  sparse.csc_matrix([[1, -1]])\n",
    "A = sparse.bmat([[Ad,            -sparse.eye(1)],\n",
    "                 [sparse.eye(1),  None]], format='csc')"
   ]
  },
  {
   "cell_type": "code",
   "execution_count": null,
   "id": "3c6e2e97-0b94-4157-8902-5f69105c9692",
   "metadata": {},
   "outputs": [],
   "source": [
    "l = np.array([-1.5, -4, 0])\n",
    "\n",
    "u = np.array([-1.5, -1, 4])"
   ]
  },
  {
   "cell_type": "code",
   "execution_count": null,
   "id": "b9182633-cc04-4b7d-9821-ced0bb65068d",
   "metadata": {},
   "outputs": [],
   "source": [
    "prob = osqp.OSQP()"
   ]
  },
  {
   "cell_type": "code",
   "execution_count": null,
   "id": "c7c7c09c-aaea-4683-a1de-afa91a39ed5a",
   "metadata": {},
   "outputs": [],
   "source": [
    "prob.setup(Q, q, A, l, u, alpha = 0.5)"
   ]
  },
  {
   "cell_type": "code",
   "execution_count": null,
   "id": "353e2d99-1f4a-423d-b319-04d9309eca3e",
   "metadata": {},
   "outputs": [],
   "source": [
    "res.x[0:2]"
   ]
  },
  {
   "cell_type": "code",
   "execution_count": null,
   "id": "95e062d8-2214-419a-9ca2-a000bf88c2dc",
   "metadata": {},
   "outputs": [],
   "source": []
  }
 ],
 "metadata": {
  "kernelspec": {
   "display_name": "Python 3 (ipykernel)",
   "language": "python",
   "name": "python3"
  },
  "language_info": {
   "codemirror_mode": {
    "name": "ipython",
    "version": 3
   },
   "file_extension": ".py",
   "mimetype": "text/x-python",
   "name": "python",
   "nbconvert_exporter": "python",
   "pygments_lexer": "ipython3",
   "version": "3.8.18"
  }
 },
 "nbformat": 4,
 "nbformat_minor": 5
}
