{
 "cells": [
  {
   "cell_type": "code",
   "execution_count": 1,
   "id": "32704ee5-4aad-4f12-8470-2323f588cac2",
   "metadata": {},
   "outputs": [],
   "source": [
    "import osqp\n",
    "import numpy as np\n",
    "import scipy as sp\n",
    "from scipy import sparse"
   ]
  },
  {
   "cell_type": "code",
   "execution_count": 22,
   "id": "81e5cbe2-4b77-443a-b59c-01d78553d259",
   "metadata": {},
   "outputs": [
    {
     "name": "stdout",
     "output_type": "stream",
     "text": [
      "(3, 3)\n",
      "(1, 2)\n"
     ]
    }
   ],
   "source": [
    "P = sparse.csc_matrix([[1, 0, 0], [0, 1, 0], [0, 0, 100]])\n",
    "print(P.shape)\n",
    "A =  np.array([[1, -1]])\n",
    "Ad = sparse.csc_matrix([[A[0, 0], A[0, 1]]])\n",
    "print(Ad.shape)\n",
    "A = sparse.vstack([\n",
    "    sparse.hstack([Ad, -sparse.eye(1)]),\n",
    "    sparse.hstack([sparse.eye(2), sparse.csc_matrix((2, 1))])], format='csc')\n",
    "q = np.zeros(3)"
   ]
  },
  {
   "cell_type": "code",
   "execution_count": 25,
   "id": "d70545f4-94fd-4d9e-8c95-e2015b791860",
   "metadata": {},
   "outputs": [
    {
     "name": "stdout",
     "output_type": "stream",
     "text": [
      "-----------------------------------------------------------------\n",
      "           OSQP v0.6.3  -  Operator Splitting QP Solver\n",
      "              (c) Bartolomeo Stellato,  Goran Banjac\n",
      "        University of Oxford  -  Stanford University 2021\n",
      "-----------------------------------------------------------------\n",
      "problem:  variables n = 3, constraints m = 3\n",
      "          nnz(P) + nnz(A) = 8\n",
      "settings: linear system solver = qdldl,\n",
      "          eps_abs = 1.0e-03, eps_rel = 1.0e-03,\n",
      "          eps_prim_inf = 1.0e-04, eps_dual_inf = 1.0e-04,\n",
      "          rho = 1.00e-01 (adaptive),\n",
      "          sigma = 1.00e-06, alpha = 1.50, max_iter = 4000\n",
      "          check_termination: on (interval 25),\n",
      "          scaling: on, scaled_termination: off\n",
      "          warm start: on, polish: off, time_limit: off\n",
      "\n",
      "iter   objective    pri res    dua res    rho        time\n",
      "   1   0.0000e+00   1.50e+00   1.50e+02   1.00e-01   1.42e-04s\n",
      "  50   6.2376e-01   7.24e-13   5.78e-13   1.15e+00   1.96e-04s\n",
      "\n",
      "status:               solved\n",
      "number of iterations: 50\n",
      "optimal objective:    0.6238\n",
      "run time:             4.33e-04s\n",
      "optimal rho estimate: 1.05e+00\n",
      "\n"
     ]
    }
   ],
   "source": [
    "l = np.hstack([-1.5, -4, 0])\n",
    "u = np.hstack([-1.5, -1, 4])\n",
    "\n",
    "# Create an OSQP object\n",
    "prob = osqp.OSQP()\n",
    "\n",
    "# Setup workspace\n",
    "prob.setup(P, q, A, l, u, alpha = 1.5)\n",
    "\n",
    "# Solve problem\n",
    "res = prob.solve()"
   ]
  },
  {
   "cell_type": "code",
   "execution_count": 26,
   "id": "8cf8c1a7-0f98-4e6d-9bec-731caad3aa7a",
   "metadata": {},
   "outputs": [
    {
     "data": {
      "text/plain": [
       "array([-1.       ,  0.4950495])"
      ]
     },
     "execution_count": 26,
     "metadata": {},
     "output_type": "execute_result"
    }
   ],
   "source": [
    "res.x[0:2]"
   ]
  },
  {
   "cell_type": "code",
   "execution_count": null,
   "id": "0e3e14e1-0a17-48aa-bda7-aaa16ac29cc2",
   "metadata": {},
   "outputs": [],
   "source": []
  },
  {
   "cell_type": "code",
   "execution_count": null,
   "id": "20803b39-7518-4b90-a22b-9effe9d0d967",
   "metadata": {},
   "outputs": [],
   "source": []
  },
  {
   "cell_type": "code",
   "execution_count": null,
   "id": "028b9015-38e1-4bbb-b3dd-88da65995915",
   "metadata": {},
   "outputs": [],
   "source": []
  }
 ],
 "metadata": {
  "kernelspec": {
   "display_name": "Python 3 (ipykernel)",
   "language": "python",
   "name": "python3"
  },
  "language_info": {
   "codemirror_mode": {
    "name": "ipython",
    "version": 3
   },
   "file_extension": ".py",
   "mimetype": "text/x-python",
   "name": "python",
   "nbconvert_exporter": "python",
   "pygments_lexer": "ipython3",
   "version": "3.8.18"
  }
 },
 "nbformat": 4,
 "nbformat_minor": 5
}
