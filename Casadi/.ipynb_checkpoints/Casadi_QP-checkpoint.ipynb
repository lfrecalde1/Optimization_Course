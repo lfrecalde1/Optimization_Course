{
 "cells": [
  {
   "cell_type": "markdown",
   "id": "32abdb8e-13dc-46b3-9ddb-c2ce14a86fd9",
   "metadata": {},
   "source": [
    "<h1 align=\"center\" style=\"font-size: 35px;\"><font color=\"C1772D\"><strong>Aplicación del Control Óptimo en el Campo de la Robótica</strong></font></h1>\n",
    "\n",
    "<h2 align=\"center\"><font color=\"#667388\"><strong>Luis F. Recalde</strong><br>Ambato-Ecuador</font></h2>\n",
    "\n",
    "\n",
    "<h3 align=\"center\"><font color=\"#667388\"><strong>Universidad Indoamerica</strong></font></h3>"
   ]
  },
  {
   "cell_type": "markdown",
   "id": "b858810f-d30b-4d55-9852-7006c78213d0",
   "metadata": {},
   "source": [
    "<h3 style=\"font-size: 30px; color: #C1772D; font-weight: bold; text-align: left;\">Casadi</h3>\n"
   ]
  },
  {
   "cell_type": "markdown",
   "id": "5733bb43-10fe-492c-9553-e8ad885911a9",
   "metadata": {},
   "source": [
    "<h3 align=\"left\" style=\"font-size: 20px; color: #667388;\"><strong>Programacion Cuadratica</strong></h3>\n"
   ]
  },
  {
   "cell_type": "markdown",
   "id": "ec78293c-c807-4746-b8cf-3a8f1642b027",
   "metadata": {},
   "source": [
    "<span style=\"font-size:1.4em;\">\n",
    "\\begin{equation}\n",
    "    \\begin{split}\n",
    "   \\min_{\\small \\mathbf{x}}  \\quad  \\mathbf{x}^{T} \\mathbf{Q} \\mathbf{x} + \\mathbf{g}^{T}\\mathbf{x}\\\\\n",
    "    \\textrm{subject to: } \\\\\n",
    "    \\mathbf{c}(\\mathbf{x}) = 0\n",
    "    \\end{split}\n",
    "    \\end{equation}\n",
    "</span>"
   ]
  }
 ],
 "metadata": {
  "kernelspec": {
   "display_name": "Python 3 (ipykernel)",
   "language": "python",
   "name": "python3"
  },
  "language_info": {
   "codemirror_mode": {
    "name": "ipython",
    "version": 3
   },
   "file_extension": ".py",
   "mimetype": "text/x-python",
   "name": "python",
   "nbconvert_exporter": "python",
   "pygments_lexer": "ipython3",
   "version": "3.8.18"
  }
 },
 "nbformat": 4,
 "nbformat_minor": 5
}
