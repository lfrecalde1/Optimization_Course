{
 "cells": [
  {
   "cell_type": "markdown",
   "id": "32abdb8e-13dc-46b3-9ddb-c2ce14a86fd9",
   "metadata": {},
   "source": [
    "<h1 align=\"center\" style=\"font-size: 35px;\"><font color=\"C1772D\"><strong>Aplicación del Control Óptimo en el Campo de la Robótica</strong></font></h1>\n",
    "\n",
    "<h2 align=\"center\"><font color=\"#667388\"><strong>Luis F. Recalde</strong><br>Ambato-Ecuador</font></h2>\n",
    "\n",
    "\n",
    "<h3 align=\"center\"><font color=\"#667388\"><strong>Universidad Indoamerica</strong></font></h3>"
   ]
  },
  {
   "cell_type": "markdown",
   "id": "b858810f-d30b-4d55-9852-7006c78213d0",
   "metadata": {},
   "source": [
    "<h3 style=\"font-size: 30px; color: #C1772D; font-weight: bold; text-align: left;\">Casadi</h3>\n"
   ]
  },
  {
   "cell_type": "markdown",
   "id": "5733bb43-10fe-492c-9553-e8ad885911a9",
   "metadata": {},
   "source": [
    "<h3 align=\"left\" style=\"font-size: 20px; color: #667388;\"><strong>Programacion Cuadratica</strong></h3>\n"
   ]
  },
  {
   "cell_type": "markdown",
   "id": "ec78293c-c807-4746-b8cf-3a8f1642b027",
   "metadata": {},
   "source": [
    "<span style=\"font-size:1.4em;\">\n",
    "\\begin{equation}\n",
    "    \\begin{split}\n",
    "   \\min_{\\small \\mathbf{x}}  \\quad  \\mathbf{x}^{T} \\mathbf{Q} \\mathbf{x} + \\mathbf{g}^{T}\\mathbf{x}\\\\\n",
    "    \\textrm{subject to: } \\\\\n",
    "    \\mathbf{x}_{lb} \\leq \\mathbf{x} \\leq \\mathbf{x}_{ub}\n",
    "    \\\\\n",
    "    \\mathbf{a}_{lb} \\leq \\mathbf{A}\\mathbf{x} \\leq \\mathbf{a}_{ub}\n",
    "    \\end{split}\n",
    "    \\end{equation}\n",
    "</span>"
   ]
  },
  {
   "cell_type": "markdown",
   "id": "83fd46f2-0c2e-48ab-870b-57bde6e25832",
   "metadata": {},
   "source": [
    "<div class=\"alert alert-block alert-success\" style=\"font-size: 16px;\">  \n",
    "  <b>Code:</b> \n",
    "</div>"
   ]
  },
  {
   "cell_type": "code",
   "execution_count": 6,
   "id": "86335b47-339b-44a5-8c62-0bfe1bdd1e18",
   "metadata": {},
   "outputs": [],
   "source": [
    "import casadi as ca"
   ]
  },
  {
   "cell_type": "markdown",
   "id": "a9f78687-661e-4ded-b656-99f54b3838cb",
   "metadata": {},
   "source": [
    "<div style=\"text-align: justify; font-size: 20px;\"> Crear el problema. </div>"
   ]
  },
  {
   "cell_type": "code",
   "execution_count": 8,
   "id": "54a114d2-22ed-4745-817c-b72671af4dd3",
   "metadata": {},
   "outputs": [
    {
     "name": "stdout",
     "output_type": "stream",
     "text": [
      "\n",
      "\n",
      "####################   qpOASES  --  QP NO.   1   #####################\n",
      "\n",
      "    Iter   |    StepLength    |       Info       |   nFX   |   nAC    \n",
      " ----------+------------------+------------------+---------+--------- \n",
      "       0   |   1.891892e-01   |   ADD CON    0   |     1   |     1   \n",
      "       1   |   1.333333e-02   |   REM BND    1   |     0   |     1   \n",
      "       2   |   1.000000e+00   |    QP SOLVED     |     0   |     1   \n",
      "Optimal x: [0.5, 0.5]\n"
     ]
    }
   ],
   "source": [
    "# Example data for a QP problem\n",
    "H = ca.DM([[2, 0], [0, 2]])  # Quadratic term\n",
    "g = ca.DM([0, 0])           # Linear term in the objective function\n",
    "A = ca.DM([[1, 1]])         # Constraint matrix\n",
    "lba = ca.DM([1])            # Lower bound for constraint\n",
    "uba = ca.DM([1])            # Upper bound for constraint\n",
    "lbx = ca.DM([-1, -1])       # Lower bounds for x\n",
    "ubx = ca.DM([2, 2])         # Upper bounds for x\n",
    "\n",
    "# Define the QP problem\n",
    "qp = {'h': H.sparsity(), 'a': A.sparsity()}\n",
    "S = ca.conic('S', 'qpoases', qp)\n",
    "\n",
    "# Solve the QP\n",
    "res = S(h=H, g=g, a=A, lba=lba, uba=uba, lbx=lbx, ubx=ubx)\n",
    "x_opt = res['x']\n",
    "\n",
    "print(\"Optimal x:\", x_opt)"
   ]
  },
  {
   "cell_type": "code",
   "execution_count": null,
   "id": "f5da5851-b940-4cf9-96e0-f43c1ad4f755",
   "metadata": {},
   "outputs": [],
   "source": []
  },
  {
   "cell_type": "code",
   "execution_count": null,
   "id": "10b454e3-c7ee-4249-9f19-8cc72718e016",
   "metadata": {},
   "outputs": [],
   "source": []
  },
  {
   "cell_type": "code",
   "execution_count": null,
   "id": "b1756ee7-3f2a-4614-a242-1a8959a5b987",
   "metadata": {},
   "outputs": [],
   "source": []
  },
  {
   "cell_type": "code",
   "execution_count": null,
   "id": "360dfb29-6984-47d5-af8e-41690922b9a2",
   "metadata": {},
   "outputs": [],
   "source": []
  }
 ],
 "metadata": {
  "kernelspec": {
   "display_name": "Python 3 (ipykernel)",
   "language": "python",
   "name": "python3"
  },
  "language_info": {
   "codemirror_mode": {
    "name": "ipython",
    "version": 3
   },
   "file_extension": ".py",
   "mimetype": "text/x-python",
   "name": "python",
   "nbconvert_exporter": "python",
   "pygments_lexer": "ipython3",
   "version": "3.8.18"
  }
 },
 "nbformat": 4,
 "nbformat_minor": 5
}
