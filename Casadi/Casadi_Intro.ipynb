{
 "cells": [
  {
   "cell_type": "code",
   "execution_count": 1,
   "id": "f977ec91-e56f-4302-8d6e-0bb27433a0aa",
   "metadata": {},
   "outputs": [],
   "source": [
    "from IPython.display import HTML\n",
    "from IPython.display import display, Image\n",
    "import casadi as ca\n",
    "from casadi import jacobian\n",
    "from casadi import gradient\n",
    "from casadi import Function\n",
    "from casadi import vertcat"
   ]
  },
  {
   "cell_type": "markdown",
   "id": "39f44c0b-ce33-49d0-b806-cb14edafdb77",
   "metadata": {},
   "source": [
    "<h1 align=\"center\" style=\"font-size: 35px;\"><font color=\"C1772D\"><strong>Aplicación del Control Óptimo en el Campo de la Robótica</strong></font></h1>\n",
    "\n",
    "<h2 align=\"center\"><font color=\"#667388\"><strong>Luis F. Recalde</strong><br>Ambato-Ecuador</font></h2>\n",
    "\n",
    "\n",
    "<h3 align=\"center\"><font color=\"#667388\"><strong>Universidad Indoamerica</strong></font></h3>"
   ]
  },
  {
   "cell_type": "markdown",
   "id": "e88c305b-ddc0-4255-a60c-56a4b32f48f1",
   "metadata": {},
   "source": [
    "<h3 style=\"font-size: 30px; color: #C1772D; font-weight: bold; text-align: left;\">Casadi</h3>\n"
   ]
  },
  {
   "cell_type": "markdown",
   "id": "38381292-89fb-4508-9131-a0546069289d",
   "metadata": {},
   "source": [
    "<h3 align=\"left\" style=\"font-size: 20px; color: #667388;\"><strong>Introducción</strong></h3>\n"
   ]
  },
  {
   "cell_type": "markdown",
   "id": "c023d429-d3d8-4e9e-a6ae-16484656bd43",
   "metadata": {},
   "source": [
    "<div style=\"text-align: justify; font-size: 20px;\">CasADi es una herramienta de software de código abierto para optimización numérica en general y control óptimo.</div>\n"
   ]
  },
  {
   "cell_type": "markdown",
   "id": "da80b09d-a390-444f-b499-bdff7d9c3888",
   "metadata": {},
   "source": [
    "<div style=\"text-align: justify; font-size: 20px;\"> Se va formular y manipular expresiones en el marco simbólico de CasADi, generar información sobre derivadas de manera eficiente utilizando, establecer, resolver y realizar análisis de sensibilidad directo de ecuaciones diferenciales ordinarias (ODE) o ecuaciones diferenciales-algebraicas (DAE), así como formular y resolver problemas de programación no lineal (NLP) y problemas de control óptimo (OCP).</div>\n"
   ]
  },
  {
   "cell_type": "markdown",
   "id": "812c46d6-e21d-4ee5-90cc-01df911def0b",
   "metadata": {},
   "source": [
    "<div style=\"text-align: justify; font-size: 20px;\"> CasADi comenzó como una herramienta para la diferenciación algorítmica (AD) utilizando una sintaxis tomada de los sistemas de álgebra computacional (CAS), lo que explica su nombre. Aunque la AD sigue siendo una de las funcionalidades principales de la herramienta, el alcance de esta se ha ampliado considerablemente, con la adición de soporte para la integración y análisis de sensibilidad de ODE/DAE, programación no lineal e interfaces con otras herramientas numéricas. En su forma actual, es una herramienta de propósito general para la optimización numérica basada en gradientes, con un enfoque fuerte en el control óptimo.</div>\n"
   ]
  },
  {
   "cell_type": "markdown",
   "id": "73a727f9-e85f-48fc-a8cc-4bc1d2441cfd",
   "metadata": {},
   "source": [
    "<div style=\"text-align: justify; font-size: 20px;\"> CasADi no es un “solucionador de problemas de control óptimo” que permita al usuario introducir un OCP y luego devolver la solución. En cambio, intenta proporcionar al usuario un conjunto de “bloques de construcción” que pueden utilizarse para implementar solucionadores de OCP de propósito general o específico de manera eficiente con un esfuerzo de programación moderado.</div>\n"
   ]
  },
  {
   "cell_type": "code",
   "execution_count": 2,
   "id": "5535b658-9907-495e-9c2f-6f91d6eacaee",
   "metadata": {},
   "outputs": [
    {
     "data": {
      "text/html": [
       "<div style=\"text-align:center;\"><img src=\"casadi.png\" width=\"400\"></div>"
      ],
      "text/plain": [
       "<IPython.core.display.HTML object>"
      ]
     },
     "metadata": {},
     "output_type": "display_data"
    }
   ],
   "source": [
    "# Path to your image file\n",
    "image_path = 'casadi.png'\n",
    "\n",
    "# Specify the width for the image (adjust the value as needed)\n",
    "image_width = 400\n",
    "\n",
    "# HTML code for centering the image\n",
    "html_code = f'<div style=\"text-align:center;\"><img src=\"{image_path}\" width=\"{image_width}\"></div>'\n",
    "\n",
    "# Display the HTML code\n",
    "display(HTML(html_code))"
   ]
  },
  {
   "cell_type": "markdown",
   "id": "4fe9622f-4994-4eb6-9e4b-83511522687e",
   "metadata": {},
   "source": [
    "<h3 align=\"left\" style=\"font-size: 20px; color: #667388;\"><strong>Simbologia SX</strong></h3>\n"
   ]
  },
  {
   "cell_type": "markdown",
   "id": "5cc02e52-d2f4-4a26-9538-99fde81c23b3",
   "metadata": {},
   "source": [
    "<div style=\"text-align: justify; font-size: 20px;\"> El tipo de dato SX se utiliza para representar matrices cuyos elementos consisten en expresiones simbólicas formadas por una secuencia de operaciones unarias y binarias.</div>"
   ]
  },
  {
   "cell_type": "markdown",
   "id": "0d56beb9-8ef5-4113-aec4-e19277b22d8a",
   "metadata": {},
   "source": [
    "<div class=\"alert alert-block alert-success\" style=\"font-size: 16px;\">  \n",
    "  <b>Code:</b> \n",
    "</div>"
   ]
  },
  {
   "cell_type": "code",
   "execution_count": 3,
   "id": "772390cc-764b-4a4f-9729-9e246d6e55c0",
   "metadata": {},
   "outputs": [],
   "source": [
    "from casadi import *"
   ]
  },
  {
   "cell_type": "code",
   "execution_count": 4,
   "id": "78ae0c81-2cc2-4f78-ab96-5c0cf58570db",
   "metadata": {},
   "outputs": [],
   "source": [
    "x = SX.sym(\"x\")"
   ]
  },
  {
   "cell_type": "markdown",
   "id": "7bccd63f-ffa2-40aa-8b15-44080ba65d1c",
   "metadata": {},
   "source": [
    "<div style=\"text-align: justify; font-size: 20px;\"> Con esto se creara una matriz de $\\mathbb{R}^{1 \\times 1}$, la cual contiene la variable simbolica $x$. </div>"
   ]
  },
  {
   "cell_type": "code",
   "execution_count": 1,
   "id": "4b8a7975-d71c-40ca-89f6-1507aa3d1adb",
   "metadata": {},
   "outputs": [
    {
     "ename": "NameError",
     "evalue": "name 'x' is not defined",
     "output_type": "error",
     "traceback": [
      "\u001b[0;31m---------------------------------------------------------------------------\u001b[0m",
      "\u001b[0;31mNameError\u001b[0m                                 Traceback (most recent call last)",
      "Cell \u001b[0;32mIn[1], line 1\u001b[0m\n\u001b[0;32m----> 1\u001b[0m \u001b[43mx\u001b[49m\n",
      "\u001b[0;31mNameError\u001b[0m: name 'x' is not defined"
     ]
    }
   ],
   "source": [
    "x"
   ]
  },
  {
   "cell_type": "markdown",
   "id": "f09122db-9a20-4a68-b4e7-801a58aa2f21",
   "metadata": {},
   "source": [
    "<div style=\"text-align: justify; font-size: 20px;\">De igual forma se puede crear matrices y vector de variables simbolicas, incluyendo argumentos adicionales a SX.sym()</div>"
   ]
  },
  {
   "cell_type": "code",
   "execution_count": 6,
   "id": "042a5506-8224-4c50-9745-2e9d7c7ca537",
   "metadata": {},
   "outputs": [],
   "source": [
    "y = SX.sym('y', 5)\n",
    "Z = SX.sym('z', 4, 2)"
   ]
  },
  {
   "cell_type": "code",
   "execution_count": 7,
   "id": "dd6c352c-f8a1-48a0-84d3-c655356c649a",
   "metadata": {},
   "outputs": [
    {
     "data": {
      "text/plain": [
       "(5, 1)"
      ]
     },
     "execution_count": 7,
     "metadata": {},
     "output_type": "execute_result"
    }
   ],
   "source": [
    "y.shape"
   ]
  },
  {
   "cell_type": "code",
   "execution_count": 8,
   "id": "f340f210-0824-4934-bb0d-4b030484e288",
   "metadata": {},
   "outputs": [
    {
     "data": {
      "text/plain": [
       "(4, 2)"
      ]
     },
     "execution_count": 8,
     "metadata": {},
     "output_type": "execute_result"
    }
   ],
   "source": [
    "Z.shape"
   ]
  },
  {
   "cell_type": "code",
   "execution_count": 9,
   "id": "9e236020-7f5b-4ba5-8cbb-f5df0dba64aa",
   "metadata": {},
   "outputs": [
    {
     "data": {
      "text/plain": [
       "SX([y_0, y_1, y_2, y_3, y_4])"
      ]
     },
     "execution_count": 9,
     "metadata": {},
     "output_type": "execute_result"
    }
   ],
   "source": [
    "y"
   ]
  },
  {
   "cell_type": "code",
   "execution_count": 10,
   "id": "a757c4f9-7d56-4f7c-9b67-fe49477e1392",
   "metadata": {},
   "outputs": [
    {
     "data": {
      "text/plain": [
       "SX(\n",
       "[[z_0, z_4], \n",
       " [z_1, z_5], \n",
       " [z_2, z_6], \n",
       " [z_3, z_7]])"
      ]
     },
     "execution_count": 10,
     "metadata": {},
     "output_type": "execute_result"
    }
   ],
   "source": [
    "Z"
   ]
  },
  {
   "cell_type": "markdown",
   "id": "9d17ec21-1371-4434-a891-ae25176f28be",
   "metadata": {},
   "source": [
    "<div style=\"text-align: justify; font-size: 20px;\">De esta manera se crean las variables simbólicas de la siguiente forma: $\\mathbf{y} \\in \\mathbb{R}^{5}$ y $\\mathbf{Z} \\in \\mathbb{R}^{4 \\times 2}$.</div>"
   ]
  },
  {
   "cell_type": "markdown",
   "id": "cc9e37d2-293f-41bc-9d01-8a21d2ef2770",
   "metadata": {},
   "source": [
    "<div style=\"text-align: justify; font-size: 20px;\">Una vez creadas las variables, es posible formar expresiones de manera muy intuitiva.</div>"
   ]
  },
  {
   "cell_type": "code",
   "execution_count": 11,
   "id": "dc5aa698-34da-4323-ba9a-05d1f9f246c3",
   "metadata": {},
   "outputs": [
    {
     "name": "stdout",
     "output_type": "stream",
     "text": [
      "(sq(x)+10)\n"
     ]
    }
   ],
   "source": [
    "f = x**2 + 10\n",
    "print(f)"
   ]
  },
  {
   "cell_type": "code",
   "execution_count": 12,
   "id": "de814735-fd3f-4a56-89ca-39e5482440a2",
   "metadata": {},
   "outputs": [
    {
     "name": "stdout",
     "output_type": "stream",
     "text": [
      "sqrt((sq(x)+10))\n"
     ]
    }
   ],
   "source": [
    "d = sqrt(f)\n",
    "print(d)"
   ]
  },
  {
   "cell_type": "markdown",
   "id": "25652c7e-4fa5-4190-bc16-6ad06ef63205",
   "metadata": {},
   "source": [
    "<div style=\"text-align: justify; font-size: 20px;\">De igual forma, se pueden crear instancias de SX sin especificar valores simbólicos.</div>"
   ]
  },
  {
   "cell_type": "code",
   "execution_count": 13,
   "id": "707f5dce-bf47-4025-9d85-9eca32d86028",
   "metadata": {},
   "outputs": [],
   "source": [
    "B1 = SX.zeros(4, 5)"
   ]
  },
  {
   "cell_type": "code",
   "execution_count": 14,
   "id": "8c3874bd-97f4-4124-89ae-84589853a818",
   "metadata": {},
   "outputs": [
    {
     "data": {
      "text/plain": [
       "SX(@1=0, \n",
       "[[@1, @1, @1, @1, @1], \n",
       " [@1, @1, @1, @1, @1], \n",
       " [@1, @1, @1, @1, @1], \n",
       " [@1, @1, @1, @1, @1]])"
      ]
     },
     "execution_count": 14,
     "metadata": {},
     "output_type": "execute_result"
    }
   ],
   "source": [
    "B1"
   ]
  },
  {
   "cell_type": "markdown",
   "id": "460d7660-ab06-40d3-ae98-51f1b4effed9",
   "metadata": {},
   "source": [
    "<div style=\"text-align: justify; font-size: 20px;\">$\\mathbf{B}_1 \\in \\mathbb{R}^{4 \\times 5}$ es una matriz densa vacía cuyos elementos son ceros, realmente son ceros.</div>"
   ]
  },
  {
   "cell_type": "code",
   "execution_count": 15,
   "id": "10d8f295-7f61-475d-8bc1-8ed5170df652",
   "metadata": {},
   "outputs": [],
   "source": [
    "B2 = SX(4, 5)"
   ]
  },
  {
   "cell_type": "code",
   "execution_count": 16,
   "id": "9016b8a6-944e-4e3d-868a-22b8c94a6028",
   "metadata": {},
   "outputs": [
    {
     "data": {
      "text/plain": [
       "SX(\n",
       "[[00, 00, 00, 00, 00], \n",
       " [00, 00, 00, 00, 00], \n",
       " [00, 00, 00, 00, 00], \n",
       " [00, 00, 00, 00, 00]])"
      ]
     },
     "execution_count": 16,
     "metadata": {},
     "output_type": "execute_result"
    }
   ],
   "source": [
    "B2"
   ]
  },
  {
   "cell_type": "markdown",
   "id": "ebd943d8-2dba-4990-9dd2-a6d887cd4a14",
   "metadata": {},
   "source": [
    "<div style=\"text-align: justify; font-size: 20px;\">$\\mathbf{B}_2 \\in \\mathbb{R}^{4 \\times 5}$ es una matriz dispersa vacía cuyos elementos son ceros, ceros estructurales.</div>"
   ]
  },
  {
   "cell_type": "code",
   "execution_count": 17,
   "id": "fc3b41e8-1940-40a2-9ce3-cb9d6b641d57",
   "metadata": {},
   "outputs": [],
   "source": [
    "B3 = SX.eye(4)"
   ]
  },
  {
   "cell_type": "code",
   "execution_count": 18,
   "id": "ec7108ec-5d2f-4810-9395-5d24f8bba952",
   "metadata": {},
   "outputs": [
    {
     "data": {
      "text/plain": [
       "SX(@1=1, \n",
       "[[@1, 00, 00, 00], \n",
       " [00, @1, 00, 00], \n",
       " [00, 00, @1, 00], \n",
       " [00, 00, 00, @1]])"
      ]
     },
     "execution_count": 18,
     "metadata": {},
     "output_type": "execute_result"
    }
   ],
   "source": [
    "B3"
   ]
  },
  {
   "cell_type": "markdown",
   "id": "ee2ce7e3-51c2-49c6-bc1b-b576ebf216fc",
   "metadata": {},
   "source": [
    "<div style=\"text-align: justify; font-size: 20px;\">$\\mathbf{B}_3 \\in \\mathbb{R}^{4 \\times 4}$ es una matriz dispersa con unos en la diagonal</div>"
   ]
  },
  {
   "cell_type": "markdown",
   "id": "a45869d6-3894-403a-8dd9-8fbad2f205bf",
   "metadata": {},
   "source": [
    "<div style=\"text-align: justify; font-size: 20px;\">Los ceros estructurales no se computan, a diferencia de los ceros reales, que sí son computados a pesar de que su resultado sea cero.</div>"
   ]
  },
  {
   "cell_type": "markdown",
   "id": "2dce1efc-7edb-4680-a13a-78e00a0738b7",
   "metadata": {},
   "source": [
    "<h3 align=\"left\" style=\"font-size: 20px; color: #667388;\"><strong>Simbologia MX</strong></h3>\n"
   ]
  },
  {
   "cell_type": "markdown",
   "id": "62a77c3f-8fb4-41b7-ac0b-80e19fdd5a53",
   "metadata": {},
   "source": [
    "<div style=\"text-align: justify; font-size: 20px;\">Construir las siguientes operaciones usando SX, lo que resulta en:</div>"
   ]
  },
  {
   "cell_type": "code",
   "execution_count": 19,
   "id": "dfee5345-9b85-4a25-a880-ed2d90bcd099",
   "metadata": {},
   "outputs": [],
   "source": [
    "x = SX.sym('x', 2, 2)"
   ]
  },
  {
   "cell_type": "code",
   "execution_count": 20,
   "id": "87722531-08cc-469a-a776-6ca59d25ede4",
   "metadata": {},
   "outputs": [
    {
     "name": "stdout",
     "output_type": "stream",
     "text": [
      "\n",
      "[[x_0, x_2], \n",
      " [x_1, x_3]]\n"
     ]
    }
   ],
   "source": [
    "print(x)"
   ]
  },
  {
   "cell_type": "code",
   "execution_count": 21,
   "id": "53d4a4f2-0c24-4e1f-8f69-beaed2f3e69c",
   "metadata": {},
   "outputs": [],
   "source": [
    "y = SX.sym('y')"
   ]
  },
  {
   "cell_type": "code",
   "execution_count": 22,
   "id": "43a6e9cb-27de-41e2-a254-af5bb4ff9b18",
   "metadata": {},
   "outputs": [
    {
     "name": "stdout",
     "output_type": "stream",
     "text": [
      "y\n"
     ]
    }
   ],
   "source": [
    "print(y)"
   ]
  },
  {
   "cell_type": "code",
   "execution_count": 23,
   "id": "3bcd4cef-6366-457b-8083-76b600cad555",
   "metadata": {},
   "outputs": [],
   "source": [
    "f = 3*x + y"
   ]
  },
  {
   "cell_type": "code",
   "execution_count": 24,
   "id": "62650604-6b3e-4a19-b2c6-b4f75be232a9",
   "metadata": {},
   "outputs": [
    {
     "name": "stdout",
     "output_type": "stream",
     "text": [
      "@1=3, \n",
      "[[((@1*x_0)+y), ((@1*x_2)+y)], \n",
      " [((@1*x_1)+y), ((@1*x_3)+y)]]\n"
     ]
    }
   ],
   "source": [
    "print(f)"
   ]
  },
  {
   "cell_type": "code",
   "execution_count": 25,
   "id": "82435cd0-fcb3-486a-a627-3f5d5154e3cc",
   "metadata": {},
   "outputs": [
    {
     "data": {
      "text/plain": [
       "(2, 2)"
      ]
     },
     "execution_count": 25,
     "metadata": {},
     "output_type": "execute_result"
    }
   ],
   "source": [
    "f.shape"
   ]
  },
  {
   "cell_type": "markdown",
   "id": "e66687be-69f6-4e29-ad93-68a26627ae7f",
   "metadata": {},
   "source": [
    "<div style=\"text-align: justify; font-size: 20px;\">Obsérvese cómo las expresiones son computadas elemento por elemento.</div>"
   ]
  },
  {
   "cell_type": "markdown",
   "id": "7d69726a-c38a-412c-8799-d723b2c35010",
   "metadata": {},
   "source": [
    "<div style=\"text-align: justify; font-size: 20px;\">La función MX, al igual que SX, permite formar expresiones que consisten en operaciones elementales. Sin embargo, a diferencia de SX, en MX estas pueden ser más generales, permitiendo realizar operaciones directamente entre matrices y vectores.</div>"
   ]
  },
  {
   "cell_type": "code",
   "execution_count": 26,
   "id": "96a66bbe-e5e5-4514-89ae-948e33f4885c",
   "metadata": {},
   "outputs": [],
   "source": [
    "x = MX.sym('x', 2, 2)"
   ]
  },
  {
   "cell_type": "code",
   "execution_count": 27,
   "id": "09496802-0919-4144-8ac1-05b8a99707d6",
   "metadata": {},
   "outputs": [
    {
     "name": "stdout",
     "output_type": "stream",
     "text": [
      "x\n"
     ]
    }
   ],
   "source": [
    "print(x)"
   ]
  },
  {
   "cell_type": "code",
   "execution_count": 28,
   "id": "aba5bc27-825f-4676-b14c-dbd2b9e494f3",
   "metadata": {},
   "outputs": [],
   "source": [
    "y = MX.sym('y')"
   ]
  },
  {
   "cell_type": "code",
   "execution_count": 29,
   "id": "e3568755-5612-4259-8d0b-eeba83c7ce5c",
   "metadata": {},
   "outputs": [
    {
     "name": "stdout",
     "output_type": "stream",
     "text": [
      "y\n"
     ]
    }
   ],
   "source": [
    "print(y)"
   ]
  },
  {
   "cell_type": "code",
   "execution_count": 30,
   "id": "24cad33c-7fe5-4c2c-8f7f-36b529f1b08d",
   "metadata": {},
   "outputs": [],
   "source": [
    "f = 3*x + y"
   ]
  },
  {
   "cell_type": "code",
   "execution_count": 31,
   "id": "f2937e9f-b2f8-4b9d-a7e2-336e6101c9be",
   "metadata": {},
   "outputs": [
    {
     "name": "stdout",
     "output_type": "stream",
     "text": [
      "((3*x)+y)\n"
     ]
    }
   ],
   "source": [
    "print(f)"
   ]
  },
  {
   "cell_type": "markdown",
   "id": "b133f98b-56ae-45d0-b075-22e2c2e634e0",
   "metadata": {},
   "source": [
    "<div style=\"text-align: justify; font-size: 20px;\">Obsérvese cómo el resultado usando MX solo consta de dos operaciones, mientras que con SX se obtiene un total de 8 operaciones. Como consecuencia, MX puede ser más económica de computar cuando se trabaja con operaciones que son parte natural de vectores y matrices.</div>"
   ]
  },
  {
   "cell_type": "markdown",
   "id": "be37801e-e8fa-4da4-85f0-ed924144bac2",
   "metadata": {},
   "source": [
    "<div style=\"text-align: justify; font-size: 20px;\">Para acceder a la información dentro de los elementos creados se tiene lo siguiente:</div>"
   ]
  },
  {
   "cell_type": "code",
   "execution_count": 32,
   "id": "ca192ea7-7be8-40a2-b3fd-80f9f1042883",
   "metadata": {},
   "outputs": [],
   "source": [
    "x = MX.sym('x', 2, 2)"
   ]
  },
  {
   "cell_type": "code",
   "execution_count": 33,
   "id": "2f57917c-fd8e-4b59-b1f3-7a5498115612",
   "metadata": {},
   "outputs": [
    {
     "name": "stdout",
     "output_type": "stream",
     "text": [
      "x\n"
     ]
    }
   ],
   "source": [
    "print(x)"
   ]
  },
  {
   "cell_type": "code",
   "execution_count": 34,
   "id": "98bef611-ece3-4a61-9881-e0eb5e721b61",
   "metadata": {},
   "outputs": [
    {
     "data": {
      "text/plain": [
       "(2, 2)"
      ]
     },
     "execution_count": 34,
     "metadata": {},
     "output_type": "execute_result"
    }
   ],
   "source": [
    "x.shape"
   ]
  },
  {
   "cell_type": "code",
   "execution_count": 35,
   "id": "eae3e375-a997-480e-8c80-83e7a2bfeb49",
   "metadata": {},
   "outputs": [
    {
     "name": "stdout",
     "output_type": "stream",
     "text": [
      "x[0]\n"
     ]
    }
   ],
   "source": [
    "print(x[0, 0])"
   ]
  },
  {
   "cell_type": "markdown",
   "id": "cc270dcb-f25c-4509-b61a-b8d4a17238a4",
   "metadata": {},
   "source": [
    "<div style=\"text-align: justify; font-size: 20px;\">Para modificar la información dentro de las matrices creadas se realiza lo siguiente:</div>"
   ]
  },
  {
   "cell_type": "code",
   "execution_count": 36,
   "id": "ae4b0839-a1bd-49d0-b6be-375749f54643",
   "metadata": {},
   "outputs": [],
   "source": [
    "x = MX.sym('x', 2)"
   ]
  },
  {
   "cell_type": "code",
   "execution_count": 37,
   "id": "4c9ec422-cbc2-4f81-bdee-14b9ef9ca330",
   "metadata": {},
   "outputs": [
    {
     "data": {
      "text/plain": [
       "MX(x)"
      ]
     },
     "execution_count": 37,
     "metadata": {},
     "output_type": "execute_result"
    }
   ],
   "source": [
    "x"
   ]
  },
  {
   "cell_type": "code",
   "execution_count": 38,
   "id": "db0ecca0-5df3-49f2-98c6-d740bbf3311a",
   "metadata": {},
   "outputs": [],
   "source": [
    "A = MX(2, 2)"
   ]
  },
  {
   "cell_type": "code",
   "execution_count": 39,
   "id": "a9ceeb26-c87b-4779-95b0-36695a824165",
   "metadata": {},
   "outputs": [
    {
     "data": {
      "text/plain": [
       "MX(zeros(2x2,0nz))"
      ]
     },
     "execution_count": 39,
     "metadata": {},
     "output_type": "execute_result"
    }
   ],
   "source": [
    "A"
   ]
  },
  {
   "cell_type": "code",
   "execution_count": 40,
   "id": "aa51b210-de62-43e7-8ec8-2da346ec7ece",
   "metadata": {},
   "outputs": [],
   "source": [
    "A[0, 0] = x[0, 0]"
   ]
  },
  {
   "cell_type": "code",
   "execution_count": 41,
   "id": "9ee1628c-f515-4c56-867f-f130887f3f42",
   "metadata": {},
   "outputs": [],
   "source": [
    "A[1, 1] = x[0, 0] + x[1, 0]"
   ]
  },
  {
   "cell_type": "code",
   "execution_count": 42,
   "id": "d9ec4951-59ad-49e6-9cd5-4bddd7384396",
   "metadata": {},
   "outputs": [
    {
     "name": "stdout",
     "output_type": "stream",
     "text": [
      "(project((zeros(2x2,1nz)[0] = x[0]))[1] = (x[0]+x[1]))\n"
     ]
    }
   ],
   "source": [
    "print(A)"
   ]
  },
  {
   "cell_type": "markdown",
   "id": "d4733473-1066-44bd-8ed4-5fbfdaee4ddf",
   "metadata": {},
   "source": [
    "<h3 align=\"left\" style=\"font-size: 20px; color: #667388;\"><strong> Crear Matrices, acceder y modifcar valores</strong></h3>\n"
   ]
  },
  {
   "cell_type": "markdown",
   "id": "1181818d-66e2-4982-bcb6-423ad0bc8bf6",
   "metadata": {},
   "source": [
    "<div style=\"text-align: justify; font-size: 20px;\"> Para asignar un elemento o varios dentro de las matrices usando CasADi (SX, MX, DM), se utilizan corchetes y se inicia desde el cero.</div>"
   ]
  },
  {
   "cell_type": "code",
   "execution_count": 43,
   "id": "f4253d49-ce85-4253-8dc2-afa2f2fda912",
   "metadata": {},
   "outputs": [],
   "source": [
    "M = SX([[1, 2], [3, 6]])"
   ]
  },
  {
   "cell_type": "code",
   "execution_count": 44,
   "id": "873417f8-6359-4160-902e-244f8b350b80",
   "metadata": {},
   "outputs": [
    {
     "data": {
      "text/plain": [
       "SX(\n",
       "[[1, 2], \n",
       " [3, 6]])"
      ]
     },
     "execution_count": 44,
     "metadata": {},
     "output_type": "execute_result"
    }
   ],
   "source": [
    "M"
   ]
  },
  {
   "cell_type": "code",
   "execution_count": 45,
   "id": "e36ac580-29b5-49e8-ba63-f84f779b0915",
   "metadata": {},
   "outputs": [
    {
     "name": "stdout",
     "output_type": "stream",
     "text": [
      "[[1, 2]]\n"
     ]
    }
   ],
   "source": [
    "print(M[0, :])"
   ]
  },
  {
   "cell_type": "code",
   "execution_count": 46,
   "id": "50014f11-25e0-43ca-9939-09affeaaf8f8",
   "metadata": {},
   "outputs": [
    {
     "name": "stdout",
     "output_type": "stream",
     "text": [
      "[1, 3]\n"
     ]
    }
   ],
   "source": [
    "print(M[:, 0])"
   ]
  },
  {
   "cell_type": "code",
   "execution_count": 47,
   "id": "3a1699a4-9f8c-40b9-8a36-db8e060ca482",
   "metadata": {},
   "outputs": [],
   "source": [
    "M[:, 0] = 1.0"
   ]
  },
  {
   "cell_type": "code",
   "execution_count": 48,
   "id": "57ed61e3-a952-4126-83ae-cf88d28a416b",
   "metadata": {},
   "outputs": [
    {
     "name": "stdout",
     "output_type": "stream",
     "text": [
      "@1=1, \n",
      "[[@1, 2], \n",
      " [@1, 6]]\n"
     ]
    }
   ],
   "source": [
    "print(M)"
   ]
  },
  {
   "cell_type": "markdown",
   "id": "5ffa3ffb-2ddf-470f-857a-f0e28e0ae156",
   "metadata": {},
   "source": [
    "<h3 align=\"left\" style=\"font-size: 20px; color: #667388;\"><strong> Operaciones aritmeticas</strong></h3>\n"
   ]
  },
  {
   "cell_type": "markdown",
   "id": "ac5a76b0-8c6c-43ba-8d64-dadd5ba8caf7",
   "metadata": {},
   "source": [
    "<div style=\"text-align: justify; font-size: 20px;\">Casadi soporta muchas de las operaciones aritméticas básicas, como la suma, multiplicación y funciones trigonométricas.</div>"
   ]
  },
  {
   "cell_type": "code",
   "execution_count": 49,
   "id": "ce418dd6-3825-4661-b618-f49bb5c8d775",
   "metadata": {},
   "outputs": [],
   "source": [
    "x = SX.sym('x')"
   ]
  },
  {
   "cell_type": "code",
   "execution_count": 50,
   "id": "c5fa4f4b-aa8c-4e46-a78c-2ae46f21ff45",
   "metadata": {},
   "outputs": [],
   "source": [
    "y = SX.sym('y', 2, 2)"
   ]
  },
  {
   "cell_type": "code",
   "execution_count": 51,
   "id": "5a3ac88b-92c2-4059-898f-7ed188552c56",
   "metadata": {},
   "outputs": [],
   "source": [
    "f = sin(y) - x"
   ]
  },
  {
   "cell_type": "code",
   "execution_count": 52,
   "id": "f0cbea02-7961-417a-aa85-d045a1e1c3c6",
   "metadata": {},
   "outputs": [
    {
     "name": "stdout",
     "output_type": "stream",
     "text": [
      "\n",
      "[[(sin(y_0)-x), (sin(y_2)-x)], \n",
      " [(sin(y_1)-x), (sin(y_3)-x)]]\n"
     ]
    }
   ],
   "source": [
    "print(f)"
   ]
  },
  {
   "cell_type": "code",
   "execution_count": 53,
   "id": "641b4db0-5809-4495-8866-a48dc05f4e15",
   "metadata": {},
   "outputs": [],
   "source": [
    "h = y*y"
   ]
  },
  {
   "cell_type": "code",
   "execution_count": 54,
   "id": "ae5b1260-4a50-4ffe-adb8-d6f21ad86c67",
   "metadata": {},
   "outputs": [
    {
     "data": {
      "text/plain": [
       "SX(\n",
       "[[sq(y_0), sq(y_2)], \n",
       " [sq(y_1), sq(y_3)]])"
      ]
     },
     "execution_count": 54,
     "metadata": {},
     "output_type": "execute_result"
    }
   ],
   "source": [
    "h"
   ]
  },
  {
   "cell_type": "code",
   "execution_count": 55,
   "id": "1abcc3fe-906b-43a3-af80-2481c8a90ac5",
   "metadata": {},
   "outputs": [],
   "source": [
    "z = y@y"
   ]
  },
  {
   "cell_type": "code",
   "execution_count": 56,
   "id": "b65cebab-dee2-4827-a9ab-d13aabec704c",
   "metadata": {},
   "outputs": [
    {
     "data": {
      "text/plain": [
       "SX(\n",
       "[[(sq(y_0)+(y_2*y_1)), ((y_0*y_2)+(y_2*y_3))], \n",
       " [((y_1*y_0)+(y_3*y_1)), ((y_1*y_2)+sq(y_3))]])"
      ]
     },
     "execution_count": 56,
     "metadata": {},
     "output_type": "execute_result"
    }
   ],
   "source": [
    "z"
   ]
  },
  {
   "cell_type": "code",
   "execution_count": 57,
   "id": "6f340fb1-4019-4147-aad8-e933efafcc3f",
   "metadata": {},
   "outputs": [],
   "source": [
    "x = MX.sym('x')"
   ]
  },
  {
   "cell_type": "code",
   "execution_count": 58,
   "id": "3b59676f-8dd2-4f24-86ee-b3fae3217ddc",
   "metadata": {},
   "outputs": [],
   "source": [
    "y = MX.sym('y', 2, 2)"
   ]
  },
  {
   "cell_type": "code",
   "execution_count": 59,
   "id": "f6436210-a656-404c-84a6-77630221a717",
   "metadata": {},
   "outputs": [],
   "source": [
    "f = sin(y) - x"
   ]
  },
  {
   "cell_type": "code",
   "execution_count": 60,
   "id": "15fa06cc-044f-40ac-96be-bc652d5050cd",
   "metadata": {},
   "outputs": [
    {
     "name": "stdout",
     "output_type": "stream",
     "text": [
      "(sin(y)-x)\n"
     ]
    }
   ],
   "source": [
    "print(f)"
   ]
  },
  {
   "cell_type": "code",
   "execution_count": 61,
   "id": "c1da810c-ef3e-405a-ad03-ce8b2ff723f8",
   "metadata": {},
   "outputs": [],
   "source": [
    "h = y*y"
   ]
  },
  {
   "cell_type": "code",
   "execution_count": 62,
   "id": "d240d924-6063-4284-bcda-d68c2b7d202a",
   "metadata": {},
   "outputs": [
    {
     "data": {
      "text/plain": [
       "MX(sq(y))"
      ]
     },
     "execution_count": 62,
     "metadata": {},
     "output_type": "execute_result"
    }
   ],
   "source": [
    "h"
   ]
  },
  {
   "cell_type": "code",
   "execution_count": 63,
   "id": "4ba32ded-0e92-4e3d-be81-1bd5a101e1fd",
   "metadata": {},
   "outputs": [],
   "source": [
    "z = y@y"
   ]
  },
  {
   "cell_type": "code",
   "execution_count": 64,
   "id": "d08aba25-18b9-4832-8d62-c9d41f549074",
   "metadata": {},
   "outputs": [
    {
     "data": {
      "text/plain": [
       "MX(mac(y,y,zeros(2x2)))"
      ]
     },
     "execution_count": 64,
     "metadata": {},
     "output_type": "execute_result"
    }
   ],
   "source": [
    "z"
   ]
  },
  {
   "cell_type": "code",
   "execution_count": 65,
   "id": "c4adb050-30fe-43fc-b356-814850f400fe",
   "metadata": {},
   "outputs": [],
   "source": [
    "y = SX.sym('y', 2, 2)"
   ]
  },
  {
   "cell_type": "code",
   "execution_count": 66,
   "id": "cda6f319-fd2c-4d15-938b-cf790b0a6df2",
   "metadata": {},
   "outputs": [
    {
     "data": {
      "text/plain": [
       "SX(\n",
       "[[y_0, y_2], \n",
       " [y_1, y_3]])"
      ]
     },
     "execution_count": 66,
     "metadata": {},
     "output_type": "execute_result"
    }
   ],
   "source": [
    "y"
   ]
  },
  {
   "cell_type": "code",
   "execution_count": 67,
   "id": "4abc4655-0e06-4107-8be0-b60e6ed72da7",
   "metadata": {},
   "outputs": [],
   "source": [
    "z = y.T"
   ]
  },
  {
   "cell_type": "code",
   "execution_count": 68,
   "id": "990bf41f-a408-4562-99df-575171b8e406",
   "metadata": {},
   "outputs": [
    {
     "data": {
      "text/plain": [
       "SX(\n",
       "[[y_0, y_1], \n",
       " [y_2, y_3]])"
      ]
     },
     "execution_count": 68,
     "metadata": {},
     "output_type": "execute_result"
    }
   ],
   "source": [
    "z"
   ]
  },
  {
   "cell_type": "code",
   "execution_count": 69,
   "id": "95a4e851-c74b-43da-a5a6-92ffb4a72a9a",
   "metadata": {},
   "outputs": [],
   "source": [
    "y = MX.sym('y', 2, 2)"
   ]
  },
  {
   "cell_type": "code",
   "execution_count": 70,
   "id": "1ffc3aa1-230c-44ec-8efb-b69449155359",
   "metadata": {},
   "outputs": [
    {
     "data": {
      "text/plain": [
       "MX(y)"
      ]
     },
     "execution_count": 70,
     "metadata": {},
     "output_type": "execute_result"
    }
   ],
   "source": [
    "y"
   ]
  },
  {
   "cell_type": "code",
   "execution_count": 71,
   "id": "702bfb50-0e65-44e1-8ecc-134621652a92",
   "metadata": {},
   "outputs": [],
   "source": [
    "z = y.T"
   ]
  },
  {
   "cell_type": "code",
   "execution_count": 72,
   "id": "5560e8fa-c14d-45da-a5dd-d7dcf971c41f",
   "metadata": {},
   "outputs": [
    {
     "data": {
      "text/plain": [
       "MX(y')"
      ]
     },
     "execution_count": 72,
     "metadata": {},
     "output_type": "execute_result"
    }
   ],
   "source": [
    "z"
   ]
  },
  {
   "cell_type": "markdown",
   "id": "3b7e07bb-63c8-45a4-9815-b1568a1edf98",
   "metadata": {},
   "source": [
    "<h3 align=\"left\" style=\"font-size: 20px; color: #667388;\"><strong> Redimensionar y concatenar variables</strong></h3>"
   ]
  },
  {
   "cell_type": "code",
   "execution_count": 73,
   "id": "7cd4e6f2-c24b-4abf-882f-d4eb54f9c656",
   "metadata": {},
   "outputs": [],
   "source": [
    "x = SX.sym('x', 5)"
   ]
  },
  {
   "cell_type": "code",
   "execution_count": 74,
   "id": "7bdca0b4-9e88-418e-9c2c-bb4428781a41",
   "metadata": {},
   "outputs": [],
   "source": [
    "y = SX.sym('y', 5)"
   ]
  },
  {
   "cell_type": "code",
   "execution_count": 75,
   "id": "fc747963-71c0-42ed-8981-6bbf8f7cf24c",
   "metadata": {},
   "outputs": [],
   "source": [
    "z = vertcat(x, y)"
   ]
  },
  {
   "cell_type": "code",
   "execution_count": 76,
   "id": "57fcc41f-7d52-4afa-aaf7-907183750c0b",
   "metadata": {},
   "outputs": [
    {
     "data": {
      "text/plain": [
       "SX([x_0, x_1, x_2, x_3, x_4, y_0, y_1, y_2, y_3, y_4])"
      ]
     },
     "execution_count": 76,
     "metadata": {},
     "output_type": "execute_result"
    }
   ],
   "source": [
    "z"
   ]
  },
  {
   "cell_type": "markdown",
   "id": "e9b0cfa5-cd43-4c40-8c38-8aaafd6d8cb6",
   "metadata": {},
   "source": [
    "z.shape"
   ]
  },
  {
   "cell_type": "code",
   "execution_count": 77,
   "id": "ab0feaee-50cf-4794-b467-196c1bfb82ad",
   "metadata": {},
   "outputs": [],
   "source": [
    "h = horzcat(x, y)"
   ]
  },
  {
   "cell_type": "code",
   "execution_count": 78,
   "id": "d9a381b4-a088-46e7-869f-961e1f022bd3",
   "metadata": {},
   "outputs": [
    {
     "data": {
      "text/plain": [
       "SX(\n",
       "[[x_0, y_0], \n",
       " [x_1, y_1], \n",
       " [x_2, y_2], \n",
       " [x_3, y_3], \n",
       " [x_4, y_4]])"
      ]
     },
     "execution_count": 78,
     "metadata": {},
     "output_type": "execute_result"
    }
   ],
   "source": [
    "h"
   ]
  },
  {
   "cell_type": "code",
   "execution_count": 79,
   "id": "04704172-55b0-4160-bb00-5139f813b614",
   "metadata": {},
   "outputs": [
    {
     "data": {
      "text/plain": [
       "(5, 2)"
      ]
     },
     "execution_count": 79,
     "metadata": {},
     "output_type": "execute_result"
    }
   ],
   "source": [
    "h.shape"
   ]
  },
  {
   "cell_type": "markdown",
   "id": "635c606b-9cc6-40de-abcf-dbc16ee3e31a",
   "metadata": {},
   "source": [
    "<h3 align=\"left\" style=\"font-size: 20px; color: #667388;\"><strong> Algebra Lineal </strong></h3>"
   ]
  },
  {
   "cell_type": "markdown",
   "id": "20761f41-56b7-418f-b028-19ff1b04461e",
   "metadata": {},
   "source": [
    "<div style=\"text-align: justify; font-size: 20px;\">Casadi soporta un cierto número de operaciones de álgebra lineal para la solución de sistemas de ecuaciones lineales.</div>"
   ]
  },
  {
   "cell_type": "code",
   "execution_count": 80,
   "id": "33e7db1e-8696-4d12-b1a1-2fedf2c3d3d6",
   "metadata": {},
   "outputs": [],
   "source": [
    "A = MX.sym('A', 3, 3)"
   ]
  },
  {
   "cell_type": "code",
   "execution_count": 81,
   "id": "badafadb-cff6-4845-a3eb-db30a12bf7f4",
   "metadata": {},
   "outputs": [],
   "source": [
    "b = MX.sym('b', 3, 1)"
   ]
  },
  {
   "cell_type": "code",
   "execution_count": 82,
   "id": "4dc398e1-0e96-4046-8b4a-2111b4863ff1",
   "metadata": {},
   "outputs": [],
   "source": [
    "x = solve(A, b)"
   ]
  },
  {
   "cell_type": "code",
   "execution_count": 83,
   "id": "94922069-e955-4db8-8886-a30fb9cc0893",
   "metadata": {},
   "outputs": [
    {
     "data": {
      "text/plain": [
       "MX((A\\b))"
      ]
     },
     "execution_count": 83,
     "metadata": {},
     "output_type": "execute_result"
    }
   ],
   "source": [
    "x"
   ]
  },
  {
   "cell_type": "code",
   "execution_count": 84,
   "id": "4e715431-25de-4e31-9a44-9d376762bed1",
   "metadata": {},
   "outputs": [],
   "source": [
    "solver = Function('solver', [A, b], [x])"
   ]
  },
  {
   "cell_type": "code",
   "execution_count": 85,
   "id": "f33335cd-77e5-422d-ad40-79f8465b7333",
   "metadata": {},
   "outputs": [],
   "source": [
    "A_val = np.array([[9, 3, 1], [1, 1, 4], [0, 5, 2]])\n",
    "b_val = np.array([10, 15, 20])\n"
   ]
  },
  {
   "cell_type": "code",
   "execution_count": 86,
   "id": "5be79986-d412-4925-a5a1-51e5970c5e11",
   "metadata": {},
   "outputs": [],
   "source": [
    "x_val = solver(A_val, b_val)"
   ]
  },
  {
   "cell_type": "code",
   "execution_count": 87,
   "id": "f15ef1e1-a82d-472c-a6f2-9ec70dfd322c",
   "metadata": {},
   "outputs": [
    {
     "data": {
      "text/plain": [
       "DM([-0.153374, 2.76074, 3.09816])"
      ]
     },
     "execution_count": 87,
     "metadata": {},
     "output_type": "execute_result"
    }
   ],
   "source": [
    "x_val"
   ]
  },
  {
   "cell_type": "markdown",
   "id": "5c3eebee-0f20-4083-8cb6-ceac0e77a861",
   "metadata": {},
   "source": [
    "<div style=\"text-align: justify; font-size: 20px;\">Usando SX o DM</div>"
   ]
  },
  {
   "cell_type": "code",
   "execution_count": 88,
   "id": "229a7936-c3eb-4b33-9cf6-3a5427a46701",
   "metadata": {},
   "outputs": [],
   "source": [
    "A = DM([[9, 3, 1], [1, 1, 4], [0, 5, 2]])"
   ]
  },
  {
   "cell_type": "code",
   "execution_count": 89,
   "id": "e2d930e8-5ab9-43ae-b953-7f7e53425233",
   "metadata": {},
   "outputs": [],
   "source": [
    "b = DM([10, 15, 20])"
   ]
  },
  {
   "cell_type": "code",
   "execution_count": 90,
   "id": "4c974b2b-6bd0-4c46-b1a5-529e2f5a093c",
   "metadata": {},
   "outputs": [],
   "source": [
    "x = solve(A, b)"
   ]
  },
  {
   "cell_type": "code",
   "execution_count": 91,
   "id": "7711e416-a0f2-4135-9736-ee2ec03cb4e7",
   "metadata": {},
   "outputs": [
    {
     "data": {
      "text/plain": [
       "DM([-0.153374, 2.76074, 3.09816])"
      ]
     },
     "execution_count": 91,
     "metadata": {},
     "output_type": "execute_result"
    }
   ],
   "source": [
    "x"
   ]
  },
  {
   "cell_type": "markdown",
   "id": "424962f7-6df6-4732-9438-98be8dbe848f",
   "metadata": {},
   "source": [
    "<div style=\"text-align: justify; font-size: 20px;\">MX con valores numericos?</div>"
   ]
  },
  {
   "cell_type": "code",
   "execution_count": 92,
   "id": "1f60dfe8-d9e4-465c-ad5c-2c7a417e48e4",
   "metadata": {},
   "outputs": [
    {
     "name": "stdout",
     "output_type": "stream",
     "text": [
      "Matrix A:\n",
      "\n",
      "[[9, 3, 1], \n",
      " [1, 1, 4], \n",
      " [0, 5, 2]]\n"
     ]
    }
   ],
   "source": [
    "A_dm = DM([[9, 3, 1],\n",
    "              [1, 1, 4],\n",
    "              [0, 5, 2]])\n",
    "\n",
    "# Convert DM to MX\n",
    "A = ca.MX(A_dm)\n",
    "\n",
    "\n",
    "print(\"Matrix A:\")\n",
    "print(A)"
   ]
  },
  {
   "cell_type": "code",
   "execution_count": 93,
   "id": "c6e1e2bb-53e1-4bb2-94ec-a721e6b1b441",
   "metadata": {},
   "outputs": [],
   "source": [
    "b = MX([10, 15, 20])"
   ]
  },
  {
   "cell_type": "code",
   "execution_count": 94,
   "id": "15817211-c6f5-4165-98c0-a2285760f853",
   "metadata": {},
   "outputs": [
    {
     "data": {
      "text/plain": [
       "MX([10, 15, 20])"
      ]
     },
     "execution_count": 94,
     "metadata": {},
     "output_type": "execute_result"
    }
   ],
   "source": [
    "b"
   ]
  },
  {
   "cell_type": "code",
   "execution_count": 95,
   "id": "aa7db562-26b9-4d0c-825a-8c7e2880f1e1",
   "metadata": {},
   "outputs": [],
   "source": [
    "x =  solve(A, b)"
   ]
  },
  {
   "cell_type": "code",
   "execution_count": 96,
   "id": "c89cb65f-98b8-4b8d-a361-5da250b0711f",
   "metadata": {},
   "outputs": [
    {
     "data": {
      "text/plain": [
       "MX((\n",
       "[[9, 3, 1], \n",
       " [1, 1, 4], \n",
       " [0, 5, 2]]\\[10, 15, 20]))"
      ]
     },
     "execution_count": 96,
     "metadata": {},
     "output_type": "execute_result"
    }
   ],
   "source": [
    "x"
   ]
  },
  {
   "cell_type": "code",
   "execution_count": 97,
   "id": "2705ba02-0467-483e-8767-f821fe347637",
   "metadata": {},
   "outputs": [
    {
     "ename": "RuntimeError",
     "evalue": "Error in Function::Function for 'solucion' [MXFunction] at .../casadi/core/function.cpp:235:\n.../casadi/core/function_internal.cpp:144: Error calling MXFunction::init for 'solucion':\n.../casadi/core/x_function.hpp:284: Xfunction input arguments must be purely symbolic. \nArgument 0(i0) is not symbolic.",
     "output_type": "error",
     "traceback": [
      "\u001b[0;31m---------------------------------------------------------------------------\u001b[0m",
      "\u001b[0;31mRuntimeError\u001b[0m                              Traceback (most recent call last)",
      "\u001b[0;32m/tmp/ipykernel_33233/841636677.py\u001b[0m in \u001b[0;36m?\u001b[0;34m()\u001b[0m\n\u001b[0;32m----> 1\u001b[0;31m \u001b[0msolucion\u001b[0m \u001b[0;34m=\u001b[0m \u001b[0mFunction\u001b[0m\u001b[0;34m(\u001b[0m\u001b[0;34m'solucion'\u001b[0m\u001b[0;34m,\u001b[0m \u001b[0;34m[\u001b[0m\u001b[0mA\u001b[0m\u001b[0;34m,\u001b[0m \u001b[0mb\u001b[0m\u001b[0;34m]\u001b[0m\u001b[0;34m,\u001b[0m \u001b[0;34m[\u001b[0m\u001b[0mx\u001b[0m\u001b[0;34m]\u001b[0m\u001b[0;34m)\u001b[0m\u001b[0;34m\u001b[0m\u001b[0;34m\u001b[0m\u001b[0m\n\u001b[0m",
      "\u001b[0;32m~/miniconda3/envs/optimization/lib/python3.8/site-packages/casadi/casadi.py\u001b[0m in \u001b[0;36m?\u001b[0;34m(self, *args)\u001b[0m\n\u001b[1;32m  13444\u001b[0m \u001b[0;34m\u001b[0m\u001b[0m\n\u001b[1;32m  13445\u001b[0m \u001b[0;34m\u001b[0m\u001b[0m\n\u001b[1;32m  13446\u001b[0m \u001b[0;34m\u001b[0m\u001b[0m\n\u001b[1;32m  13447\u001b[0m         \"\"\"\n\u001b[0;32m> 13448\u001b[0;31m         \u001b[0mthis\u001b[0m \u001b[0;34m=\u001b[0m \u001b[0m_casadi\u001b[0m\u001b[0;34m.\u001b[0m\u001b[0mnew_Function\u001b[0m\u001b[0;34m(\u001b[0m\u001b[0;34m*\u001b[0m\u001b[0margs\u001b[0m\u001b[0;34m)\u001b[0m\u001b[0;34m\u001b[0m\u001b[0;34m\u001b[0m\u001b[0m\n\u001b[0m\u001b[1;32m  13449\u001b[0m         \u001b[0;32mtry\u001b[0m\u001b[0;34m:\u001b[0m\u001b[0;34m\u001b[0m\u001b[0;34m\u001b[0m\u001b[0m\n\u001b[1;32m  13450\u001b[0m             \u001b[0mself\u001b[0m\u001b[0;34m.\u001b[0m\u001b[0mthis\u001b[0m\u001b[0;34m.\u001b[0m\u001b[0mappend\u001b[0m\u001b[0;34m(\u001b[0m\u001b[0mthis\u001b[0m\u001b[0;34m)\u001b[0m\u001b[0;34m\u001b[0m\u001b[0;34m\u001b[0m\u001b[0m\n\u001b[1;32m  13451\u001b[0m         \u001b[0;32mexcept\u001b[0m \u001b[0m__builtin__\u001b[0m\u001b[0;34m.\u001b[0m\u001b[0mException\u001b[0m\u001b[0;34m:\u001b[0m\u001b[0;34m\u001b[0m\u001b[0;34m\u001b[0m\u001b[0m\n",
      "\u001b[0;31mRuntimeError\u001b[0m: Error in Function::Function for 'solucion' [MXFunction] at .../casadi/core/function.cpp:235:\n.../casadi/core/function_internal.cpp:144: Error calling MXFunction::init for 'solucion':\n.../casadi/core/x_function.hpp:284: Xfunction input arguments must be purely symbolic. \nArgument 0(i0) is not symbolic."
     ]
    }
   ],
   "source": [
    "solucion = Function('solucion', [A, b], [x])"
   ]
  },
  {
   "cell_type": "markdown",
   "id": "4e0500c8-5a11-4f4a-a97d-a7e5f367a07b",
   "metadata": {},
   "source": [
    "\n",
    "<h3 align=\"left\" style=\"font-size: 20px; color: #667388;\"><strong> Diferenciacion en Casadi </strong></h3>"
   ]
  },
  {
   "cell_type": "code",
   "execution_count": 98,
   "id": "9a171650-09e2-4194-9754-5cfdbd7ce286",
   "metadata": {},
   "outputs": [],
   "source": [
    "A = SX.sym('A',3,2)"
   ]
  },
  {
   "cell_type": "code",
   "execution_count": 99,
   "id": "becd119b-0af5-437d-8c0a-775e19dbff46",
   "metadata": {},
   "outputs": [
    {
     "data": {
      "text/plain": [
       "SX(\n",
       "[[A_0, A_3], \n",
       " [A_1, A_4], \n",
       " [A_2, A_5]])"
      ]
     },
     "execution_count": 99,
     "metadata": {},
     "output_type": "execute_result"
    }
   ],
   "source": [
    "A"
   ]
  },
  {
   "cell_type": "code",
   "execution_count": 100,
   "id": "bf07474b-2e9f-4578-95a0-c6c085ec3f5a",
   "metadata": {},
   "outputs": [],
   "source": [
    "x = SX.sym('x',2)"
   ]
  },
  {
   "cell_type": "code",
   "execution_count": 101,
   "id": "1ddce5b9-8980-440b-b7f2-496fa692547d",
   "metadata": {},
   "outputs": [
    {
     "data": {
      "text/plain": [
       "SX([x_0, x_1])"
      ]
     },
     "execution_count": 101,
     "metadata": {},
     "output_type": "execute_result"
    }
   ],
   "source": [
    "x"
   ]
  },
  {
   "cell_type": "code",
   "execution_count": 102,
   "id": "9387d1ab-e4f6-4df2-8a73-922386a0ffed",
   "metadata": {},
   "outputs": [],
   "source": [
    "xp = A@x"
   ]
  },
  {
   "cell_type": "code",
   "execution_count": 103,
   "id": "6e26f769-9109-437a-a005-69744a41ef91",
   "metadata": {},
   "outputs": [
    {
     "data": {
      "text/plain": [
       "SX([((A_0*x_0)+(A_3*x_1)), ((A_1*x_0)+(A_4*x_1)), ((A_2*x_0)+(A_5*x_1))])"
      ]
     },
     "execution_count": 103,
     "metadata": {},
     "output_type": "execute_result"
    }
   ],
   "source": [
    "xp"
   ]
  },
  {
   "cell_type": "code",
   "execution_count": 104,
   "id": "b67b6e9c-1043-41dc-8493-34ffd785b1e4",
   "metadata": {},
   "outputs": [],
   "source": [
    "J = jacobian(xp, x)"
   ]
  },
  {
   "cell_type": "code",
   "execution_count": 105,
   "id": "9f97c9ef-7c39-434b-9d00-35ebdd57696c",
   "metadata": {},
   "outputs": [
    {
     "data": {
      "text/plain": [
       "SX(\n",
       "[[A_0, A_3], \n",
       " [A_1, A_4], \n",
       " [A_2, A_5]])"
      ]
     },
     "execution_count": 105,
     "metadata": {},
     "output_type": "execute_result"
    }
   ],
   "source": [
    "J"
   ]
  },
  {
   "cell_type": "code",
   "execution_count": 106,
   "id": "94e316d9-7845-42a5-b560-6d95224fa0e6",
   "metadata": {},
   "outputs": [],
   "source": [
    "interno = dot(x, x)"
   ]
  },
  {
   "cell_type": "code",
   "execution_count": 107,
   "id": "62c8d797-66c9-41bf-afa9-e19d69264a3b",
   "metadata": {},
   "outputs": [
    {
     "data": {
      "text/plain": [
       "SX((sq(x_0)+sq(x_1)))"
      ]
     },
     "execution_count": 107,
     "metadata": {},
     "output_type": "execute_result"
    }
   ],
   "source": [
    "interno"
   ]
  },
  {
   "cell_type": "code",
   "execution_count": 108,
   "id": "16f58a5a-b986-44be-a6c8-8fcb827e9406",
   "metadata": {},
   "outputs": [
    {
     "data": {
      "text/plain": [
       "(1, 1)"
      ]
     },
     "execution_count": 108,
     "metadata": {},
     "output_type": "execute_result"
    }
   ],
   "source": [
    "interno.shape"
   ]
  },
  {
   "cell_type": "code",
   "execution_count": 109,
   "id": "fc938665-31e1-4059-b8db-1798269712ae",
   "metadata": {},
   "outputs": [],
   "source": [
    "J = jacobian(interno, x)"
   ]
  },
  {
   "cell_type": "code",
   "execution_count": 110,
   "id": "6bdea419-7439-4615-afd3-c17dc2365ac0",
   "metadata": {},
   "outputs": [
    {
     "data": {
      "text/plain": [
       "SX([[(x_0+x_0), (x_1+x_1)]])"
      ]
     },
     "execution_count": 110,
     "metadata": {},
     "output_type": "execute_result"
    }
   ],
   "source": [
    "J"
   ]
  },
  {
   "cell_type": "code",
   "execution_count": 111,
   "id": "13094d8a-bfcc-4323-a07b-370ad1336a70",
   "metadata": {},
   "outputs": [
    {
     "data": {
      "text/plain": [
       "(1, 2)"
      ]
     },
     "execution_count": 111,
     "metadata": {},
     "output_type": "execute_result"
    }
   ],
   "source": [
    "J.shape"
   ]
  },
  {
   "cell_type": "code",
   "execution_count": 112,
   "id": "7d28ee0d-eb2d-4762-a017-de11626688d9",
   "metadata": {},
   "outputs": [],
   "source": [
    "gradiente  = gradient(interno, x)"
   ]
  },
  {
   "cell_type": "code",
   "execution_count": 113,
   "id": "2ec17072-b397-470b-850c-0b2d824334ac",
   "metadata": {},
   "outputs": [
    {
     "data": {
      "text/plain": [
       "SX([(x_0+x_0), (x_1+x_1)])"
      ]
     },
     "execution_count": 113,
     "metadata": {},
     "output_type": "execute_result"
    }
   ],
   "source": [
    "gradiente"
   ]
  },
  {
   "cell_type": "code",
   "execution_count": 114,
   "id": "52320765-aeb5-4e83-9d53-a8b45bfc6406",
   "metadata": {},
   "outputs": [
    {
     "data": {
      "text/plain": [
       "(2, 1)"
      ]
     },
     "execution_count": 114,
     "metadata": {},
     "output_type": "execute_result"
    }
   ],
   "source": [
    "gradiente.shape"
   ]
  },
  {
   "cell_type": "markdown",
   "id": "a4b9eec1-dc23-4ecf-bc00-d2c26dd1e6d2",
   "metadata": {},
   "source": [
    "<h3 align=\"left\" style=\"font-size: 20px; color: #667388;\"><strong> Funciones en CasADi </strong></h3>"
   ]
  },
  {
   "cell_type": "code",
   "execution_count": 115,
   "id": "ae54de00-7eb5-4136-b438-58ba99e007fd",
   "metadata": {},
   "outputs": [
    {
     "name": "stdout",
     "output_type": "stream",
     "text": [
      "f:(i0[2],i1)->(o0[2],o1[2]) SXFunction\n"
     ]
    }
   ],
   "source": [
    "x = SX.sym('x',2)\n",
    "y = SX.sym('y')\n",
    "f = Function('f',[x,y], [x,sin(y)*x])\n",
    "print(f)"
   ]
  },
  {
   "cell_type": "code",
   "execution_count": 116,
   "id": "720c73ed-1134-44cb-a524-fa3e354d952d",
   "metadata": {},
   "outputs": [
    {
     "name": "stdout",
     "output_type": "stream",
     "text": [
      "f:(i0[2],i1)->(o0[2],o1[2]) MXFunction\n"
     ]
    }
   ],
   "source": [
    "x = MX.sym('x',2)\n",
    "y = MX.sym('y')\n",
    "f = Function('f',[x,y],[x,sin(y)*x])\n",
    "print(f)"
   ]
  },
  {
   "cell_type": "code",
   "execution_count": 117,
   "id": "a4821a9a-365c-45a8-a087-71c81386d76d",
   "metadata": {},
   "outputs": [],
   "source": [
    "f = Function('f',[x,y],[x,sin(y)*x],['x','y'],['r','q'])"
   ]
  },
  {
   "cell_type": "code",
   "execution_count": 118,
   "id": "71079d05-a80a-4e4e-8790-db037ffa89c7",
   "metadata": {},
   "outputs": [
    {
     "data": {
      "text/plain": [
       "Function(f:(x[2],y)->(r[2],q[2]) MXFunction)"
      ]
     },
     "execution_count": 118,
     "metadata": {},
     "output_type": "execute_result"
    }
   ],
   "source": [
    "f"
   ]
  },
  {
   "cell_type": "code",
   "execution_count": 119,
   "id": "559d0b7f-7020-4bf0-b233-599903359a97",
   "metadata": {},
   "outputs": [],
   "source": [
    "res = f(x = [1.1, 2], y = [3.3])"
   ]
  },
  {
   "cell_type": "code",
   "execution_count": 120,
   "id": "20af8510-2a61-4616-89e9-82ab56cbea92",
   "metadata": {},
   "outputs": [
    {
     "data": {
      "text/plain": [
       "{'q': DM([-0.17352, -0.315491]), 'r': DM([1.1, 2])}"
      ]
     },
     "execution_count": 120,
     "metadata": {},
     "output_type": "execute_result"
    }
   ],
   "source": [
    "res"
   ]
  },
  {
   "cell_type": "code",
   "execution_count": 121,
   "id": "f7be885a-e203-4b37-8d42-fa47a0f70973",
   "metadata": {},
   "outputs": [],
   "source": [
    "x =  SX.sym('x',3)"
   ]
  },
  {
   "cell_type": "code",
   "execution_count": 139,
   "id": "453ceb16-c97b-416c-9784-7a47b6e2a552",
   "metadata": {},
   "outputs": [],
   "source": [
    "Q = DM.eye(3)"
   ]
  },
  {
   "cell_type": "code",
   "execution_count": 147,
   "id": "a54c8e54-ef4c-4d12-a84a-c0f3a9438623",
   "metadata": {},
   "outputs": [],
   "source": [
    "value  = Q@x"
   ]
  },
  {
   "cell_type": "code",
   "execution_count": 148,
   "id": "9db8efd4-2255-4f38-a5d0-8f934e28ebf9",
   "metadata": {},
   "outputs": [],
   "source": [
    "dv_dx_f = jacobian(value, x)"
   ]
  },
  {
   "cell_type": "code",
   "execution_count": 149,
   "id": "c792fbbd-23e8-4659-b981-b5547dacd899",
   "metadata": {},
   "outputs": [
    {
     "data": {
      "text/plain": [
       "SX(@1=1, \n",
       "[[@1, 00, 00], \n",
       " [00, @1, 00], \n",
       " [00, 00, @1]])"
      ]
     },
     "execution_count": 149,
     "metadata": {},
     "output_type": "execute_result"
    }
   ],
   "source": [
    "dv_dx_f"
   ]
  },
  {
   "cell_type": "code",
   "execution_count": 150,
   "id": "e2057774-6e79-4545-8698-aa75937ca5a2",
   "metadata": {},
   "outputs": [],
   "source": [
    "f =  Function('f',[x],[value],['x'],['value'])"
   ]
  },
  {
   "cell_type": "code",
   "execution_count": 151,
   "id": "dffb1a98-f95e-4b2d-98f0-11009652e115",
   "metadata": {},
   "outputs": [],
   "source": [
    "dv_dx = Function('dv_dx',[x],[dv_dx_f],['x'],['dv_dx'])"
   ]
  },
  {
   "cell_type": "markdown",
   "id": "fd7cae3b-d0df-48e6-a4c3-f47f135944b3",
   "metadata": {},
   "source": [
    "<div style=\"text-align: justify; font-size: 20px;\">Verificar Funciones</div>"
   ]
  },
  {
   "cell_type": "code",
   "execution_count": 152,
   "id": "0eb68b79-4b28-479f-93c9-f5be8b562987",
   "metadata": {},
   "outputs": [
    {
     "data": {
      "text/plain": [
       "DM([1, 2, 3])"
      ]
     },
     "execution_count": 152,
     "metadata": {},
     "output_type": "execute_result"
    }
   ],
   "source": [
    "valor = f([1, 2, 3])\n",
    "valor"
   ]
  },
  {
   "cell_type": "code",
   "execution_count": 153,
   "id": "beee4fd0-e3c2-4159-89f1-b71ad1fa22bd",
   "metadata": {},
   "outputs": [],
   "source": [
    "derivada = dv_dx([1,2,5])"
   ]
  },
  {
   "cell_type": "code",
   "execution_count": 155,
   "id": "5cb20458-cc75-4a7e-be88-e00463b94cd2",
   "metadata": {},
   "outputs": [
    {
     "data": {
      "text/plain": [
       "DM(\n",
       "[[1, 00, 00], \n",
       " [00, 1, 00], \n",
       " [00, 00, 1]])"
      ]
     },
     "execution_count": 155,
     "metadata": {},
     "output_type": "execute_result"
    }
   ],
   "source": [
    "derivada[:, :]"
   ]
  },
  {
   "cell_type": "code",
   "execution_count": 156,
   "id": "a7116401-76ea-4f3a-8752-c52ab44e7a3d",
   "metadata": {},
   "outputs": [],
   "source": [
    "aux = np.array(derivada)"
   ]
  },
  {
   "cell_type": "code",
   "execution_count": 157,
   "id": "70bbf89d-2d81-4c47-a7d7-b3b8de400d11",
   "metadata": {},
   "outputs": [
    {
     "data": {
      "text/plain": [
       "array([[1., 0., 0.],\n",
       "       [0., 1., 0.],\n",
       "       [0., 0., 1.]])"
      ]
     },
     "execution_count": 157,
     "metadata": {},
     "output_type": "execute_result"
    }
   ],
   "source": [
    "aux"
   ]
  },
  {
   "cell_type": "code",
   "execution_count": null,
   "id": "22734bb5-b5e0-478b-aea7-70f646f04dfd",
   "metadata": {},
   "outputs": [],
   "source": []
  }
 ],
 "metadata": {
  "kernelspec": {
   "display_name": "Python 3 (ipykernel)",
   "language": "python",
   "name": "python3"
  },
  "language_info": {
   "codemirror_mode": {
    "name": "ipython",
    "version": 3
   },
   "file_extension": ".py",
   "mimetype": "text/x-python",
   "name": "python",
   "nbconvert_exporter": "python",
   "pygments_lexer": "ipython3",
   "version": "3.8.18"
  }
 },
 "nbformat": 4,
 "nbformat_minor": 5
}
