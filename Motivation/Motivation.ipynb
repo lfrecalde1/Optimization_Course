{
 "cells": [
  {
   "cell_type": "code",
   "execution_count": 2,
   "id": "5fdc819e-a77b-4715-a31a-57fbe5e1732d",
   "metadata": {},
   "outputs": [],
   "source": [
    "from IPython.display import HTML"
   ]
  },
  {
   "cell_type": "markdown",
   "id": "19eb374e-9b9d-4566-98b3-5272d7ce0ce0",
   "metadata": {},
   "source": [
    "<h1 align=\"center\" style=\"font-size: 35px;\"><font color=\"C1772D\"><strong>Aplicación del Control Óptimo en el Campo de la Robótica</strong></font></h1>\n",
    "\n",
    "<h2 align=\"center\"><font color=\"#667388\"><strong>Luis F. Recalde</strong><br>Ambato-Ecuador</font></h2>\n",
    "\n",
    "\n",
    "<h3 align=\"center\"><font color=\"#667388\"><strong>Universidad Indoamerica</strong></font></h3>"
   ]
  },
  {
   "cell_type": "markdown",
   "id": "ed37a064-6547-48a5-82dc-c109d8fea168",
   "metadata": {},
   "source": [
    "<h3 align=\"left\" style=\"font-size: 30px;\"><font color=\"C1772D\"><strong>¿Para qué es el control óptimo?</strong></font></h3>\n"
   ]
  },
  {
   "cell_type": "markdown",
   "id": "e5f6dfef-f114-4600-acf3-20c033d1adb9",
   "metadata": {},
   "source": [
    "<h3 align=\"left\" style=\"font-size: 20px;\"><font color=\"#667388\"><strong>Ingeniería Aeroespacial.</strong></font></h3>\n"
   ]
  },
  {
   "cell_type": "markdown",
   "id": "1487cb89-c6fa-4590-bfcb-ffa6d53935ad",
   "metadata": {},
   "source": [
    "<div style=\"text-align: justify; font-size: 20px;\">El control óptimo tuvo su origen en el campo de la ingeniería aeroespacial, específicamente en el diseño de trayectorias para cohetes y posteriormente en la planificación de rutas hacia la luna.</div>\n",
    "\n",
    "\n",
    "<div style=\"text-align: justify; font-size: 20px;\">Un ejemplo ilustrativo es la generación de la trayectoria de un cohete desde la Tierra hasta Marte.</div>\n",
    "\n"
   ]
  },
  {
   "cell_type": "code",
   "execution_count": 12,
   "id": "f9c275a0-8b45-4f9c-8691-e3f150cbb2b8",
   "metadata": {},
   "outputs": [
    {
     "data": {
      "text/html": [
       "<div style=\"display: flex; justify-content: center;\"><img src=\"Video_1.gif\" width=\"800\" height=\"600\"></div>"
      ],
      "text/plain": [
       "<IPython.core.display.HTML object>"
      ]
     },
     "execution_count": 12,
     "metadata": {},
     "output_type": "execute_result"
    }
   ],
   "source": [
    "# Replace 'path/to/your/animated.gif' with the actual path to your gif file\n",
    "gif_path = 'Video_1.gif'\n",
    "\n",
    "# Set the desired width and height\n",
    "new_width = 800\n",
    "new_height = 600\n",
    "\n",
    "# Display the centered gif with reduced size in the Jupyter Notebook\n",
    "centered_resized_gif_code = f'<div style=\"display: flex; justify-content: center;\"><img src=\"{gif_path}\" width=\"{new_width}\" height=\"{new_height}\"></div>'\n",
    "\n",
    "HTML(centered_resized_gif_code)"
   ]
  },
  {
   "cell_type": "markdown",
   "id": "1b5da954-282c-4753-9d9a-7f455ad4de79",
   "metadata": {},
   "source": [
    "<div style=\"text-align: justify;  font-size: 20px;\">Este problema se aborda mediante \"non-linear trajectory optimization\" desarrollado a travez del algoritmo \"Direct Collocation\"</div>\n"
   ]
  },
  {
   "cell_type": "markdown",
   "id": "2757a47b-010e-458f-8b70-1c95319ac728",
   "metadata": {},
   "source": [
    "<div style=\"text-align: justify;  font-size: 20px;\">Por otro lado, en la actualidad, el control óptimo se utiliza para el aterrizaje automático de cohetes, por ejemplo, en SpaceX y sus cohetes reutilizables. </div>\n"
   ]
  },
  {
   "cell_type": "code",
   "execution_count": 13,
   "id": "a6aa4e71-31f5-49fc-847f-aa7f3df32a1b",
   "metadata": {},
   "outputs": [
    {
     "data": {
      "text/html": [
       "<div style=\"display: flex; justify-content: center;\"><img src=\"Video_2.gif\" width=\"800\" height=\"600\"></div>"
      ],
      "text/plain": [
       "<IPython.core.display.HTML object>"
      ]
     },
     "execution_count": 13,
     "metadata": {},
     "output_type": "execute_result"
    }
   ],
   "source": [
    "# Replace 'path/to/your/animated.gif' with the actual path to your gif file\n",
    "gif_path = 'Video_2.gif'\n",
    "\n",
    "# Set the desired width and height\n",
    "new_width = 800\n",
    "new_height = 600\n",
    "\n",
    "# Display the centered gif with reduced size in the Jupyter Notebook\n",
    "centered_resized_gif_code = f'<div style=\"display: flex; justify-content: center;\"><img src=\"{gif_path}\" width=\"{new_width}\" height=\"{new_height}\"></div>'\n",
    "\n",
    "HTML(centered_resized_gif_code)"
   ]
  },
  {
   "cell_type": "markdown",
   "id": "c9f30145-98bc-4726-adda-5846a9d6571c",
   "metadata": {},
   "source": [
    "<div style=\"text-align: justify;  font-size: 20px;\">Para ser más precisos, la fase de aterrizaje puede ser catalogada como \"Convex Predictive Control\", el cual fue desarrollado en 2013 por Lars Blackmore \"Lossless Convexification\", actualmente el \"Jefe de Control\" en SpaceX<a href=\"http://www.larsblackmore.com/iee_tcst13.pdf\">[Paper]</a>.</div>"
   ]
  },
  {
   "cell_type": "markdown",
   "id": "40ab4b92-5e83-4f5e-a237-a3d7a95d5b9f",
   "metadata": {},
   "source": [
    "<div style=\"text-align: justify;  font-size: 20px;\">El problema de aterrizaje de cohetes es altamente no lineal y no convexo; sin embargo, gracias al trabajo presentado por Lars Blackmore, este problema puede ser abordado como un problema convexo que puede ser resuelto en tiempo real usando tecnicas de optimizacion</div>"
   ]
  },
  {
   "cell_type": "markdown",
   "id": "b2bc6ae3-cc29-4f09-86c6-1292205b2d28",
   "metadata": {},
   "source": [
    "<h3 align=\"left\" style=\"font-size: 20px;\"><font color=\"#667388\"><strong>Conducción Autónoma.</strong></font></h3>\n"
   ]
  },
  {
   "cell_type": "markdown",
   "id": "558a76fc-2fea-437c-8596-62f5ba237188",
   "metadata": {},
   "source": [
    "<div style=\"text-align: justify;  font-size: 20px;\">Otro campo de aplicación se encuentra en los sistemas de conducción autónoma, donde gran parte de estos sistemas utilizan controladores predictivos no lineales (NMPC) con dinámicas simplificadas del sistema (modelo de bicicleta, modelo de un solo rastro). Estos modelos son representaciones muy simples de las dinámicas de los autos; sin embargo, son lo suficientemente precisos para controlar el sistema.</div>"
   ]
  },
  {
   "cell_type": "code",
   "execution_count": 14,
   "id": "a10e08e0-002d-456e-8425-c7adc0d183e9",
   "metadata": {},
   "outputs": [
    {
     "data": {
      "text/html": [
       "<div style=\"display: flex; justify-content: center;\"><img src=\"Video_3.gif\" width=\"800\" height=\"600\"></div>"
      ],
      "text/plain": [
       "<IPython.core.display.HTML object>"
      ]
     },
     "execution_count": 14,
     "metadata": {},
     "output_type": "execute_result"
    }
   ],
   "source": [
    "# Replace 'path/to/your/animated.gif' with the actual path to your gif file\n",
    "gif_path = 'Video_3.gif'\n",
    "\n",
    "# Set the desired width and height\n",
    "new_width = 800\n",
    "new_height = 600\n",
    "\n",
    "# Display the centered gif with reduced size in the Jupyter Notebook\n",
    "centered_resized_gif_code = f'<div style=\"display: flex; justify-content: center;\"><img src=\"{gif_path}\" width=\"{new_width}\" height=\"{new_height}\"></div>'\n",
    "\n",
    "HTML(centered_resized_gif_code)"
   ]
  },
  {
   "cell_type": "markdown",
   "id": "238d2912-61d8-4751-973f-80b4eb53f2a8",
   "metadata": {},
   "source": [
    "<div style=\"text-align: justify;  font-size: 20px;\">Este trabajo está disponible en el siguiente enlace: <a href=\"https://www.research-collection.ethz.ch/bitstream/handle/20.500.11850/351561/08754713.pdf?sequence=1&isAllowed=y\">[Paper]</a></div>"
   ]
  },
  {
   "cell_type": "markdown",
   "id": "8fdc0d33-0260-4e63-897d-d233a4ee7043",
   "metadata": {},
   "source": [
    "<div class=\"alert alert-block alert-warning\" style=\"font-size: 16px;\">\n",
    "  <b>Nota:</b> No obstante, este trabajo no solo abarca NMPC, sino también procesos gaussianos.\n",
    "</div>"
   ]
  },
  {
   "cell_type": "markdown",
   "id": "671668d7-2aa3-43ed-9243-c22f4689a752",
   "metadata": {},
   "source": [
    "<div style=\"text-align: justify;  font-size: 20px;\">Otro campo de aplicación se encuentra en los sistemas de conducción autónoma, donde gran parte de estos sistemas utilizan controladores predictivos no lineales (NMPC) con dinámicas simplificadas del sistema (modelo de bicicleta, modelo de un solo rastro). Estos modelos son representaciones muy simples de las dinámicas de los autos; sin embargo, son lo suficientemente precisos para controlar el sistema.</div>"
   ]
  },
  {
   "cell_type": "markdown",
   "id": "df40c7e9-0980-42ff-8619-158152d9377f",
   "metadata": {},
   "source": [
    "<h3 align=\"left\" style=\"font-size: 20px;\"><font color=\"#667388\"><strong>Robótica en cuadrúpedos.</strong></font></h3>\n"
   ]
  },
  {
   "cell_type": "markdown",
   "id": "0d48f8c3-ce81-4bbf-b6e2-dcd248dacd10",
   "metadata": {},
   "source": [
    "<div style=\"text-align: justify;  font-size: 20px;\"> Un ejemplo destacado es el MIT Mini Cheetah, perteneciente al laboratorio \"MIT Biomimetic Robotics Laboratory\". Este robot es capaz de alcanzar velocidades frontales de hasta $2.45~m/s$ al ejecutar un problema de MPC convexo, conocido como \"Convex MPC\", en su computadora.\n",
    "\n",
    "En términos generales, muchos de estos robots aplican el control predictivo basado en modelo (MPC), aunque con algunas consideraciones. Estas incluyen simplificaciones en el modelo, donde se asume que gran parte de la masa se encuentra en el cuerpo en lugar de las articulaciones, permitiendo así aproximar el sistema a un cuerpo rígido. </div>"
   ]
  },
  {
   "cell_type": "code",
   "execution_count": 15,
   "id": "e231f9de-6a28-4368-80c6-bd9ae4d3a8ce",
   "metadata": {},
   "outputs": [
    {
     "data": {
      "text/html": [
       "<div style=\"display: flex; justify-content: center;\"><img src=\"Video_4.gif\" width=\"800\" height=\"600\"></div>"
      ],
      "text/plain": [
       "<IPython.core.display.HTML object>"
      ]
     },
     "execution_count": 15,
     "metadata": {},
     "output_type": "execute_result"
    }
   ],
   "source": [
    "# Replace 'path/to/your/animated.gif' with the actual path to your gif file\n",
    "gif_path = 'Video_4.gif'\n",
    "\n",
    "# Set the desired width and height\n",
    "new_width = 800\n",
    "new_height = 600\n",
    "\n",
    "# Display the centered gif with reduced size in the Jupyter Notebook\n",
    "centered_resized_gif_code = f'<div style=\"display: flex; justify-content: center;\"><img src=\"{gif_path}\" width=\"{new_width}\" height=\"{new_height}\"></div>'\n",
    "\n",
    "HTML(centered_resized_gif_code)"
   ]
  },
  {
   "cell_type": "markdown",
   "id": "874d4f12-3250-4499-875c-582c548a08c7",
   "metadata": {},
   "source": [
    "<div style=\"text-align: justify;  font-size: 20px;\">Este trabajo está disponible en el siguiente enlace: <a href=\"https://ieeexplore.ieee.org/document/8594448\">[Paper]</a>.</div>"
   ]
  },
  {
   "cell_type": "markdown",
   "id": "f50e906e-6c75-49aa-944d-ab7b16d703c5",
   "metadata": {},
   "source": [
    "<div style=\"text-align: justify;  font-size: 20px;\"> Como dato interesante, el mismo laboratorio, hace 10 años, se encontraba desarrollando controladores basados en impedancia para el control de las articulaciones, extrapolando una técnica ampliamente usada en el control de robots manipuladores.</div>"
   ]
  },
  {
   "cell_type": "code",
   "execution_count": 16,
   "id": "b3c5b637-b7ef-4677-963c-088f386961e0",
   "metadata": {},
   "outputs": [
    {
     "data": {
      "text/html": [
       "<div style=\"display: flex; justify-content: center;\"><img src=\"Video_5.gif\" width=\"800\" height=\"600\"></div>"
      ],
      "text/plain": [
       "<IPython.core.display.HTML object>"
      ]
     },
     "execution_count": 16,
     "metadata": {},
     "output_type": "execute_result"
    }
   ],
   "source": [
    "# Replace 'path/to/your/animated.gif' with the actual path to your gif file\n",
    "gif_path = 'Video_5.gif'\n",
    "\n",
    "# Set the desired width and height\n",
    "new_width = 800\n",
    "new_height = 600\n",
    "\n",
    "# Display the centered gif with reduced size in the Jupyter Notebook\n",
    "centered_resized_gif_code = f'<div style=\"display: flex; justify-content: center;\"><img src=\"{gif_path}\" width=\"{new_width}\" height=\"{new_height}\"></div>'\n",
    "\n",
    "HTML(centered_resized_gif_code)"
   ]
  },
  {
   "cell_type": "markdown",
   "id": "a08283c2-9bf4-48b7-89c2-3e4b1344f3d2",
   "metadata": {},
   "source": [
    "<h3 align=\"left\" style=\"font-size: 20px;\"><font color=\"#667388\"><strong>Robótica humanoide.</strong></font></h3>"
   ]
  },
  {
   "cell_type": "markdown",
   "id": "ffa989aa-6474-431d-a014-7b9ea95c1f65",
   "metadata": {},
   "source": [
    "<div style=\"text-align: justify;  font-size: 20px;\"> Un ejemplo de esta área es el famoso Atlas de Boston Dynamics, un sistema capaz de realizar saltos, moverse en ambientes desafiantes e incluso bailar. Una vez más, esto se logra mediante el control predictivo basado en el modelo MPC, donde el equipo de investigación de Boston está desarrollando algunos de los algoritmos más avanzados de optimización. En este sistema, no se pueden hacer simplificaciones, como en el caso de un cuadrúpedo. Por lo tanto, en esta situación se resuelve un problema de optimización muy complejo, el cual se resuelve en tiempo real y es capaz de realizar todas estas operaciones mencionadas anteriormente.</div>"
   ]
  },
  {
   "cell_type": "markdown",
   "id": "8cf71c65-58f5-4bc5-bb6b-119115ebfc34",
   "metadata": {},
   "source": [
    "<div class=\"alert alert-block alert-warning\" style=\"font-size: 16px;\">  \n",
    "<b>Nota:</b> El controlador MPC está únicamente encargado de llevar a cabo el control del sistema en lazo cerrado. La planificación de rutas o estados, por lo general, se realiza fuera de línea y se basa, en la mayoría de los casos, en optimización no lineal.\n",
    "</div>"
   ]
  },
  {
   "cell_type": "markdown",
   "id": "7808697f-a903-4ddf-b5f4-726c76a230b1",
   "metadata": {},
   "source": [
    "<div class=\"alert alert-block alert-success\" style=\"font-size: 16px;\">  \n",
    "<b>Nota:</b> At the heart of Atlas’s controller is a technique called Model Predictive Control (MPC).   <a href=\"https://bostondynamics.com/blog/picking-up-momentum/\">[Informacion]</a>\n",
    "</div>"
   ]
  },
  {
   "cell_type": "code",
   "execution_count": 18,
   "id": "6a03fb82-3af0-454b-be7c-27302256e253",
   "metadata": {},
   "outputs": [
    {
     "data": {
      "text/html": [
       "<div style=\"display: flex; justify-content: center;\"><img src=\"Video_6.gif\" width=\"800\" height=\"600\"></div>"
      ],
      "text/plain": [
       "<IPython.core.display.HTML object>"
      ]
     },
     "execution_count": 18,
     "metadata": {},
     "output_type": "execute_result"
    }
   ],
   "source": [
    "# Replace 'path/to/your/animated.gif' with the actual path to your gif file\n",
    "gif_path = 'Video_6.gif'\n",
    "\n",
    "# Set the desired width and height\n",
    "new_width = 800\n",
    "new_height = 600\n",
    "\n",
    "# Display the centered gif with reduced size in the Jupyter Notebook\n",
    "centered_resized_gif_code = f'<div style=\"display: flex; justify-content: center;\"><img src=\"{gif_path}\" width=\"{new_width}\" height=\"{new_height}\"></div>'\n",
    "\n",
    "HTML(centered_resized_gif_code)"
   ]
  },
  {
   "cell_type": "code",
   "execution_count": null,
   "id": "4d89a663-9a94-4c20-b8fe-99fe0126bd51",
   "metadata": {},
   "outputs": [],
   "source": []
  }
 ],
 "metadata": {
  "kernelspec": {
   "display_name": "Python 3 (ipykernel)",
   "language": "python",
   "name": "python3"
  },
  "language_info": {
   "codemirror_mode": {
    "name": "ipython",
    "version": 3
   },
   "file_extension": ".py",
   "mimetype": "text/x-python",
   "name": "python",
   "nbconvert_exporter": "python",
   "pygments_lexer": "ipython3",
   "version": "3.8.18"
  }
 },
 "nbformat": 4,
 "nbformat_minor": 5
}
