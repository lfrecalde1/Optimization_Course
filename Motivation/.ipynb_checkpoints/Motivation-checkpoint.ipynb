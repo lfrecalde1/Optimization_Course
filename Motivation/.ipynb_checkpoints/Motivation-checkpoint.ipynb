{
 "cells": [
  {
   "cell_type": "code",
   "execution_count": 5,
   "id": "5fdc819e-a77b-4715-a31a-57fbe5e1732d",
   "metadata": {},
   "outputs": [],
   "source": [
    "from IPython.display import HTML"
   ]
  },
  {
   "cell_type": "markdown",
   "id": "19eb374e-9b9d-4566-98b3-5272d7ce0ce0",
   "metadata": {},
   "source": [
    "<h1 align=\"center\" style=\"font-size: 35px;\"><font color=\"C1772D\"><strong>Aplicación del Control Óptimo en el Campo de la Robótica</strong></font></h1>\n",
    "\n",
    "<h2 align=\"center\"><font color=\"#252929\">Luis F. Recalde<br>Ambato-Ecuador</font></h2>\n",
    "\n",
    "\n",
    "<h3 align=\"center\"><font color=\"#252929\">Universidad Indoamerica</font></h3>"
   ]
  },
  {
   "cell_type": "markdown",
   "id": "ed37a064-6547-48a5-82dc-c109d8fea168",
   "metadata": {},
   "source": [
    "<h3 align=\"left\" style=\"font-size: 25px;\"><font color=\"C1772D\"><strong>¿Para qué es el control óptimo?</strong></font></h3>\n"
   ]
  },
  {
   "cell_type": "markdown",
   "id": "e5f6dfef-f114-4600-acf3-20c033d1adb9",
   "metadata": {},
   "source": [
    "<h3 align=\"left\" style=\"font-size: 20px;\"><font color=\"#667388\"><strong>Ingeniería Aeroespacial.</strong></font></h3>\n"
   ]
  },
  {
   "cell_type": "markdown",
   "id": "1487cb89-c6fa-4590-bfcb-ffa6d53935ad",
   "metadata": {},
   "source": [
    "<div style=\"text-align: justify; font-size: 20px;\">El control óptimo tuvo su origen en el campo de la ingeniería aeroespacial, específicamente en el diseño de trayectorias para cohetes y posteriormente en la planificación de rutas hacia la luna.</div>\n",
    "\n",
    "\n",
    "<div style=\"text-align: justify; font-size: 20px;\">Un ejemplo ilustrativo es la generación de la trayectoria de un cohete desde la Tierra hasta Marte.</div>\n",
    "\n"
   ]
  },
  {
   "cell_type": "code",
   "execution_count": 7,
   "id": "f8200faf-f754-43a6-88e1-c61044d66920",
   "metadata": {},
   "outputs": [
    {
     "data": {
      "text/html": [
       "<div style=\"display: flex; justify-content: center;\">\n",
       "<video width=\"800\" height=\"600\" controls>\n",
       "  <source src=\"Video_1.mp4\" type=\"video/mp4\">\n",
       "  Your browser does not support the video tag.\n",
       "</video>\n",
       "</div>"
      ],
      "text/plain": [
       "<IPython.core.display.HTML object>"
      ]
     },
     "execution_count": 7,
     "metadata": {},
     "output_type": "execute_result"
    }
   ],
   "source": [
    "video_code = \"\"\"\n",
    "<video width=\"800\" height=\"600\" controls>\n",
    "  <source src=\"Video_1.mp4\" type=\"video/mp4\">\n",
    "  Your browser does not support the video tag.\n",
    "</video>\n",
    "\"\"\"\n",
    "centered_video_code = f'<div style=\"display: flex; justify-content: center;\">{video_code}</div>'\n",
    "\n",
    "HTML(centered_video_code)"
   ]
  },
  {
   "cell_type": "markdown",
   "id": "1b5da954-282c-4753-9d9a-7f455ad4de79",
   "metadata": {},
   "source": [
    "<div style=\"text-align: justify;  font-size: 20px;\">Este problema se aborda mediante \"non-linear trajectory optimization\" desarrollado a travez del algoritmo \"Direct Collocation\"</div>\n"
   ]
  },
  {
   "cell_type": "markdown",
   "id": "2757a47b-010e-458f-8b70-1c95319ac728",
   "metadata": {},
   "source": [
    "<div style=\"text-align: justify;  font-size: 20px;\">Por otro lado, en la actualidad, el control óptimo se utiliza para el aterrizaje automático de cohetes, por ejemplo, en SpaceX y sus cohetes reutilizables. </div>\n"
   ]
  },
  {
   "cell_type": "code",
   "execution_count": 8,
   "id": "a6aa4e71-31f5-49fc-847f-aa7f3df32a1b",
   "metadata": {},
   "outputs": [
    {
     "data": {
      "text/html": [
       "<div style=\"display: flex; justify-content: center;\">\n",
       "<video width=\"800\" height=\"600\" controls>\n",
       "  <source src=\"Video_2.mp4\" type=\"video/mp4\">\n",
       "  Your browser does not support the video tag.\n",
       "</video>\n",
       "</div>"
      ],
      "text/plain": [
       "<IPython.core.display.HTML object>"
      ]
     },
     "execution_count": 8,
     "metadata": {},
     "output_type": "execute_result"
    }
   ],
   "source": [
    "video_code = \"\"\"\n",
    "<video width=\"800\" height=\"600\" controls>\n",
    "  <source src=\"Video_2.mp4\" type=\"video/mp4\">\n",
    "  Your browser does not support the video tag.\n",
    "</video>\n",
    "\"\"\"\n",
    "centered_video_code = f'<div style=\"display: flex; justify-content: center;\">{video_code}</div>'\n",
    "\n",
    "HTML(centered_video_code)"
   ]
  },
  {
   "cell_type": "markdown",
   "id": "c9f30145-98bc-4726-adda-5846a9d6571c",
   "metadata": {},
   "source": [
    "<div style=\"text-align: justify;  font-size: 20px;\">Para ser más precisos, la fase de aterrizaje puede ser catalogada como \"Convex Predictive Control\", el cual fue desarrollado en 2013 por Lars Blackmore \"Lossless Convexification\", actualmente el \"Jefe de Control\" en SpaceX<a href=\"http://www.larsblackmore.com/iee_tcst13.pdf\">[Paper]</a>.</div>"
   ]
  },
  {
   "cell_type": "markdown",
   "id": "40ab4b92-5e83-4f5e-a237-a3d7a95d5b9f",
   "metadata": {},
   "source": [
    "<div style=\"text-align: justify;  font-size: 20px;\">El problema de aterrizaje de cohetes es altamente no lineal y no convexo; sin embargo, gracias al trabajo presentado por Lars Blackmore, este problema puede ser abordado como un problema convexo que puede ser resuelto en tiempo real usando tecnicas de optimizacion</div>"
   ]
  },
  {
   "cell_type": "markdown",
   "id": "b2bc6ae3-cc29-4f09-86c6-1292205b2d28",
   "metadata": {},
   "source": [
    "<h3 align=\"left\" style=\"font-size: 20px;\"><font color=\"#667388\"><strong>Conducción Autónoma.</strong></font></h3>\n"
   ]
  },
  {
   "cell_type": "markdown",
   "id": "558a76fc-2fea-437c-8596-62f5ba237188",
   "metadata": {},
   "source": [
    "<div style=\"text-align: justify;  font-size: 20px;\">Otro campo de aplicación se encuentra en los sistemas de conducción autónoma, donde gran parte de estos sistemas utilizan controladores predictivos no lineales (NMPC) con dinámicas simplificadas del sistema (modelo de bicicleta, modelo de un solo rastro). Estos modelos son representaciones muy simples de las dinámicas de los autos; sin embargo, son lo suficientemente precisos para controlar el sistema.</div>"
   ]
  },
  {
   "cell_type": "code",
   "execution_count": 9,
   "id": "a10e08e0-002d-456e-8425-c7adc0d183e9",
   "metadata": {},
   "outputs": [
    {
     "data": {
      "text/html": [
       "<div style=\"display: flex; justify-content: center;\">\n",
       "<video width=\"800\" height=\"600\" controls>\n",
       "  <source src=\"Video_3.mp4\" type=\"video/mp4\">\n",
       "  Your browser does not support the video tag.\n",
       "</video>\n",
       "</div>"
      ],
      "text/plain": [
       "<IPython.core.display.HTML object>"
      ]
     },
     "execution_count": 9,
     "metadata": {},
     "output_type": "execute_result"
    }
   ],
   "source": [
    "video_code = \"\"\"\n",
    "<video width=\"800\" height=\"600\" controls>\n",
    "  <source src=\"Video_3.mp4\" type=\"video/mp4\">\n",
    "  Your browser does not support the video tag.\n",
    "</video>\n",
    "\"\"\"\n",
    "centered_video_code = f'<div style=\"display: flex; justify-content: center;\">{video_code}</div>'\n",
    "\n",
    "HTML(centered_video_code)"
   ]
  },
  {
   "cell_type": "markdown",
   "id": "238d2912-61d8-4751-973f-80b4eb53f2a8",
   "metadata": {},
   "source": [
    "<div style=\"text-align: justify;  font-size: 20px;\">Este trabajo está disponible en el siguiente enlace: <a href=\"https://www.research-collection.ethz.ch/bitstream/handle/20.500.11850/351561/08754713.pdf?sequence=1&isAllowed=y\">[Paper]</a>. No obstante, también abarca NMPC y procesos gaussianos.</div>"
   ]
  },
  {
   "cell_type": "markdown",
   "id": "671668d7-2aa3-43ed-9243-c22f4689a752",
   "metadata": {},
   "source": [
    "<div style=\"text-align: justify;  font-size: 20px;\">Otro campo de aplicación se encuentra en los sistemas de conducción autónoma, donde gran parte de estos sistemas utilizan controladores predictivos no lineales (NMPC) con dinámicas simplificadas del sistema (modelo de bicicleta, modelo de un solo rastro). Estos modelos son representaciones muy simples de las dinámicas de los autos; sin embargo, son lo suficientemente precisos para controlar el sistema.</div>"
   ]
  },
  {
   "cell_type": "markdown",
   "id": "df40c7e9-0980-42ff-8619-158152d9377f",
   "metadata": {},
   "source": [
    "<h3 align=\"left\" style=\"font-size: 20px;\"><font color=\"#667388\"><strong>Robótica en cuadrúpedos.</strong></font></h3>\n"
   ]
  },
  {
   "cell_type": "markdown",
   "id": "0d48f8c3-ce81-4bbf-b6e2-dcd248dacd10",
   "metadata": {},
   "source": [
    "<div style=\"text-align: justify;  font-size: 20px;\"> Un ejemplo destacado es el MIT Mini Cheetah, perteneciente al laboratorio \"MIT Biomimetic Robotics Laboratory\". Este robot es capaz de alcanzar velocidades frontales de hasta $2.45~m/s$ al ejecutar un problema de MPC convexo, conocido como \"Convex MPC\", en su computadora.\n",
    "\n",
    "En términos generales, muchos de estos robots aplican el control predictivo basado en modelo (MPC), aunque con algunas consideraciones. Estas incluyen simplificaciones en el modelo, donde se asume que gran parte de la masa se encuentra en el cuerpo en lugar de las articulaciones, permitiendo así aproximar el sistema a un cuerpo rígido. </div>"
   ]
  },
  {
   "cell_type": "markdown",
   "id": "345fea23-a334-4658-b9ad-9fd63a9a30e8",
   "metadata": {},
   "source": [
    "video_code = \"\"\"\n",
    "<video width=\"800\" height=\"600\" controls>\n",
    "  <source src=\"Video_3.mp4\" type=\"video/mp4\">\n",
    "  Your browser does not support the video tag.\n",
    "</video>\n",
    "\"\"\"\n",
    "centered_video_code = f'<div style=\"display: flex; justify-content: center;\">{video_code}</div>'\n",
    "\n",
    "HTML(centered_video_code)"
   ]
  },
  {
   "cell_type": "code",
   "execution_count": null,
   "id": "e8c3ee12-538f-4359-b915-e51a8fd4ebfd",
   "metadata": {},
   "outputs": [],
   "source": []
  }
 ],
 "metadata": {
  "kernelspec": {
   "display_name": "Python 3 (ipykernel)",
   "language": "python",
   "name": "python3"
  },
  "language_info": {
   "codemirror_mode": {
    "name": "ipython",
    "version": 3
   },
   "file_extension": ".py",
   "mimetype": "text/x-python",
   "name": "python",
   "nbconvert_exporter": "python",
   "pygments_lexer": "ipython3",
   "version": "3.8.18"
  }
 },
 "nbformat": 4,
 "nbformat_minor": 5
}
